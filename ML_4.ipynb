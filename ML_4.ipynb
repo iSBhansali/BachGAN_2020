{
  "nbformat": 4,
  "nbformat_minor": 0,
  "metadata": {
    "kernelspec": {
      "name": "python3",
      "display_name": "Python 3"
    },
    "language_info": {
      "codemirror_mode": {
        "name": "ipython",
        "version": 3
      },
      "file_extension": ".py",
      "mimetype": "text/x-python",
      "name": "python",
      "nbconvert_exporter": "python",
      "pygments_lexer": "ipython3",
      "version": "3.7.3"
    },
    "colab": {
      "name": "ML_4",
      "provenance": [],
      "collapsed_sections": [],
      "toc_visible": true,
      "machine_shape": "hm"
    },
    "accelerator": "GPU"
  },
  "cells": [
    {
      "cell_type": "code",
      "metadata": {
        "id": "TD5tVVGcJ4ey",
        "colab": {
          "base_uri": "https://localhost:8080/"
        },
        "outputId": "d2d0040c-09d8-4da6-8247-38b544b2ebd4"
      },
      "source": [
        "!git clone https://github.com/Cold-Winter/BachGAN.git"
      ],
      "execution_count": null,
      "outputs": [
        {
          "output_type": "stream",
          "text": [
            "Cloning into 'BachGAN'...\n",
            "remote: Enumerating objects: 168, done.\u001b[K\n",
            "remote: Counting objects: 100% (168/168), done.\u001b[K\n",
            "remote: Compressing objects: 100% (153/153), done.\u001b[K\n",
            "remote: Total 168 (delta 55), reused 97 (delta 13), pack-reused 0\u001b[K\n",
            "Receiving objects: 100% (168/168), 15.64 MiB | 9.69 MiB/s, done.\n",
            "Resolving deltas: 100% (55/55), done.\n"
          ],
          "name": "stdout"
        }
      ]
    },
    {
      "cell_type": "markdown",
      "metadata": {
        "id": "YgNKBJOhhgBI"
      },
      "source": [
        "# New Section"
      ]
    },
    {
      "cell_type": "code",
      "metadata": {
        "id": "-03qe0bR2lIb",
        "colab": {
          "base_uri": "https://localhost:8080/"
        },
        "outputId": "9b416f77-8585-4924-e5e2-c11887254077"
      },
      "source": [
        "%cd .."
      ],
      "execution_count": null,
      "outputs": [
        {
          "output_type": "stream",
          "text": [
            "/\n"
          ],
          "name": "stdout"
        }
      ]
    },
    {
      "cell_type": "code",
      "metadata": {
        "id": "-GC5UFHh2pbw",
        "colab": {
          "base_uri": "https://localhost:8080/"
        },
        "outputId": "d7c9c82a-e20c-49ad-a963-96475844b878"
      },
      "source": [
        "%cd ./ade_model/\n"
      ],
      "execution_count": null,
      "outputs": [
        {
          "output_type": "stream",
          "text": [
            "[Errno 2] No such file or directory: './ade_model/'\n",
            "/\n"
          ],
          "name": "stdout"
        }
      ]
    },
    {
      "cell_type": "code",
      "metadata": {
        "id": "WFg_ZHnB2s5z",
        "colab": {
          "base_uri": "https://localhost:8080/"
        },
        "outputId": "0e73c4b5-db40-4230-aaf3-809eb14144fb"
      },
      "source": [
        "%cd ..\n"
      ],
      "execution_count": null,
      "outputs": [
        {
          "output_type": "stream",
          "text": [
            "/\n"
          ],
          "name": "stdout"
        }
      ]
    },
    {
      "cell_type": "code",
      "metadata": {
        "id": "iywa_tlr23t6",
        "colab": {
          "base_uri": "https://localhost:8080/"
        },
        "outputId": "14fb77cb-17f4-4d36-b870-2e6b011f9433"
      },
      "source": [
        "%cd ..\n"
      ],
      "execution_count": null,
      "outputs": [
        {
          "output_type": "stream",
          "text": [
            "/\n"
          ],
          "name": "stdout"
        }
      ]
    },
    {
      "cell_type": "code",
      "metadata": {
        "id": "PeE8Pius26s1",
        "colab": {
          "base_uri": "https://localhost:8080/"
        },
        "outputId": "fddb4123-5fa7-47c1-da9a-bef356e7de8a"
      },
      "source": [
        "%cd ./datasets/"
      ],
      "execution_count": null,
      "outputs": [
        {
          "output_type": "stream",
          "text": [
            "[Errno 2] No such file or directory: './datasets/'\n",
            "/\n"
          ],
          "name": "stdout"
        }
      ]
    },
    {
      "cell_type": "code",
      "metadata": {
        "id": "krNAFrVt3C-I",
        "colab": {
          "base_uri": "https://localhost:8080/",
          "height": 51
        },
        "outputId": "3fb87dd0-0885-4ab8-e246-489bffd1b647"
      },
      "source": [
        "!w get http://data.csail.mit.edu/places/ADEchallenge/ADEChallengeData2016.zip"
      ],
      "execution_count": null,
      "outputs": [
        {
          "output_type": "stream",
          "text": [
            " 12:47:38 up 6 min,  0 users,  load average: 0.00, 0.03, 0.01\n",
            "USER     TTY      FROM             LOGIN@   IDLE   JCPU   PCPU WHAT\n"
          ],
          "name": "stdout"
        }
      ]
    },
    {
      "cell_type": "code",
      "metadata": {
        "id": "TqsOXKF93f81",
        "colab": {
          "base_uri": "https://localhost:8080/",
          "height": 35
        },
        "outputId": "9157c360-a0aa-4d8c-b858-5d88e75a83a3"
      },
      "source": [
        "%pwd"
      ],
      "execution_count": null,
      "outputs": [
        {
          "output_type": "execute_result",
          "data": {
            "application/vnd.google.colaboratory.intrinsic+json": {
              "type": "string"
            },
            "text/plain": [
              "'/'"
            ]
          },
          "metadata": {
            "tags": []
          },
          "execution_count": 18
        }
      ]
    },
    {
      "cell_type": "code",
      "metadata": {
        "id": "LNenDud03wnr",
        "colab": {
          "base_uri": "https://localhost:8080/",
          "height": 153
        },
        "outputId": "d400bd61-c52f-4126-a969-e113a38d5cb0"
      },
      "source": [
        "!wget http://data.csail.mit.edu/places/ADEchallenge/ADEChallengeData2016.zip"
      ],
      "execution_count": null,
      "outputs": [
        {
          "output_type": "stream",
          "text": [
            "--2020-10-13 12:47:38--  http://data.csail.mit.edu/places/ADEchallenge/ADEChallengeData2016.zip\n",
            "Resolving data.csail.mit.edu (data.csail.mit.edu)... 128.52.129.40\n",
            "Connecting to data.csail.mit.edu (data.csail.mit.edu)|128.52.129.40|:80... connected.\n",
            "HTTP request sent, awaiting response... 200 OK\n",
            "Length: 967382037 (923M) [application/zip]\n",
            "Saving to: ‘ADEChallengeData2016.zip’\n",
            "\n",
            "ADEChallengeData201   3%[                    ]  30.15M  1.47MB/s    eta 9m 42s ^C\n"
          ],
          "name": "stdout"
        }
      ]
    },
    {
      "cell_type": "code",
      "metadata": {
        "id": "H0sk0S3U5PK4",
        "colab": {
          "base_uri": "https://localhost:8080/",
          "height": 34
        },
        "outputId": "fb4d6aa3-6fd0-4f0b-da8a-8f24930f6570"
      },
      "source": [
        "!pwd"
      ],
      "execution_count": null,
      "outputs": [
        {
          "output_type": "stream",
          "text": [
            "/\n"
          ],
          "name": "stdout"
        }
      ]
    },
    {
      "cell_type": "code",
      "metadata": {
        "id": "Oxt_St1sAr8p",
        "colab": {
          "base_uri": "https://localhost:8080/",
          "height": 34
        },
        "outputId": "e69ebea2-198e-469b-b61d-6d744b9662a1"
      },
      "source": [
        "cd .."
      ],
      "execution_count": null,
      "outputs": [
        {
          "output_type": "stream",
          "text": [
            "/\n"
          ],
          "name": "stdout"
        }
      ]
    },
    {
      "cell_type": "code",
      "metadata": {
        "id": "3al16h1kAumX",
        "colab": {
          "base_uri": "https://localhost:8080/",
          "height": 34
        },
        "outputId": "862d1224-e27f-4eef-b43a-07b40eb38657"
      },
      "source": [
        "! mv /content/validation.zip /content/BachGAN/Bachgan/ade_retrieval"
      ],
      "execution_count": null,
      "outputs": [
        {
          "output_type": "stream",
          "text": [
            "mv: cannot stat '/content/validation.zip': No such file or directory\n"
          ],
          "name": "stdout"
        }
      ]
    },
    {
      "cell_type": "code",
      "metadata": {
        "id": "3IWLjMoeBPlM",
        "colab": {
          "base_uri": "https://localhost:8080/",
          "height": 52
        },
        "outputId": "2bc0199b-79b6-4b81-b9bc-c1e195ca4945"
      },
      "source": [
        "%cd /content/BachGAN/Bachgan/ade_model\n"
      ],
      "execution_count": null,
      "outputs": [
        {
          "output_type": "stream",
          "text": [
            "[Errno 2] No such file or directory: '/content/BachGAN/Bachgan/ade_model'\n",
            "/\n"
          ],
          "name": "stdout"
        }
      ]
    },
    {
      "cell_type": "code",
      "metadata": {
        "id": "k2P9TiPWBZNO",
        "colab": {
          "base_uri": "https://localhost:8080/",
          "height": 52
        },
        "outputId": "b4e6ad01-b237-4da1-d49e-fe35109af4e9"
      },
      "source": [
        "cd /content/BachGAN/Bachgan/ade_model"
      ],
      "execution_count": null,
      "outputs": [
        {
          "output_type": "stream",
          "text": [
            "[Errno 2] No such file or directory: '/content/BachGAN/Bachgan/ade_model'\n",
            "/\n"
          ],
          "name": "stdout"
        }
      ]
    },
    {
      "cell_type": "code",
      "metadata": {
        "id": "GvWdSm2PCY4_",
        "colab": {
          "base_uri": "https://localhost:8080/",
          "height": 143
        },
        "outputId": "672bd871-1b43-4739-e6bc-2ecbd1530d4c"
      },
      "source": [
        "!wget https://knightsucfedu39751-my.sharepoint.com/personal/liyandong_knights_ucf_edu/_layouts/15/onedrive.aspx?originalPath=aHR0cHM6Ly9rbmlnaHRzdWNmZWR1Mzk3NTEtbXkuc2hhcmVwb2ludC5jb20vOmY6L2cvcGVyc29uYWwvbGl5YW5kb25nX2tuaWdodHNfdWNmX2VkdS9FaFNoZmJDd2RGSkFvZW5WZnczRmNTRUJQMXFlLVJXYTA1Q2FDTXZKalExd2dRP3J0aW1lPWZ2eFpDc2x0MkVn&id=%2Fpersonal%2Fliyandong%5Fknights%5Fucf%5Fedu%2FDocuments%2Fdailylife%2Fcode%5Fto%5Fshare%2FBachGan%2Fade%5Fmodel"
      ],
      "execution_count": null,
      "outputs": [
        {
          "output_type": "stream",
          "text": [
            "--2020-10-13 12:47:59--  https://knightsucfedu39751-my.sharepoint.com/personal/liyandong_knights_ucf_edu/_layouts/15/onedrive.aspx?originalPath=aHR0cHM6Ly9rbmlnaHRzdWNmZWR1Mzk3NTEtbXkuc2hhcmVwb2ludC5jb20vOmY6L2cvcGVyc29uYWwvbGl5YW5kb25nX2tuaWdodHNfdWNmX2VkdS9FaFNoZmJDd2RGSkFvZW5WZnczRmNTRUJQMXFlLVJXYTA1Q2FDTXZKalExd2dRP3J0aW1lPWZ2eFpDc2x0MkVn\n",
            "Resolving knightsucfedu39751-my.sharepoint.com (knightsucfedu39751-my.sharepoint.com)... 13.107.136.9\n",
            "Connecting to knightsucfedu39751-my.sharepoint.com (knightsucfedu39751-my.sharepoint.com)|13.107.136.9|:443... connected.\n",
            "HTTP request sent, awaiting response... 403 Forbidden\n",
            "2020-10-13 12:47:59 ERROR 403: Forbidden.\n",
            "\n"
          ],
          "name": "stdout"
        }
      ]
    },
    {
      "cell_type": "code",
      "metadata": {
        "id": "i1Il0wueDijJ",
        "colab": {
          "base_uri": "https://localhost:8080/",
          "height": 52
        },
        "outputId": "9e08b388-c6dd-4caf-fdcd-2c364d5deb50"
      },
      "source": [
        "%cd /content/BachGAN/Bachgan/ade_model"
      ],
      "execution_count": null,
      "outputs": [
        {
          "output_type": "stream",
          "text": [
            "[Errno 2] No such file or directory: '/content/BachGAN/Bachgan/ade_model'\n",
            "/\n"
          ],
          "name": "stdout"
        }
      ]
    },
    {
      "cell_type": "code",
      "metadata": {
        "id": "QNZ5YcHbSExw"
      },
      "source": [
        "from google.colab import drive"
      ],
      "execution_count": null,
      "outputs": []
    },
    {
      "cell_type": "code",
      "metadata": {
        "id": "3ntJMRFdS4KT"
      },
      "source": [
        "drive.mount('/content/drive')"
      ],
      "execution_count": null,
      "outputs": []
    },
    {
      "cell_type": "code",
      "metadata": {
        "id": "8nC3Gpg5S9NK"
      },
      "source": [
        "!cp \"/content/drive/My Drive/150_net_G.pth\" \"/content/BachGAN/Bachgan/ade_model\""
      ],
      "execution_count": null,
      "outputs": []
    },
    {
      "cell_type": "code",
      "metadata": {
        "id": "lgrsKX5ETePn"
      },
      "source": [
        "!pwd"
      ],
      "execution_count": null,
      "outputs": []
    },
    {
      "cell_type": "code",
      "metadata": {
        "id": "ydiWyh6YThQ2"
      },
      "source": [
        "%cd /content/BachGAN/datasets"
      ],
      "execution_count": null,
      "outputs": []
    },
    {
      "cell_type": "code",
      "metadata": {
        "id": "IqitG3YRUFUR"
      },
      "source": [
        "!unzip ADEChallengeData2016.zip"
      ],
      "execution_count": null,
      "outputs": []
    },
    {
      "cell_type": "code",
      "metadata": {
        "id": "19ootF1VULwb"
      },
      "source": [
        "!pip install -r requirements.txt"
      ],
      "execution_count": null,
      "outputs": []
    },
    {
      "cell_type": "code",
      "metadata": {
        "id": "59r2u1y4UfA9"
      },
      "source": [
        "%cd /content/BachGAN"
      ],
      "execution_count": null,
      "outputs": []
    },
    {
      "cell_type": "code",
      "metadata": {
        "id": "TB6tzQ_CUkMF"
      },
      "source": [
        "!mv BachGan/ade_retrieval/validation.zip datasets/ADEChallengeData2016/retrival_halfset/"
      ],
      "execution_count": null,
      "outputs": []
    },
    {
      "cell_type": "code",
      "metadata": {
        "id": "gFoEU1VqVAww"
      },
      "source": [
        "%mv BachGan/ade_retrieval/validation.zip datasets/ADEChallengeData2016/retrival_halfset/"
      ],
      "execution_count": null,
      "outputs": []
    },
    {
      "cell_type": "code",
      "metadata": {
        "id": "NVptVhncVDjQ"
      },
      "source": [
        "!mv /content/BachGAN/Bachgan/ade_retrieval/validation.zip /content/BachGAN/datasets/ADEChallengeData2016/retrival_halfset"
      ],
      "execution_count": null,
      "outputs": []
    },
    {
      "cell_type": "code",
      "metadata": {
        "id": "kRKaIgqHVrm8"
      },
      "source": [
        "%cd /content/BachGAN/datasets/ADEChallengeData2016/retrival_halfset"
      ],
      "execution_count": null,
      "outputs": []
    },
    {
      "cell_type": "code",
      "metadata": {
        "id": "zGSkWPOjV3ca"
      },
      "source": [
        "unzip validation.zip"
      ],
      "execution_count": null,
      "outputs": []
    },
    {
      "cell_type": "code",
      "metadata": {
        "id": "cAVhSeAOV8V-"
      },
      "source": [
        "!unzip validation.zip"
      ],
      "execution_count": null,
      "outputs": []
    },
    {
      "cell_type": "code",
      "metadata": {
        "id": "8X9Z24B1V_hP"
      },
      "source": [
        "!git clone https://github.com/CSAILVision/sceneparsing"
      ],
      "execution_count": null,
      "outputs": []
    },
    {
      "cell_type": "code",
      "metadata": {
        "id": "vjUr4rEtWUTA"
      },
      "source": [
        "%cd /content/BachGAN"
      ],
      "execution_count": null,
      "outputs": []
    },
    {
      "cell_type": "code",
      "metadata": {
        "id": "t7MdWwx_WaIU"
      },
      "source": [
        "!git clone https://github.com/CSAILVision/sceneparsing"
      ],
      "execution_count": null,
      "outputs": []
    },
    {
      "cell_type": "code",
      "metadata": {
        "id": "hix1ameaWdhz"
      },
      "source": [
        "%cd /content/BachGAN/datasets/ADEChallengeData2016"
      ],
      "execution_count": null,
      "outputs": []
    },
    {
      "cell_type": "code",
      "metadata": {
        "id": "8Em1KKLZWl2X"
      },
      "source": [
        "!git clone https://github.com/CSAILVision/sceneparsi"
      ],
      "execution_count": null,
      "outputs": []
    },
    {
      "cell_type": "code",
      "metadata": {
        "id": "7Bb5N8NKWnzk"
      },
      "source": [
        "!git clone https://github.com/CSAILVision/sceneparsing"
      ],
      "execution_count": null,
      "outputs": []
    },
    {
      "cell_type": "code",
      "metadata": {
        "id": "ga87iLaGWrBB"
      },
      "source": [
        "%cd /content/BachGAN"
      ],
      "execution_count": null,
      "outputs": []
    },
    {
      "cell_type": "code",
      "metadata": {
        "id": "7neqII-sW56Z"
      },
      "source": [
        "%cd /content/BachGAN/checkpoints"
      ],
      "execution_count": null,
      "outputs": []
    },
    {
      "cell_type": "code",
      "metadata": {
        "id": "Zzjy4n0XXLcN"
      },
      "source": [
        "!mkdir ade_box_retrival_hallucinate"
      ],
      "execution_count": null,
      "outputs": []
    },
    {
      "cell_type": "code",
      "metadata": {
        "id": "Pccod735X6yB"
      },
      "source": [
        "!pwd"
      ],
      "execution_count": null,
      "outputs": []
    },
    {
      "cell_type": "code",
      "metadata": {
        "id": "_yr0HeD2YBAe"
      },
      "source": [
        "!python test.py --name ./ade_box_retrival_hallucinate/ --dataset_mode ade20k --dataroot ./datasets/ADEChallengeData2016/ --retrival_memory --batchSize=14 --gpu_id=0,1 --which_epoch=150"
      ],
      "execution_count": null,
      "outputs": []
    },
    {
      "cell_type": "code",
      "metadata": {
        "id": "PnpxW6IkZcp7"
      },
      "source": [
        "!pwd"
      ],
      "execution_count": null,
      "outputs": []
    },
    {
      "cell_type": "code",
      "metadata": {
        "id": "391338mtZfG8"
      },
      "source": [
        "%cd  /content/BachGAN"
      ],
      "execution_count": null,
      "outputs": []
    },
    {
      "cell_type": "code",
      "metadata": {
        "id": "A4KWF5GTZidG"
      },
      "source": [
        "!python test.py --name \"/content/BachGAN/checkpoints\" --dataset_mode ade20k --dataroot \"/content/BachGAN/datasets/ADEChallengeData2016\" --retrival_memory --batchSize=14 --gpu_id=0,1 --which_epoch=150"
      ],
      "execution_count": null,
      "outputs": []
    },
    {
      "cell_type": "code",
      "metadata": {
        "id": "zo-5w61nmIPO"
      },
      "source": [
        ""
      ],
      "execution_count": null,
      "outputs": []
    },
    {
      "cell_type": "code",
      "metadata": {
        "id": "JFXfVENvZmiv"
      },
      "source": [
        "!cp \"/content/BachGAN/Bachgan/ade_model/150_net_G.pth\" \"/content/BachGAN/a/ade_box_retrival_hallucinate\""
      ],
      "execution_count": null,
      "outputs": []
    },
    {
      "cell_type": "code",
      "metadata": {
        "id": "fpY82kt8akgU"
      },
      "source": [
        "!cp \"/content/BachGAN/Bachgan/ade_model/150_net_G.pth\" \"/content/BachGAN/a/ade_box_retrival_hallucinate\""
      ],
      "execution_count": null,
      "outputs": []
    },
    {
      "cell_type": "code",
      "metadata": {
        "id": "7iZ4rZG7cDAw"
      },
      "source": [
        "!python test.py --name \"/content/BachGAN/a/ade_box_retrival_hallucinate\" --dataset_mode ade20k --dataroot \"/content/BachGAN/datasets/ADEChallengeData2016\" --retrival_memory --batchSize=14 --gpu_id=0,1 --which_epoch=150"
      ],
      "execution_count": null,
      "outputs": []
    },
    {
      "cell_type": "code",
      "metadata": {
        "id": "pKr7nWRPcU05"
      },
      "source": [
        "%cd /content/BachGAN/checkpoints"
      ],
      "execution_count": null,
      "outputs": []
    },
    {
      "cell_type": "code",
      "metadata": {
        "id": "UsnZAWb2d9iv"
      },
      "source": [
        "!mkdir ade_box_retrival_hallucinate"
      ],
      "execution_count": null,
      "outputs": []
    },
    {
      "cell_type": "code",
      "metadata": {
        "id": "pVX_qL2zeVaN"
      },
      "source": [
        "!cp \"/content/BachGAN/a/ade_box_retrival_hallucinate/150_net_G.pth\" \"/content/BachGAN/checkpoints/ade_box_retrival_hallucinate\""
      ],
      "execution_count": null,
      "outputs": []
    },
    {
      "cell_type": "code",
      "metadata": {
        "id": "sBokCrApehIR"
      },
      "source": [
        "!python test.py --name ./ade_box_retrival_hallucinate/ --dataset_mode ade20k --dataroot ./datasets/ADEChallengeData2016/ --retrival_memory --batchSize=14 --gpu_id=0,1 --which_epoch=150"
      ],
      "execution_count": null,
      "outputs": []
    },
    {
      "cell_type": "code",
      "metadata": {
        "id": "SHDFM3BGenLZ"
      },
      "source": [
        "%cd /content/BachGAN"
      ],
      "execution_count": null,
      "outputs": []
    },
    {
      "cell_type": "code",
      "metadata": {
        "id": "GxGE7sWUerG3"
      },
      "source": [
        "!python test.py"
      ],
      "execution_count": null,
      "outputs": []
    },
    {
      "cell_type": "code",
      "metadata": {
        "id": "pCQaVhZjmrbh"
      },
      "source": [
        "test.py"
      ],
      "execution_count": null,
      "outputs": []
    },
    {
      "cell_type": "code",
      "metadata": {
        "id": "X1EUeqSqm754"
      },
      "source": [
        "!pwd"
      ],
      "execution_count": null,
      "outputs": []
    },
    {
      "cell_type": "code",
      "metadata": {
        "id": "7phXCfUwm-bX"
      },
      "source": [
        "! cp /content/BachGAN/datasets/ADEChallengeData2016 /content/datasets"
      ],
      "execution_count": null,
      "outputs": []
    },
    {
      "cell_type": "code",
      "metadata": {
        "id": "iNXlQn66ohrX"
      },
      "source": [
        "%cd /content/checkpoints"
      ],
      "execution_count": null,
      "outputs": []
    },
    {
      "cell_type": "code",
      "metadata": {
        "id": "eeFqhayipN7B"
      },
      "source": [
        "!mkdir ade_box_retrival_hallucinate"
      ],
      "execution_count": null,
      "outputs": []
    },
    {
      "cell_type": "code",
      "metadata": {
        "id": "E7j3aP8CpVUv"
      },
      "source": [
        "! cp /content/BachGAN/Bachgan/ade_model/150_net_G.pth /content/checkpoints/ade_box_retrival_hallucinate"
      ],
      "execution_count": null,
      "outputs": []
    },
    {
      "cell_type": "code",
      "metadata": {
        "id": "CMKGJNDLppNe"
      },
      "source": [
        "!python test.py --name /content/checkpoints/ade_box_retrival_hallucinate/ --dataset_mode ade20k --dataroot /content/datasets/ADEChallengeData2016 --retrival_memory --batchSize=14 --gpu_id=0,1 --which_epoch=150"
      ],
      "execution_count": null,
      "outputs": []
    },
    {
      "cell_type": "code",
      "metadata": {
        "id": "Mg2e4X9rq4J6"
      },
      "source": [
        "!pwd"
      ],
      "execution_count": null,
      "outputs": []
    },
    {
      "cell_type": "code",
      "metadata": {
        "id": "vl1w2nTFxolH",
        "colab": {
          "base_uri": "https://localhost:8080/",
          "height": 138
        },
        "outputId": "d15a64df-408a-482c-814f-e29979e9cf49"
      },
      "source": [
        "!git clone https://github.com/Cold-Winter/BachGAN.git"
      ],
      "execution_count": null,
      "outputs": [
        {
          "output_type": "stream",
          "text": [
            "Cloning into 'BachGAN'...\n",
            "remote: Enumerating objects: 168, done.\u001b[K\n",
            "remote: Counting objects: 100% (168/168), done.\u001b[K\n",
            "remote: Compressing objects: 100% (153/153), done.\u001b[K\n",
            "remote: Total 168 (delta 55), reused 97 (delta 13), pack-reused 0\u001b[K\n",
            "Receiving objects: 100% (168/168), 15.64 MiB | 28.40 MiB/s, done.\n",
            "Resolving deltas: 100% (55/55), done.\n"
          ],
          "name": "stdout"
        }
      ]
    },
    {
      "cell_type": "code",
      "metadata": {
        "id": "pgDVjVlfxxiQ"
      },
      "source": [
        "!pip install dominate"
      ],
      "execution_count": null,
      "outputs": []
    },
    {
      "cell_type": "code",
      "metadata": {
        "id": "Fzh_vlh_yGE8",
        "colab": {
          "base_uri": "https://localhost:8080/",
          "height": 628
        },
        "outputId": "e725e556-fb09-4ff6-f1c1-1e2a5d8dfeff"
      },
      "source": [
        "from google.colab import drive\n",
        "drive.mount('/content/drive')"
      ],
      "execution_count": null,
      "outputs": [
        {
          "output_type": "error",
          "ename": "KeyboardInterrupt",
          "evalue": "ignored",
          "traceback": [
            "\u001b[0;31m---------------------------------------------------------------------------\u001b[0m",
            "\u001b[0;31mKeyboardInterrupt\u001b[0m                         Traceback (most recent call last)",
            "\u001b[0;32m/usr/local/lib/python3.6/dist-packages/ipykernel/kernelbase.py\u001b[0m in \u001b[0;36m_input_request\u001b[0;34m(self, prompt, ident, parent, password)\u001b[0m\n\u001b[1;32m    728\u001b[0m             \u001b[0;32mtry\u001b[0m\u001b[0;34m:\u001b[0m\u001b[0;34m\u001b[0m\u001b[0;34m\u001b[0m\u001b[0m\n\u001b[0;32m--> 729\u001b[0;31m                 \u001b[0mident\u001b[0m\u001b[0;34m,\u001b[0m \u001b[0mreply\u001b[0m \u001b[0;34m=\u001b[0m \u001b[0mself\u001b[0m\u001b[0;34m.\u001b[0m\u001b[0msession\u001b[0m\u001b[0;34m.\u001b[0m\u001b[0mrecv\u001b[0m\u001b[0;34m(\u001b[0m\u001b[0mself\u001b[0m\u001b[0;34m.\u001b[0m\u001b[0mstdin_socket\u001b[0m\u001b[0;34m,\u001b[0m \u001b[0;36m0\u001b[0m\u001b[0;34m)\u001b[0m\u001b[0;34m\u001b[0m\u001b[0;34m\u001b[0m\u001b[0m\n\u001b[0m\u001b[1;32m    730\u001b[0m             \u001b[0;32mexcept\u001b[0m \u001b[0mException\u001b[0m\u001b[0;34m:\u001b[0m\u001b[0;34m\u001b[0m\u001b[0;34m\u001b[0m\u001b[0m\n",
            "\u001b[0;32m/usr/local/lib/python3.6/dist-packages/jupyter_client/session.py\u001b[0m in \u001b[0;36mrecv\u001b[0;34m(self, socket, mode, content, copy)\u001b[0m\n\u001b[1;32m    802\u001b[0m         \u001b[0;32mtry\u001b[0m\u001b[0;34m:\u001b[0m\u001b[0;34m\u001b[0m\u001b[0;34m\u001b[0m\u001b[0m\n\u001b[0;32m--> 803\u001b[0;31m             \u001b[0mmsg_list\u001b[0m \u001b[0;34m=\u001b[0m \u001b[0msocket\u001b[0m\u001b[0;34m.\u001b[0m\u001b[0mrecv_multipart\u001b[0m\u001b[0;34m(\u001b[0m\u001b[0mmode\u001b[0m\u001b[0;34m,\u001b[0m \u001b[0mcopy\u001b[0m\u001b[0;34m=\u001b[0m\u001b[0mcopy\u001b[0m\u001b[0;34m)\u001b[0m\u001b[0;34m\u001b[0m\u001b[0;34m\u001b[0m\u001b[0m\n\u001b[0m\u001b[1;32m    804\u001b[0m         \u001b[0;32mexcept\u001b[0m \u001b[0mzmq\u001b[0m\u001b[0;34m.\u001b[0m\u001b[0mZMQError\u001b[0m \u001b[0;32mas\u001b[0m \u001b[0me\u001b[0m\u001b[0;34m:\u001b[0m\u001b[0;34m\u001b[0m\u001b[0;34m\u001b[0m\u001b[0m\n",
            "\u001b[0;32m/usr/local/lib/python3.6/dist-packages/zmq/sugar/socket.py\u001b[0m in \u001b[0;36mrecv_multipart\u001b[0;34m(self, flags, copy, track)\u001b[0m\n\u001b[1;32m    490\u001b[0m         \"\"\"\n\u001b[0;32m--> 491\u001b[0;31m         \u001b[0mparts\u001b[0m \u001b[0;34m=\u001b[0m \u001b[0;34m[\u001b[0m\u001b[0mself\u001b[0m\u001b[0;34m.\u001b[0m\u001b[0mrecv\u001b[0m\u001b[0;34m(\u001b[0m\u001b[0mflags\u001b[0m\u001b[0;34m,\u001b[0m \u001b[0mcopy\u001b[0m\u001b[0;34m=\u001b[0m\u001b[0mcopy\u001b[0m\u001b[0;34m,\u001b[0m \u001b[0mtrack\u001b[0m\u001b[0;34m=\u001b[0m\u001b[0mtrack\u001b[0m\u001b[0;34m)\u001b[0m\u001b[0;34m]\u001b[0m\u001b[0;34m\u001b[0m\u001b[0;34m\u001b[0m\u001b[0m\n\u001b[0m\u001b[1;32m    492\u001b[0m         \u001b[0;31m# have first part already, only loop while more to receive\u001b[0m\u001b[0;34m\u001b[0m\u001b[0;34m\u001b[0m\u001b[0;34m\u001b[0m\u001b[0m\n",
            "\u001b[0;32mzmq/backend/cython/socket.pyx\u001b[0m in \u001b[0;36mzmq.backend.cython.socket.Socket.recv\u001b[0;34m()\u001b[0m\n",
            "\u001b[0;32mzmq/backend/cython/socket.pyx\u001b[0m in \u001b[0;36mzmq.backend.cython.socket.Socket.recv\u001b[0;34m()\u001b[0m\n",
            "\u001b[0;32mzmq/backend/cython/socket.pyx\u001b[0m in \u001b[0;36mzmq.backend.cython.socket._recv_copy\u001b[0;34m()\u001b[0m\n",
            "\u001b[0;32m/usr/local/lib/python3.6/dist-packages/zmq/backend/cython/checkrc.pxd\u001b[0m in \u001b[0;36mzmq.backend.cython.checkrc._check_rc\u001b[0;34m()\u001b[0m\n",
            "\u001b[0;31mKeyboardInterrupt\u001b[0m: ",
            "\nDuring handling of the above exception, another exception occurred:\n",
            "\u001b[0;31mKeyboardInterrupt\u001b[0m                         Traceback (most recent call last)",
            "\u001b[0;32m<ipython-input-2-d5df0069828e>\u001b[0m in \u001b[0;36m<module>\u001b[0;34m()\u001b[0m\n\u001b[1;32m      1\u001b[0m \u001b[0;32mfrom\u001b[0m \u001b[0mgoogle\u001b[0m\u001b[0;34m.\u001b[0m\u001b[0mcolab\u001b[0m \u001b[0;32mimport\u001b[0m \u001b[0mdrive\u001b[0m\u001b[0;34m\u001b[0m\u001b[0;34m\u001b[0m\u001b[0m\n\u001b[0;32m----> 2\u001b[0;31m \u001b[0mdrive\u001b[0m\u001b[0;34m.\u001b[0m\u001b[0mmount\u001b[0m\u001b[0;34m(\u001b[0m\u001b[0;34m'/content/drive'\u001b[0m\u001b[0;34m)\u001b[0m\u001b[0;34m\u001b[0m\u001b[0;34m\u001b[0m\u001b[0m\n\u001b[0m",
            "\u001b[0;32m/usr/local/lib/python3.6/dist-packages/google/colab/drive.py\u001b[0m in \u001b[0;36mmount\u001b[0;34m(mountpoint, force_remount, timeout_ms, use_metadata_server)\u001b[0m\n\u001b[1;32m    251\u001b[0m       \u001b[0;32mwith\u001b[0m \u001b[0m_output\u001b[0m\u001b[0;34m.\u001b[0m\u001b[0muse_tags\u001b[0m\u001b[0;34m(\u001b[0m\u001b[0;34m'dfs-auth-dance'\u001b[0m\u001b[0;34m)\u001b[0m\u001b[0;34m:\u001b[0m\u001b[0;34m\u001b[0m\u001b[0;34m\u001b[0m\u001b[0m\n\u001b[1;32m    252\u001b[0m         \u001b[0;32mwith\u001b[0m \u001b[0mopen\u001b[0m\u001b[0;34m(\u001b[0m\u001b[0mfifo\u001b[0m\u001b[0;34m,\u001b[0m \u001b[0;34m'w'\u001b[0m\u001b[0;34m)\u001b[0m \u001b[0;32mas\u001b[0m \u001b[0mfifo_file\u001b[0m\u001b[0;34m:\u001b[0m\u001b[0;34m\u001b[0m\u001b[0;34m\u001b[0m\u001b[0m\n\u001b[0;32m--> 253\u001b[0;31m           \u001b[0mfifo_file\u001b[0m\u001b[0;34m.\u001b[0m\u001b[0mwrite\u001b[0m\u001b[0;34m(\u001b[0m\u001b[0mget_code\u001b[0m\u001b[0;34m(\u001b[0m\u001b[0mauth_prompt\u001b[0m\u001b[0;34m)\u001b[0m \u001b[0;34m+\u001b[0m \u001b[0;34m'\\n'\u001b[0m\u001b[0;34m)\u001b[0m\u001b[0;34m\u001b[0m\u001b[0;34m\u001b[0m\u001b[0m\n\u001b[0m\u001b[1;32m    254\u001b[0m       \u001b[0mwrote_to_fifo\u001b[0m \u001b[0;34m=\u001b[0m \u001b[0;32mTrue\u001b[0m\u001b[0;34m\u001b[0m\u001b[0;34m\u001b[0m\u001b[0m\n\u001b[1;32m    255\u001b[0m     \u001b[0;32melif\u001b[0m \u001b[0mcase\u001b[0m \u001b[0;34m==\u001b[0m \u001b[0;36m5\u001b[0m\u001b[0;34m:\u001b[0m\u001b[0;34m\u001b[0m\u001b[0;34m\u001b[0m\u001b[0m\n",
            "\u001b[0;32m/usr/local/lib/python3.6/dist-packages/ipykernel/kernelbase.py\u001b[0m in \u001b[0;36mraw_input\u001b[0;34m(self, prompt)\u001b[0m\n\u001b[1;32m    702\u001b[0m             \u001b[0mself\u001b[0m\u001b[0;34m.\u001b[0m\u001b[0m_parent_ident\u001b[0m\u001b[0;34m,\u001b[0m\u001b[0;34m\u001b[0m\u001b[0;34m\u001b[0m\u001b[0m\n\u001b[1;32m    703\u001b[0m             \u001b[0mself\u001b[0m\u001b[0;34m.\u001b[0m\u001b[0m_parent_header\u001b[0m\u001b[0;34m,\u001b[0m\u001b[0;34m\u001b[0m\u001b[0;34m\u001b[0m\u001b[0m\n\u001b[0;32m--> 704\u001b[0;31m             \u001b[0mpassword\u001b[0m\u001b[0;34m=\u001b[0m\u001b[0;32mFalse\u001b[0m\u001b[0;34m,\u001b[0m\u001b[0;34m\u001b[0m\u001b[0;34m\u001b[0m\u001b[0m\n\u001b[0m\u001b[1;32m    705\u001b[0m         )\n\u001b[1;32m    706\u001b[0m \u001b[0;34m\u001b[0m\u001b[0m\n",
            "\u001b[0;32m/usr/local/lib/python3.6/dist-packages/ipykernel/kernelbase.py\u001b[0m in \u001b[0;36m_input_request\u001b[0;34m(self, prompt, ident, parent, password)\u001b[0m\n\u001b[1;32m    732\u001b[0m             \u001b[0;32mexcept\u001b[0m \u001b[0mKeyboardInterrupt\u001b[0m\u001b[0;34m:\u001b[0m\u001b[0;34m\u001b[0m\u001b[0;34m\u001b[0m\u001b[0m\n\u001b[1;32m    733\u001b[0m                 \u001b[0;31m# re-raise KeyboardInterrupt, to truncate traceback\u001b[0m\u001b[0;34m\u001b[0m\u001b[0;34m\u001b[0m\u001b[0;34m\u001b[0m\u001b[0m\n\u001b[0;32m--> 734\u001b[0;31m                 \u001b[0;32mraise\u001b[0m \u001b[0mKeyboardInterrupt\u001b[0m\u001b[0;34m\u001b[0m\u001b[0;34m\u001b[0m\u001b[0m\n\u001b[0m\u001b[1;32m    735\u001b[0m             \u001b[0;32melse\u001b[0m\u001b[0;34m:\u001b[0m\u001b[0;34m\u001b[0m\u001b[0;34m\u001b[0m\u001b[0m\n\u001b[1;32m    736\u001b[0m                 \u001b[0;32mbreak\u001b[0m\u001b[0;34m\u001b[0m\u001b[0;34m\u001b[0m\u001b[0m\n",
            "\u001b[0;31mKeyboardInterrupt\u001b[0m: "
          ]
        }
      ]
    },
    {
      "cell_type": "code",
      "metadata": {
        "id": "h7HNGlutycQb"
      },
      "source": [
        "% cd ./datasets"
      ],
      "execution_count": null,
      "outputs": []
    },
    {
      "cell_type": "code",
      "metadata": {
        "id": "lePAM7FCzibN"
      },
      "source": [
        "!wget http://data.csail.mit.edu/places/ADEchallenge/ADEChallengeData2016.zip"
      ],
      "execution_count": null,
      "outputs": []
    },
    {
      "cell_type": "code",
      "metadata": {
        "id": "zQvY0MeszlxM"
      },
      "source": [
        "!unzip /content/datasets/ADEChallengeData2016.zip"
      ],
      "execution_count": null,
      "outputs": []
    },
    {
      "cell_type": "code",
      "metadata": {
        "id": "O7HNx4Sb1CN2"
      },
      "source": [
        "!git clone https://github.com/NVlabs/SPADE.git"
      ],
      "execution_count": null,
      "outputs": []
    },
    {
      "cell_type": "code",
      "metadata": {
        "id": "fk5H6QLX1SDg"
      },
      "source": [
        "!mv /content/datasets/SPADE /content"
      ],
      "execution_count": null,
      "outputs": []
    },
    {
      "cell_type": "code",
      "metadata": {
        "id": "Li6BmULt1dRK"
      },
      "source": [
        "pip install -r /content/BachGAN/requirements.txt"
      ],
      "execution_count": null,
      "outputs": []
    },
    {
      "cell_type": "code",
      "metadata": {
        "id": "WVqTApXK1myf"
      },
      "source": [
        "!pip install -r /content/SPADE/requirements.txt"
      ],
      "execution_count": null,
      "outputs": []
    },
    {
      "cell_type": "code",
      "metadata": {
        "id": "pB4cAH-51wMf"
      },
      "source": [
        "%cd .."
      ],
      "execution_count": null,
      "outputs": []
    },
    {
      "cell_type": "code",
      "metadata": {
        "id": "7iqCadMU13yy"
      },
      "source": [
        "mkdir checkpoints"
      ],
      "execution_count": null,
      "outputs": []
    },
    {
      "cell_type": "code",
      "metadata": {
        "id": "rQpQc4gw2ASQ"
      },
      "source": [
        "%cd ./checkpoints/"
      ],
      "execution_count": null,
      "outputs": []
    },
    {
      "cell_type": "code",
      "metadata": {
        "id": "lvOrGB_j2Fiz"
      },
      "source": [
        "!mkdir ade20k_pretrained"
      ],
      "execution_count": null,
      "outputs": []
    },
    {
      "cell_type": "code",
      "metadata": {
        "id": "rl4boEwz2Tle"
      },
      "source": [
        "!git clone https://github.com/CSAILVision/sceneparsing"
      ],
      "execution_count": null,
      "outputs": []
    },
    {
      "cell_type": "code",
      "metadata": {
        "id": "D_IzfyJz3b7-"
      },
      "source": [
        "%cd /content"
      ],
      "execution_count": null,
      "outputs": []
    },
    {
      "cell_type": "code",
      "metadata": {
        "id": "Z-evZA_u3lWu"
      },
      "source": [
        "!git clone https://github.com/CSAILVision/sceneparsing"
      ],
      "execution_count": null,
      "outputs": []
    },
    {
      "cell_type": "code",
      "metadata": {
        "id": "Q4uQ5Lpj3neh"
      },
      "source": [
        "%cd /content/BachGAN"
      ],
      "execution_count": null,
      "outputs": []
    },
    {
      "cell_type": "code",
      "metadata": {
        "id": "z4tdRDQ03rUg"
      },
      "source": [
        "!git clone https://github.com/CSAILVision/sceneparsing"
      ],
      "execution_count": null,
      "outputs": []
    },
    {
      "cell_type": "code",
      "metadata": {
        "id": "Befh4RE83upj"
      },
      "source": [
        "cd .."
      ],
      "execution_count": null,
      "outputs": []
    },
    {
      "cell_type": "code",
      "metadata": {
        "id": "9_MjE4su3xYq"
      },
      "source": [
        "! cp sceneparsing ../"
      ],
      "execution_count": null,
      "outputs": []
    },
    {
      "cell_type": "code",
      "metadata": {
        "id": "MJm6xZgs36Pa"
      },
      "source": [
        "%cd /content/drive/My Drive"
      ],
      "execution_count": null,
      "outputs": []
    },
    {
      "cell_type": "code",
      "metadata": {
        "id": "EThUEsPX4RpG"
      },
      "source": [
        "!unzip validation.zip"
      ],
      "execution_count": null,
      "outputs": []
    },
    {
      "cell_type": "code",
      "metadata": {
        "id": "6JP2Ef-44VPq"
      },
      "source": [
        "!cp \"/content/drive/My Drive/validation\" /content/datasets/ADEChallengeData2016/retrival_halfset"
      ],
      "execution_count": null,
      "outputs": []
    },
    {
      "cell_type": "code",
      "metadata": {
        "id": "LJwmiyQT5EWT"
      },
      "source": [
        "%cd \"/content/drive/My Drive/validation\""
      ],
      "execution_count": null,
      "outputs": []
    },
    {
      "cell_type": "code",
      "metadata": {
        "id": "XeRsZWtE5hBD"
      },
      "source": [
        "cd .."
      ],
      "execution_count": null,
      "outputs": []
    },
    {
      "cell_type": "code",
      "metadata": {
        "id": "DkptnQ955kVd"
      },
      "source": [
        "!cp validation.zip /content/datasets/ADEChallengeData2016/retrival_halfset"
      ],
      "execution_count": null,
      "outputs": []
    },
    {
      "cell_type": "code",
      "metadata": {
        "id": "Nki_OENX5yP4"
      },
      "source": [
        "!unzip /content/datasets/ADEChallengeData2016/retrival_halfset/validation.zip"
      ],
      "execution_count": null,
      "outputs": []
    },
    {
      "cell_type": "code",
      "metadata": {
        "id": "RAc7zZtK6GW5"
      },
      "source": [
        "%cd /content/drive/My Drive/"
      ],
      "execution_count": null,
      "outputs": []
    },
    {
      "cell_type": "code",
      "metadata": {
        "id": "kdJlMk5h6Z-J"
      },
      "source": [
        "!unzip validation.zip"
      ],
      "execution_count": null,
      "outputs": []
    },
    {
      "cell_type": "code",
      "metadata": {
        "id": "OvzZe80K6fT9"
      },
      "source": [
        "!cp 150_net_G.pth /content/checkpoints/ade20k_pretrained/"
      ],
      "execution_count": null,
      "outputs": []
    },
    {
      "cell_type": "code",
      "metadata": {
        "id": "BQ9Dw3Hv61g5"
      },
      "source": [
        "!git clone https://github.com/CSAILVision/sceneparsing\n"
      ],
      "execution_count": null,
      "outputs": []
    },
    {
      "cell_type": "code",
      "metadata": {
        "id": "VCPsiJD37L2h",
        "colab": {
          "base_uri": "https://localhost:8080/",
          "height": 1000
        },
        "outputId": "70d6d06c-1740-440b-c210-d3a03da4e71a"
      },
      "source": [
        "!python /content/BachGAN/test.py --name /content/checkpoints/ade20k_pretrained/ --dataset_mode ade20k --dataroot /content/datasets/ADEChallengeData2016 --retrival_memory --batchSize=2 --gpu_id=0,1 --which_epoch=150"
      ],
      "execution_count": null,
      "outputs": [
        {
          "output_type": "stream",
          "text": [
            "----------------- Options ---------------\n",
            "             aspect_ratio: 1.0                           \n",
            "                batchSize: 2                             \t[default: 1]\n",
            "                      box: False                         \n",
            "               box_unpair: False                         \n",
            "      cache_filelist_read: False                         \n",
            "     cache_filelist_write: False                         \n",
            "          checkpoints_dir: ./checkpoints                 \n",
            "   contain_dontcare_label: True                          \n",
            "                crop_size: 256                           \n",
            "                 dataroot: /content/datasets/ADEChallengeData2016\t[default: ./datasets/cityscapes/]\n",
            "             dataset_mode: ade20k                        \t[default: coco]\n",
            "          display_winsize: 256                           \n",
            "                     dual: False                         \n",
            "            dual_segspade: False                         \n",
            "                  gpu_ids: 0,1                           \t[default: 0]\n",
            "                 how_many: inf                           \n",
            "                init_type: xavier                        \n",
            "            init_variance: 0.02                          \n",
            "                  isTrain: False                         \t[default: None]\n",
            "                 label_nc: 150                           \n",
            "       load_from_opt_file: False                         \n",
            "                load_size: 256                           \n",
            "         max_dataset_size: 9223372036854775807           \n",
            "                    model: pix2pix                       \n",
            "                 nThreads: 16                            \n",
            "                     name: /content/checkpoints/ade20k_pretrained/\t[default: label2coco]\n",
            "                      nef: 16                            \n",
            "                     netG: spade                         \n",
            "                      ngf: 64                            \n",
            "                  no_flip: True                          \n",
            "              no_instance: True                          \n",
            "         no_pairing_check: False                         \n",
            "                   norm_D: spectralinstance              \n",
            "                   norm_E: spectralinstance              \n",
            "                   norm_G: spectralspadesyncbatch3x3     \n",
            "    num_upsampling_layers: normal                        \n",
            "                output_nc: 3                             \n",
            "                    phase: test                          \n",
            "          preprocess_mode: resize_and_crop               \n",
            "              results_dir: ./results/                    \n",
            "                 retrival: False                         \n",
            "          retrival_memory: True                          \t[default: False]\n",
            "                      seg: False                         \n",
            "           serial_batches: True                          \n",
            "                  use_vae: False                         \n",
            "              which_epoch: 150                           \t[default: latest]\n",
            "                    z_dim: 256                           \n",
            "----------------- End -------------------\n",
            "dataset [ADE20KDataset] of size 2000 was created\n",
            "Network [SPADEGenerator] was created. Total number of parameters: 102.2 million. To see the architecture, do print(network).\n",
            "/content/BachGAN/data/ade20k_dataset.py:125: FutureWarning: Using a non-tuple sequence for multidimensional indexing is deprecated; use `arr[tuple(seq)]` instead of `arr[seq]`. In the future this will be interpreted as an array index, `arr[np.array(seq)]`, which will result either in an error or a different result.\n",
            "  save_label[indices] = obj\n",
            "/content/BachGAN/data/ade20k_dataset.py:125: FutureWarning: Using a non-tuple sequence for multidimensional indexing is deprecated; use `arr[tuple(seq)]` instead of `arr[seq]`. In the future this will be interpreted as an array index, `arr[np.array(seq)]`, which will result either in an error or a different result.\n",
            "  save_label[indices] = obj\n",
            "/content/BachGAN/data/ade20k_dataset.py:125: FutureWarning: Using a non-tuple sequence for multidimensional indexing is deprecated; use `arr[tuple(seq)]` instead of `arr[seq]`. In the future this will be interpreted as an array index, `arr[np.array(seq)]`, which will result either in an error or a different result.\n",
            "  save_label[indices] = obj\n",
            "/content/BachGAN/data/ade20k_dataset.py:125: FutureWarning: Using a non-tuple sequence for multidimensional indexing is deprecated; use `arr[tuple(seq)]` instead of `arr[seq]`. In the future this will be interpreted as an array index, `arr[np.array(seq)]`, which will result either in an error or a different result.\n",
            "  save_label[indices] = obj\n",
            "/content/BachGAN/data/ade20k_dataset.py:125: FutureWarning: Using a non-tuple sequence for multidimensional indexing is deprecated; use `arr[tuple(seq)]` instead of `arr[seq]`. In the future this will be interpreted as an array index, `arr[np.array(seq)]`, which will result either in an error or a different result.\n",
            "  save_label[indices] = obj\n",
            "/content/BachGAN/data/ade20k_dataset.py:125: FutureWarning: Using a non-tuple sequence for multidimensional indexing is deprecated; use `arr[tuple(seq)]` instead of `arr[seq]`. In the future this will be interpreted as an array index, `arr[np.array(seq)]`, which will result either in an error or a different result.\n",
            "  save_label[indices] = obj\n",
            "/content/BachGAN/data/ade20k_dataset.py:125: FutureWarning: Using a non-tuple sequence for multidimensional indexing is deprecated; use `arr[tuple(seq)]` instead of `arr[seq]`. In the future this will be interpreted as an array index, `arr[np.array(seq)]`, which will result either in an error or a different result.\n",
            "  save_label[indices] = obj\n",
            "/content/BachGAN/data/ade20k_dataset.py:125: FutureWarning: Using a non-tuple sequence for multidimensional indexing is deprecated; use `arr[tuple(seq)]` instead of `arr[seq]`. In the future this will be interpreted as an array index, `arr[np.array(seq)]`, which will result either in an error or a different result.\n",
            "  save_label[indices] = obj\n",
            "/content/BachGAN/data/ade20k_dataset.py:125: FutureWarning: Using a non-tuple sequence for multidimensional indexing is deprecated; use `arr[tuple(seq)]` instead of `arr[seq]`. In the future this will be interpreted as an array index, `arr[np.array(seq)]`, which will result either in an error or a different result.\n",
            "  save_label[indices] = obj\n",
            "/content/BachGAN/data/ade20k_dataset.py:125: FutureWarning: Using a non-tuple sequence for multidimensional indexing is deprecated; use `arr[tuple(seq)]` instead of `arr[seq]`. In the future this will be interpreted as an array index, `arr[np.array(seq)]`, which will result either in an error or a different result.\n",
            "  save_label[indices] = obj\n",
            "/content/BachGAN/data/ade20k_dataset.py:125: FutureWarning: Using a non-tuple sequence for multidimensional indexing is deprecated; use `arr[tuple(seq)]` instead of `arr[seq]`. In the future this will be interpreted as an array index, `arr[np.array(seq)]`, which will result either in an error or a different result.\n",
            "  save_label[indices] = obj\n",
            "/content/BachGAN/data/ade20k_dataset.py:125: FutureWarning: Using a non-tuple sequence for multidimensional indexing is deprecated; use `arr[tuple(seq)]` instead of `arr[seq]`. In the future this will be interpreted as an array index, `arr[np.array(seq)]`, which will result either in an error or a different result.\n",
            "  save_label[indices] = obj\n",
            "/content/BachGAN/data/ade20k_dataset.py:125: FutureWarning: Using a non-tuple sequence for multidimensional indexing is deprecated; use `arr[tuple(seq)]` instead of `arr[seq]`. In the future this will be interpreted as an array index, `arr[np.array(seq)]`, which will result either in an error or a different result.\n",
            "  save_label[indices] = obj\n",
            "/content/BachGAN/data/ade20k_dataset.py:125: FutureWarning: Using a non-tuple sequence for multidimensional indexing is deprecated; use `arr[tuple(seq)]` instead of `arr[seq]`. In the future this will be interpreted as an array index, `arr[np.array(seq)]`, which will result either in an error or a different result.\n",
            "  save_label[indices] = obj\n",
            "/content/BachGAN/data/ade20k_dataset.py:125: FutureWarning: Using a non-tuple sequence for multidimensional indexing is deprecated; use `arr[tuple(seq)]` instead of `arr[seq]`. In the future this will be interpreted as an array index, `arr[np.array(seq)]`, which will result either in an error or a different result.\n",
            "  save_label[indices] = obj\n",
            "/content/BachGAN/data/ade20k_dataset.py:125: FutureWarning: Using a non-tuple sequence for multidimensional indexing is deprecated; use `arr[tuple(seq)]` instead of `arr[seq]`. In the future this will be interpreted as an array index, `arr[np.array(seq)]`, which will result either in an error or a different result.\n",
            "  save_label[indices] = obj\n",
            "/content/BachGAN/models/networks/generator.py:238: UserWarning: Implicit dimension choice for log_softmax has been deprecated. Change the call to include dim=X as an argument.\n",
            "  seg_out = self.softmax(seg_out)\n",
            "/usr/local/lib/python3.6/dist-packages/torch/nn/functional.py:1614: UserWarning: nn.functional.tanh is deprecated. Use torch.tanh instead.\n",
            "  warnings.warn(\"nn.functional.tanh is deprecated. Use torch.tanh instead.\")\n",
            "process image... /content/datasets/ADEChallengeData2016/images/validation/ADE_val_00000001.jpg\n",
            "process image... /content/datasets/ADEChallengeData2016/images/validation/ADE_val_00000002.jpg\n",
            "process image... /content/datasets/ADEChallengeData2016/images/validation/ADE_val_00000003.jpg\n",
            "process image... /content/datasets/ADEChallengeData2016/images/validation/ADE_val_00000004.jpg\n",
            "process image... /content/datasets/ADEChallengeData2016/images/validation/ADE_val_00000005.jpg\n",
            "process image... /content/datasets/ADEChallengeData2016/images/validation/ADE_val_00000006.jpg\n",
            "process image... /content/datasets/ADEChallengeData2016/images/validation/ADE_val_00000007.jpg\n",
            "process image... /content/datasets/ADEChallengeData2016/images/validation/ADE_val_00000008.jpg\n",
            "process image... /content/datasets/ADEChallengeData2016/images/validation/ADE_val_00000009.jpg\n",
            "process image... /content/datasets/ADEChallengeData2016/images/validation/ADE_val_00000010.jpg\n",
            "process image... /content/datasets/ADEChallengeData2016/images/validation/ADE_val_00000011.jpg\n",
            "process image... /content/datasets/ADEChallengeData2016/images/validation/ADE_val_00000012.jpg\n",
            "process image... /content/datasets/ADEChallengeData2016/images/validation/ADE_val_00000013.jpg\n",
            "process image... /content/datasets/ADEChallengeData2016/images/validation/ADE_val_00000014.jpg\n",
            "process image... /content/datasets/ADEChallengeData2016/images/validation/ADE_val_00000015.jpg\n",
            "process image... /content/datasets/ADEChallengeData2016/images/validation/ADE_val_00000016.jpg\n",
            "process image... /content/datasets/ADEChallengeData2016/images/validation/ADE_val_00000017.jpg\n",
            "process image... /content/datasets/ADEChallengeData2016/images/validation/ADE_val_00000018.jpg\n",
            "process image... /content/datasets/ADEChallengeData2016/images/validation/ADE_val_00000019.jpg\n",
            "process image... /content/datasets/ADEChallengeData2016/images/validation/ADE_val_00000020.jpg\n",
            "process image... /content/datasets/ADEChallengeData2016/images/validation/ADE_val_00000021.jpg\n",
            "process image... /content/datasets/ADEChallengeData2016/images/validation/ADE_val_00000022.jpg\n",
            "process image... /content/datasets/ADEChallengeData2016/images/validation/ADE_val_00000023.jpg\n",
            "process image... /content/datasets/ADEChallengeData2016/images/validation/ADE_val_00000024.jpg\n",
            "process image... /content/datasets/ADEChallengeData2016/images/validation/ADE_val_00000025.jpg\n",
            "process image... /content/datasets/ADEChallengeData2016/images/validation/ADE_val_00000026.jpg\n",
            "process image... /content/datasets/ADEChallengeData2016/images/validation/ADE_val_00000027.jpg\n",
            "process image... /content/datasets/ADEChallengeData2016/images/validation/ADE_val_00000028.jpg\n",
            "process image... /content/datasets/ADEChallengeData2016/images/validation/ADE_val_00000029.jpg\n",
            "process image... /content/datasets/ADEChallengeData2016/images/validation/ADE_val_00000030.jpg\n",
            "process image... /content/datasets/ADEChallengeData2016/images/validation/ADE_val_00000031.jpg\n",
            "process image... /content/datasets/ADEChallengeData2016/images/validation/ADE_val_00000032.jpg\n",
            "process image... /content/datasets/ADEChallengeData2016/images/validation/ADE_val_00000033.jpg\n",
            "process image... /content/datasets/ADEChallengeData2016/images/validation/ADE_val_00000034.jpg\n",
            "process image... /content/datasets/ADEChallengeData2016/images/validation/ADE_val_00000035.jpg\n",
            "process image... /content/datasets/ADEChallengeData2016/images/validation/ADE_val_00000036.jpg\n",
            "process image... /content/datasets/ADEChallengeData2016/images/validation/ADE_val_00000037.jpg\n",
            "process image... /content/datasets/ADEChallengeData2016/images/validation/ADE_val_00000038.jpg\n",
            "process image... /content/datasets/ADEChallengeData2016/images/validation/ADE_val_00000039.jpg\n",
            "process image... /content/datasets/ADEChallengeData2016/images/validation/ADE_val_00000040.jpg\n",
            "process image... /content/datasets/ADEChallengeData2016/images/validation/ADE_val_00000041.jpg\n",
            "process image... /content/datasets/ADEChallengeData2016/images/validation/ADE_val_00000042.jpg\n",
            "process image... /content/datasets/ADEChallengeData2016/images/validation/ADE_val_00000043.jpg\n",
            "process image... /content/datasets/ADEChallengeData2016/images/validation/ADE_val_00000044.jpg\n",
            "process image... /content/datasets/ADEChallengeData2016/images/validation/ADE_val_00000045.jpg\n",
            "process image... /content/datasets/ADEChallengeData2016/images/validation/ADE_val_00000046.jpg\n",
            "process image... /content/datasets/ADEChallengeData2016/images/validation/ADE_val_00000047.jpg\n",
            "process image... /content/datasets/ADEChallengeData2016/images/validation/ADE_val_00000048.jpg\n",
            "process image... /content/datasets/ADEChallengeData2016/images/validation/ADE_val_00000049.jpg\n",
            "process image... /content/datasets/ADEChallengeData2016/images/validation/ADE_val_00000050.jpg\n",
            "process image... /content/datasets/ADEChallengeData2016/images/validation/ADE_val_00000051.jpg\n",
            "process image... /content/datasets/ADEChallengeData2016/images/validation/ADE_val_00000052.jpg\n",
            "process image... /content/datasets/ADEChallengeData2016/images/validation/ADE_val_00000053.jpg\n",
            "process image... /content/datasets/ADEChallengeData2016/images/validation/ADE_val_00000054.jpg\n",
            "process image... /content/datasets/ADEChallengeData2016/images/validation/ADE_val_00000055.jpg\n",
            "process image... /content/datasets/ADEChallengeData2016/images/validation/ADE_val_00000056.jpg\n",
            "process image... /content/datasets/ADEChallengeData2016/images/validation/ADE_val_00000057.jpg\n",
            "process image... /content/datasets/ADEChallengeData2016/images/validation/ADE_val_00000058.jpg\n",
            "process image... /content/datasets/ADEChallengeData2016/images/validation/ADE_val_00000059.jpg\n",
            "process image... /content/datasets/ADEChallengeData2016/images/validation/ADE_val_00000060.jpg\n",
            "process image... /content/datasets/ADEChallengeData2016/images/validation/ADE_val_00000061.jpg\n",
            "process image... /content/datasets/ADEChallengeData2016/images/validation/ADE_val_00000062.jpg\n",
            "process image... /content/datasets/ADEChallengeData2016/images/validation/ADE_val_00000063.jpg\n",
            "process image... /content/datasets/ADEChallengeData2016/images/validation/ADE_val_00000064.jpg\n",
            "process image... /content/datasets/ADEChallengeData2016/images/validation/ADE_val_00000065.jpg\n",
            "process image... /content/datasets/ADEChallengeData2016/images/validation/ADE_val_00000066.jpg\n",
            "process image... /content/datasets/ADEChallengeData2016/images/validation/ADE_val_00000067.jpg\n",
            "process image... /content/datasets/ADEChallengeData2016/images/validation/ADE_val_00000068.jpg\n",
            "process image... /content/datasets/ADEChallengeData2016/images/validation/ADE_val_00000069.jpg\n",
            "process image... /content/datasets/ADEChallengeData2016/images/validation/ADE_val_00000070.jpg\n",
            "process image... /content/datasets/ADEChallengeData2016/images/validation/ADE_val_00000071.jpg\n",
            "process image... /content/datasets/ADEChallengeData2016/images/validation/ADE_val_00000072.jpg\n",
            "process image... /content/datasets/ADEChallengeData2016/images/validation/ADE_val_00000073.jpg\n",
            "process image... /content/datasets/ADEChallengeData2016/images/validation/ADE_val_00000074.jpg\n",
            "process image... /content/datasets/ADEChallengeData2016/images/validation/ADE_val_00000075.jpg\n",
            "process image... /content/datasets/ADEChallengeData2016/images/validation/ADE_val_00000076.jpg\n",
            "process image... /content/datasets/ADEChallengeData2016/images/validation/ADE_val_00000077.jpg\n",
            "process image... /content/datasets/ADEChallengeData2016/images/validation/ADE_val_00000078.jpg\n",
            "process image... /content/datasets/ADEChallengeData2016/images/validation/ADE_val_00000079.jpg\n",
            "process image... /content/datasets/ADEChallengeData2016/images/validation/ADE_val_00000080.jpg\n",
            "process image... /content/datasets/ADEChallengeData2016/images/validation/ADE_val_00000081.jpg\n",
            "process image... /content/datasets/ADEChallengeData2016/images/validation/ADE_val_00000082.jpg\n",
            "process image... /content/datasets/ADEChallengeData2016/images/validation/ADE_val_00000083.jpg\n",
            "process image... /content/datasets/ADEChallengeData2016/images/validation/ADE_val_00000084.jpg\n",
            "process image... /content/datasets/ADEChallengeData2016/images/validation/ADE_val_00000085.jpg\n",
            "process image... /content/datasets/ADEChallengeData2016/images/validation/ADE_val_00000086.jpg\n",
            "process image... /content/datasets/ADEChallengeData2016/images/validation/ADE_val_00000087.jpg\n",
            "process image... /content/datasets/ADEChallengeData2016/images/validation/ADE_val_00000088.jpg\n",
            "process image... /content/datasets/ADEChallengeData2016/images/validation/ADE_val_00000089.jpg\n",
            "process image... /content/datasets/ADEChallengeData2016/images/validation/ADE_val_00000090.jpg\n",
            "process image... /content/datasets/ADEChallengeData2016/images/validation/ADE_val_00000091.jpg\n",
            "process image... /content/datasets/ADEChallengeData2016/images/validation/ADE_val_00000092.jpg\n",
            "process image... /content/datasets/ADEChallengeData2016/images/validation/ADE_val_00000093.jpg\n",
            "process image... /content/datasets/ADEChallengeData2016/images/validation/ADE_val_00000094.jpg\n",
            "process image... /content/datasets/ADEChallengeData2016/images/validation/ADE_val_00000095.jpg\n",
            "process image... /content/datasets/ADEChallengeData2016/images/validation/ADE_val_00000096.jpg\n",
            "process image... /content/datasets/ADEChallengeData2016/images/validation/ADE_val_00000097.jpg\n",
            "process image... /content/datasets/ADEChallengeData2016/images/validation/ADE_val_00000098.jpg\n",
            "process image... /content/datasets/ADEChallengeData2016/images/validation/ADE_val_00000099.jpg\n",
            "process image... /content/datasets/ADEChallengeData2016/images/validation/ADE_val_00000100.jpg\n",
            "process image... /content/datasets/ADEChallengeData2016/images/validation/ADE_val_00000101.jpg\n",
            "process image... /content/datasets/ADEChallengeData2016/images/validation/ADE_val_00000102.jpg\n",
            "process image... /content/datasets/ADEChallengeData2016/images/validation/ADE_val_00000103.jpg\n",
            "process image... /content/datasets/ADEChallengeData2016/images/validation/ADE_val_00000104.jpg\n",
            "process image... /content/datasets/ADEChallengeData2016/images/validation/ADE_val_00000105.jpg\n",
            "process image... /content/datasets/ADEChallengeData2016/images/validation/ADE_val_00000106.jpg\n",
            "process image... /content/datasets/ADEChallengeData2016/images/validation/ADE_val_00000107.jpg\n",
            "process image... /content/datasets/ADEChallengeData2016/images/validation/ADE_val_00000108.jpg\n",
            "process image... /content/datasets/ADEChallengeData2016/images/validation/ADE_val_00000109.jpg\n",
            "process image... /content/datasets/ADEChallengeData2016/images/validation/ADE_val_00000110.jpg\n",
            "process image... /content/datasets/ADEChallengeData2016/images/validation/ADE_val_00000111.jpg\n",
            "process image... /content/datasets/ADEChallengeData2016/images/validation/ADE_val_00000112.jpg\n",
            "process image... /content/datasets/ADEChallengeData2016/images/validation/ADE_val_00000113.jpg\n",
            "process image... /content/datasets/ADEChallengeData2016/images/validation/ADE_val_00000114.jpg\n",
            "process image... /content/datasets/ADEChallengeData2016/images/validation/ADE_val_00000115.jpg\n",
            "process image... /content/datasets/ADEChallengeData2016/images/validation/ADE_val_00000116.jpg\n",
            "process image... /content/datasets/ADEChallengeData2016/images/validation/ADE_val_00000117.jpg\n",
            "process image... /content/datasets/ADEChallengeData2016/images/validation/ADE_val_00000118.jpg\n",
            "process image... /content/datasets/ADEChallengeData2016/images/validation/ADE_val_00000119.jpg\n",
            "process image... /content/datasets/ADEChallengeData2016/images/validation/ADE_val_00000120.jpg\n",
            "process image... /content/datasets/ADEChallengeData2016/images/validation/ADE_val_00000121.jpg\n",
            "process image... /content/datasets/ADEChallengeData2016/images/validation/ADE_val_00000122.jpg\n",
            "process image... /content/datasets/ADEChallengeData2016/images/validation/ADE_val_00000123.jpg\n",
            "process image... /content/datasets/ADEChallengeData2016/images/validation/ADE_val_00000124.jpg\n",
            "process image... /content/datasets/ADEChallengeData2016/images/validation/ADE_val_00000125.jpg\n",
            "process image... /content/datasets/ADEChallengeData2016/images/validation/ADE_val_00000126.jpg\n",
            "process image... /content/datasets/ADEChallengeData2016/images/validation/ADE_val_00000127.jpg\n",
            "process image... /content/datasets/ADEChallengeData2016/images/validation/ADE_val_00000128.jpg\n",
            "process image... /content/datasets/ADEChallengeData2016/images/validation/ADE_val_00000129.jpg\n",
            "process image... /content/datasets/ADEChallengeData2016/images/validation/ADE_val_00000130.jpg\n",
            "process image... /content/datasets/ADEChallengeData2016/images/validation/ADE_val_00000131.jpg\n",
            "process image... /content/datasets/ADEChallengeData2016/images/validation/ADE_val_00000132.jpg\n",
            "process image... /content/datasets/ADEChallengeData2016/images/validation/ADE_val_00000133.jpg\n",
            "process image... /content/datasets/ADEChallengeData2016/images/validation/ADE_val_00000134.jpg\n",
            "process image... /content/datasets/ADEChallengeData2016/images/validation/ADE_val_00000135.jpg\n",
            "process image... /content/datasets/ADEChallengeData2016/images/validation/ADE_val_00000136.jpg\n",
            "process image... /content/datasets/ADEChallengeData2016/images/validation/ADE_val_00000137.jpg\n",
            "process image... /content/datasets/ADEChallengeData2016/images/validation/ADE_val_00000138.jpg\n",
            "process image... /content/datasets/ADEChallengeData2016/images/validation/ADE_val_00000139.jpg\n",
            "process image... /content/datasets/ADEChallengeData2016/images/validation/ADE_val_00000140.jpg\n",
            "process image... /content/datasets/ADEChallengeData2016/images/validation/ADE_val_00000141.jpg\n",
            "process image... /content/datasets/ADEChallengeData2016/images/validation/ADE_val_00000142.jpg\n",
            "process image... /content/datasets/ADEChallengeData2016/images/validation/ADE_val_00000143.jpg\n",
            "process image... /content/datasets/ADEChallengeData2016/images/validation/ADE_val_00000144.jpg\n",
            "process image... /content/datasets/ADEChallengeData2016/images/validation/ADE_val_00000145.jpg\n",
            "process image... /content/datasets/ADEChallengeData2016/images/validation/ADE_val_00000146.jpg\n",
            "process image... /content/datasets/ADEChallengeData2016/images/validation/ADE_val_00000147.jpg\n",
            "process image... /content/datasets/ADEChallengeData2016/images/validation/ADE_val_00000148.jpg\n",
            "process image... /content/datasets/ADEChallengeData2016/images/validation/ADE_val_00000149.jpg\n",
            "process image... /content/datasets/ADEChallengeData2016/images/validation/ADE_val_00000150.jpg\n",
            "process image... /content/datasets/ADEChallengeData2016/images/validation/ADE_val_00000151.jpg\n",
            "process image... /content/datasets/ADEChallengeData2016/images/validation/ADE_val_00000152.jpg\n",
            "process image... /content/datasets/ADEChallengeData2016/images/validation/ADE_val_00000153.jpg\n",
            "process image... /content/datasets/ADEChallengeData2016/images/validation/ADE_val_00000154.jpg\n",
            "process image... /content/datasets/ADEChallengeData2016/images/validation/ADE_val_00000155.jpg\n",
            "process image... /content/datasets/ADEChallengeData2016/images/validation/ADE_val_00000156.jpg\n",
            "process image... /content/datasets/ADEChallengeData2016/images/validation/ADE_val_00000157.jpg\n",
            "process image... /content/datasets/ADEChallengeData2016/images/validation/ADE_val_00000158.jpg\n",
            "process image... /content/datasets/ADEChallengeData2016/images/validation/ADE_val_00000159.jpg\n",
            "process image... /content/datasets/ADEChallengeData2016/images/validation/ADE_val_00000160.jpg\n",
            "process image... /content/datasets/ADEChallengeData2016/images/validation/ADE_val_00000161.jpg\n",
            "process image... /content/datasets/ADEChallengeData2016/images/validation/ADE_val_00000162.jpg\n",
            "process image... /content/datasets/ADEChallengeData2016/images/validation/ADE_val_00000163.jpg\n",
            "process image... /content/datasets/ADEChallengeData2016/images/validation/ADE_val_00000164.jpg\n",
            "process image... /content/datasets/ADEChallengeData2016/images/validation/ADE_val_00000165.jpg\n",
            "process image... /content/datasets/ADEChallengeData2016/images/validation/ADE_val_00000166.jpg\n",
            "process image... /content/datasets/ADEChallengeData2016/images/validation/ADE_val_00000167.jpg\n",
            "process image... /content/datasets/ADEChallengeData2016/images/validation/ADE_val_00000168.jpg\n",
            "process image... /content/datasets/ADEChallengeData2016/images/validation/ADE_val_00000169.jpg\n",
            "process image... /content/datasets/ADEChallengeData2016/images/validation/ADE_val_00000170.jpg\n",
            "process image... /content/datasets/ADEChallengeData2016/images/validation/ADE_val_00000171.jpg\n",
            "process image... /content/datasets/ADEChallengeData2016/images/validation/ADE_val_00000172.jpg\n",
            "process image... /content/datasets/ADEChallengeData2016/images/validation/ADE_val_00000173.jpg\n",
            "process image... /content/datasets/ADEChallengeData2016/images/validation/ADE_val_00000174.jpg\n",
            "process image... /content/datasets/ADEChallengeData2016/images/validation/ADE_val_00000175.jpg\n",
            "process image... /content/datasets/ADEChallengeData2016/images/validation/ADE_val_00000176.jpg\n",
            "process image... /content/datasets/ADEChallengeData2016/images/validation/ADE_val_00000177.jpg\n",
            "process image... /content/datasets/ADEChallengeData2016/images/validation/ADE_val_00000178.jpg\n",
            "process image... /content/datasets/ADEChallengeData2016/images/validation/ADE_val_00000179.jpg\n",
            "process image... /content/datasets/ADEChallengeData2016/images/validation/ADE_val_00000180.jpg\n",
            "process image... /content/datasets/ADEChallengeData2016/images/validation/ADE_val_00000181.jpg\n",
            "process image... /content/datasets/ADEChallengeData2016/images/validation/ADE_val_00000182.jpg\n",
            "process image... /content/datasets/ADEChallengeData2016/images/validation/ADE_val_00000183.jpg\n",
            "process image... /content/datasets/ADEChallengeData2016/images/validation/ADE_val_00000184.jpg\n",
            "process image... /content/datasets/ADEChallengeData2016/images/validation/ADE_val_00000185.jpg\n",
            "process image... /content/datasets/ADEChallengeData2016/images/validation/ADE_val_00000186.jpg\n",
            "process image... /content/datasets/ADEChallengeData2016/images/validation/ADE_val_00000187.jpg\n",
            "process image... /content/datasets/ADEChallengeData2016/images/validation/ADE_val_00000188.jpg\n",
            "process image... /content/datasets/ADEChallengeData2016/images/validation/ADE_val_00000189.jpg\n",
            "process image... /content/datasets/ADEChallengeData2016/images/validation/ADE_val_00000190.jpg\n",
            "process image... /content/datasets/ADEChallengeData2016/images/validation/ADE_val_00000191.jpg\n",
            "process image... /content/datasets/ADEChallengeData2016/images/validation/ADE_val_00000192.jpg\n",
            "process image... /content/datasets/ADEChallengeData2016/images/validation/ADE_val_00000193.jpg\n",
            "process image... /content/datasets/ADEChallengeData2016/images/validation/ADE_val_00000194.jpg\n",
            "process image... /content/datasets/ADEChallengeData2016/images/validation/ADE_val_00000195.jpg\n",
            "process image... /content/datasets/ADEChallengeData2016/images/validation/ADE_val_00000196.jpg\n",
            "process image... /content/datasets/ADEChallengeData2016/images/validation/ADE_val_00000197.jpg\n",
            "process image... /content/datasets/ADEChallengeData2016/images/validation/ADE_val_00000198.jpg\n",
            "process image... /content/datasets/ADEChallengeData2016/images/validation/ADE_val_00000199.jpg\n",
            "process image... /content/datasets/ADEChallengeData2016/images/validation/ADE_val_00000200.jpg\n",
            "process image... /content/datasets/ADEChallengeData2016/images/validation/ADE_val_00000201.jpg\n",
            "process image... /content/datasets/ADEChallengeData2016/images/validation/ADE_val_00000202.jpg\n",
            "process image... /content/datasets/ADEChallengeData2016/images/validation/ADE_val_00000203.jpg\n",
            "process image... /content/datasets/ADEChallengeData2016/images/validation/ADE_val_00000204.jpg\n",
            "process image... /content/datasets/ADEChallengeData2016/images/validation/ADE_val_00000205.jpg\n",
            "process image... /content/datasets/ADEChallengeData2016/images/validation/ADE_val_00000206.jpg\n",
            "process image... /content/datasets/ADEChallengeData2016/images/validation/ADE_val_00000207.jpg\n",
            "process image... /content/datasets/ADEChallengeData2016/images/validation/ADE_val_00000208.jpg\n",
            "process image... /content/datasets/ADEChallengeData2016/images/validation/ADE_val_00000209.jpg\n",
            "process image... /content/datasets/ADEChallengeData2016/images/validation/ADE_val_00000210.jpg\n",
            "process image... /content/datasets/ADEChallengeData2016/images/validation/ADE_val_00000211.jpg\n",
            "process image... /content/datasets/ADEChallengeData2016/images/validation/ADE_val_00000212.jpg\n",
            "process image... /content/datasets/ADEChallengeData2016/images/validation/ADE_val_00000213.jpg\n",
            "process image... /content/datasets/ADEChallengeData2016/images/validation/ADE_val_00000214.jpg\n",
            "process image... /content/datasets/ADEChallengeData2016/images/validation/ADE_val_00000215.jpg\n",
            "process image... /content/datasets/ADEChallengeData2016/images/validation/ADE_val_00000216.jpg\n",
            "process image... /content/datasets/ADEChallengeData2016/images/validation/ADE_val_00000217.jpg\n",
            "process image... /content/datasets/ADEChallengeData2016/images/validation/ADE_val_00000218.jpg\n",
            "process image... /content/datasets/ADEChallengeData2016/images/validation/ADE_val_00000219.jpg\n",
            "process image... /content/datasets/ADEChallengeData2016/images/validation/ADE_val_00000220.jpg\n",
            "process image... /content/datasets/ADEChallengeData2016/images/validation/ADE_val_00000221.jpg\n",
            "process image... /content/datasets/ADEChallengeData2016/images/validation/ADE_val_00000222.jpg\n",
            "process image... /content/datasets/ADEChallengeData2016/images/validation/ADE_val_00000223.jpg\n",
            "process image... /content/datasets/ADEChallengeData2016/images/validation/ADE_val_00000224.jpg\n",
            "process image... /content/datasets/ADEChallengeData2016/images/validation/ADE_val_00000225.jpg\n",
            "process image... /content/datasets/ADEChallengeData2016/images/validation/ADE_val_00000226.jpg\n",
            "process image... /content/datasets/ADEChallengeData2016/images/validation/ADE_val_00000227.jpg\n",
            "process image... /content/datasets/ADEChallengeData2016/images/validation/ADE_val_00000228.jpg\n",
            "process image... /content/datasets/ADEChallengeData2016/images/validation/ADE_val_00000229.jpg\n",
            "process image... /content/datasets/ADEChallengeData2016/images/validation/ADE_val_00000230.jpg\n",
            "process image... /content/datasets/ADEChallengeData2016/images/validation/ADE_val_00000231.jpg\n",
            "process image... /content/datasets/ADEChallengeData2016/images/validation/ADE_val_00000232.jpg\n",
            "process image... /content/datasets/ADEChallengeData2016/images/validation/ADE_val_00000233.jpg\n",
            "process image... /content/datasets/ADEChallengeData2016/images/validation/ADE_val_00000234.jpg\n",
            "process image... /content/datasets/ADEChallengeData2016/images/validation/ADE_val_00000235.jpg\n",
            "process image... /content/datasets/ADEChallengeData2016/images/validation/ADE_val_00000236.jpg\n",
            "process image... /content/datasets/ADEChallengeData2016/images/validation/ADE_val_00000237.jpg\n",
            "process image... /content/datasets/ADEChallengeData2016/images/validation/ADE_val_00000238.jpg\n",
            "process image... /content/datasets/ADEChallengeData2016/images/validation/ADE_val_00000239.jpg\n",
            "process image... /content/datasets/ADEChallengeData2016/images/validation/ADE_val_00000240.jpg\n",
            "process image... /content/datasets/ADEChallengeData2016/images/validation/ADE_val_00000241.jpg\n",
            "process image... /content/datasets/ADEChallengeData2016/images/validation/ADE_val_00000242.jpg\n",
            "process image... /content/datasets/ADEChallengeData2016/images/validation/ADE_val_00000243.jpg\n",
            "process image... /content/datasets/ADEChallengeData2016/images/validation/ADE_val_00000244.jpg\n",
            "process image... /content/datasets/ADEChallengeData2016/images/validation/ADE_val_00000245.jpg\n",
            "process image... /content/datasets/ADEChallengeData2016/images/validation/ADE_val_00000246.jpg\n",
            "process image... /content/datasets/ADEChallengeData2016/images/validation/ADE_val_00000247.jpg\n",
            "process image... /content/datasets/ADEChallengeData2016/images/validation/ADE_val_00000248.jpg\n",
            "process image... /content/datasets/ADEChallengeData2016/images/validation/ADE_val_00000249.jpg\n",
            "process image... /content/datasets/ADEChallengeData2016/images/validation/ADE_val_00000250.jpg\n",
            "process image... /content/datasets/ADEChallengeData2016/images/validation/ADE_val_00000251.jpg\n",
            "process image... /content/datasets/ADEChallengeData2016/images/validation/ADE_val_00000252.jpg\n",
            "process image... /content/datasets/ADEChallengeData2016/images/validation/ADE_val_00000253.jpg\n",
            "process image... /content/datasets/ADEChallengeData2016/images/validation/ADE_val_00000254.jpg\n",
            "process image... /content/datasets/ADEChallengeData2016/images/validation/ADE_val_00000255.jpg\n",
            "process image... /content/datasets/ADEChallengeData2016/images/validation/ADE_val_00000256.jpg\n",
            "process image... /content/datasets/ADEChallengeData2016/images/validation/ADE_val_00000257.jpg\n",
            "process image... /content/datasets/ADEChallengeData2016/images/validation/ADE_val_00000258.jpg\n",
            "process image... /content/datasets/ADEChallengeData2016/images/validation/ADE_val_00000259.jpg\n",
            "process image... /content/datasets/ADEChallengeData2016/images/validation/ADE_val_00000260.jpg\n",
            "process image... /content/datasets/ADEChallengeData2016/images/validation/ADE_val_00000261.jpg\n",
            "process image... /content/datasets/ADEChallengeData2016/images/validation/ADE_val_00000262.jpg\n",
            "process image... /content/datasets/ADEChallengeData2016/images/validation/ADE_val_00000263.jpg\n",
            "process image... /content/datasets/ADEChallengeData2016/images/validation/ADE_val_00000264.jpg\n",
            "process image... /content/datasets/ADEChallengeData2016/images/validation/ADE_val_00000265.jpg\n",
            "process image... /content/datasets/ADEChallengeData2016/images/validation/ADE_val_00000266.jpg\n",
            "process image... /content/datasets/ADEChallengeData2016/images/validation/ADE_val_00000267.jpg\n",
            "process image... /content/datasets/ADEChallengeData2016/images/validation/ADE_val_00000268.jpg\n",
            "process image... /content/datasets/ADEChallengeData2016/images/validation/ADE_val_00000269.jpg\n",
            "process image... /content/datasets/ADEChallengeData2016/images/validation/ADE_val_00000270.jpg\n",
            "process image... /content/datasets/ADEChallengeData2016/images/validation/ADE_val_00000271.jpg\n",
            "process image... /content/datasets/ADEChallengeData2016/images/validation/ADE_val_00000272.jpg\n",
            "process image... /content/datasets/ADEChallengeData2016/images/validation/ADE_val_00000273.jpg\n",
            "process image... /content/datasets/ADEChallengeData2016/images/validation/ADE_val_00000274.jpg\n",
            "process image... /content/datasets/ADEChallengeData2016/images/validation/ADE_val_00000275.jpg\n",
            "process image... /content/datasets/ADEChallengeData2016/images/validation/ADE_val_00000276.jpg\n",
            "process image... /content/datasets/ADEChallengeData2016/images/validation/ADE_val_00000277.jpg\n",
            "process image... /content/datasets/ADEChallengeData2016/images/validation/ADE_val_00000278.jpg\n",
            "process image... /content/datasets/ADEChallengeData2016/images/validation/ADE_val_00000279.jpg\n",
            "process image... /content/datasets/ADEChallengeData2016/images/validation/ADE_val_00000280.jpg\n",
            "process image... /content/datasets/ADEChallengeData2016/images/validation/ADE_val_00000281.jpg\n",
            "process image... /content/datasets/ADEChallengeData2016/images/validation/ADE_val_00000282.jpg\n",
            "process image... /content/datasets/ADEChallengeData2016/images/validation/ADE_val_00000283.jpg\n",
            "process image... /content/datasets/ADEChallengeData2016/images/validation/ADE_val_00000284.jpg\n",
            "process image... /content/datasets/ADEChallengeData2016/images/validation/ADE_val_00000285.jpg\n",
            "process image... /content/datasets/ADEChallengeData2016/images/validation/ADE_val_00000286.jpg\n",
            "process image... /content/datasets/ADEChallengeData2016/images/validation/ADE_val_00000287.jpg\n",
            "process image... /content/datasets/ADEChallengeData2016/images/validation/ADE_val_00000288.jpg\n",
            "process image... /content/datasets/ADEChallengeData2016/images/validation/ADE_val_00000289.jpg\n",
            "process image... /content/datasets/ADEChallengeData2016/images/validation/ADE_val_00000290.jpg\n",
            "process image... /content/datasets/ADEChallengeData2016/images/validation/ADE_val_00000291.jpg\n",
            "process image... /content/datasets/ADEChallengeData2016/images/validation/ADE_val_00000292.jpg\n",
            "process image... /content/datasets/ADEChallengeData2016/images/validation/ADE_val_00000293.jpg\n",
            "process image... /content/datasets/ADEChallengeData2016/images/validation/ADE_val_00000294.jpg\n",
            "process image... /content/datasets/ADEChallengeData2016/images/validation/ADE_val_00000295.jpg\n",
            "process image... /content/datasets/ADEChallengeData2016/images/validation/ADE_val_00000296.jpg\n",
            "process image... /content/datasets/ADEChallengeData2016/images/validation/ADE_val_00000297.jpg\n",
            "process image... /content/datasets/ADEChallengeData2016/images/validation/ADE_val_00000298.jpg\n",
            "process image... /content/datasets/ADEChallengeData2016/images/validation/ADE_val_00000299.jpg\n",
            "process image... /content/datasets/ADEChallengeData2016/images/validation/ADE_val_00000300.jpg\n",
            "process image... /content/datasets/ADEChallengeData2016/images/validation/ADE_val_00000301.jpg\n",
            "process image... /content/datasets/ADEChallengeData2016/images/validation/ADE_val_00000302.jpg\n",
            "process image... /content/datasets/ADEChallengeData2016/images/validation/ADE_val_00000303.jpg\n",
            "process image... /content/datasets/ADEChallengeData2016/images/validation/ADE_val_00000304.jpg\n",
            "process image... /content/datasets/ADEChallengeData2016/images/validation/ADE_val_00000305.jpg\n",
            "process image... /content/datasets/ADEChallengeData2016/images/validation/ADE_val_00000306.jpg\n",
            "process image... /content/datasets/ADEChallengeData2016/images/validation/ADE_val_00000307.jpg\n",
            "process image... /content/datasets/ADEChallengeData2016/images/validation/ADE_val_00000308.jpg\n",
            "process image... /content/datasets/ADEChallengeData2016/images/validation/ADE_val_00000309.jpg\n",
            "process image... /content/datasets/ADEChallengeData2016/images/validation/ADE_val_00000310.jpg\n",
            "process image... /content/datasets/ADEChallengeData2016/images/validation/ADE_val_00000311.jpg\n",
            "process image... /content/datasets/ADEChallengeData2016/images/validation/ADE_val_00000312.jpg\n",
            "process image... /content/datasets/ADEChallengeData2016/images/validation/ADE_val_00000313.jpg\n",
            "process image... /content/datasets/ADEChallengeData2016/images/validation/ADE_val_00000314.jpg\n",
            "process image... /content/datasets/ADEChallengeData2016/images/validation/ADE_val_00000315.jpg\n",
            "process image... /content/datasets/ADEChallengeData2016/images/validation/ADE_val_00000316.jpg\n",
            "process image... /content/datasets/ADEChallengeData2016/images/validation/ADE_val_00000317.jpg\n",
            "process image... /content/datasets/ADEChallengeData2016/images/validation/ADE_val_00000318.jpg\n",
            "process image... /content/datasets/ADEChallengeData2016/images/validation/ADE_val_00000319.jpg\n",
            "process image... /content/datasets/ADEChallengeData2016/images/validation/ADE_val_00000320.jpg\n",
            "process image... /content/datasets/ADEChallengeData2016/images/validation/ADE_val_00000321.jpg\n",
            "process image... /content/datasets/ADEChallengeData2016/images/validation/ADE_val_00000322.jpg\n",
            "process image... /content/datasets/ADEChallengeData2016/images/validation/ADE_val_00000323.jpg\n",
            "process image... /content/datasets/ADEChallengeData2016/images/validation/ADE_val_00000324.jpg\n",
            "process image... /content/datasets/ADEChallengeData2016/images/validation/ADE_val_00000325.jpg\n",
            "process image... /content/datasets/ADEChallengeData2016/images/validation/ADE_val_00000326.jpg\n",
            "process image... /content/datasets/ADEChallengeData2016/images/validation/ADE_val_00000327.jpg\n",
            "process image... /content/datasets/ADEChallengeData2016/images/validation/ADE_val_00000328.jpg\n",
            "process image... /content/datasets/ADEChallengeData2016/images/validation/ADE_val_00000329.jpg\n",
            "process image... /content/datasets/ADEChallengeData2016/images/validation/ADE_val_00000330.jpg\n",
            "process image... /content/datasets/ADEChallengeData2016/images/validation/ADE_val_00000331.jpg\n",
            "process image... /content/datasets/ADEChallengeData2016/images/validation/ADE_val_00000332.jpg\n",
            "process image... /content/datasets/ADEChallengeData2016/images/validation/ADE_val_00000333.jpg\n",
            "process image... /content/datasets/ADEChallengeData2016/images/validation/ADE_val_00000334.jpg\n",
            "process image... /content/datasets/ADEChallengeData2016/images/validation/ADE_val_00000335.jpg\n",
            "process image... /content/datasets/ADEChallengeData2016/images/validation/ADE_val_00000336.jpg\n",
            "process image... /content/datasets/ADEChallengeData2016/images/validation/ADE_val_00000337.jpg\n",
            "process image... /content/datasets/ADEChallengeData2016/images/validation/ADE_val_00000338.jpg\n",
            "process image... /content/datasets/ADEChallengeData2016/images/validation/ADE_val_00000339.jpg\n",
            "process image... /content/datasets/ADEChallengeData2016/images/validation/ADE_val_00000340.jpg\n",
            "process image... /content/datasets/ADEChallengeData2016/images/validation/ADE_val_00000341.jpg\n",
            "process image... /content/datasets/ADEChallengeData2016/images/validation/ADE_val_00000342.jpg\n",
            "process image... /content/datasets/ADEChallengeData2016/images/validation/ADE_val_00000343.jpg\n",
            "process image... /content/datasets/ADEChallengeData2016/images/validation/ADE_val_00000344.jpg\n",
            "process image... /content/datasets/ADEChallengeData2016/images/validation/ADE_val_00000345.jpg\n",
            "process image... /content/datasets/ADEChallengeData2016/images/validation/ADE_val_00000346.jpg\n",
            "process image... /content/datasets/ADEChallengeData2016/images/validation/ADE_val_00000347.jpg\n",
            "process image... /content/datasets/ADEChallengeData2016/images/validation/ADE_val_00000348.jpg\n",
            "process image... /content/datasets/ADEChallengeData2016/images/validation/ADE_val_00000349.jpg\n",
            "process image... /content/datasets/ADEChallengeData2016/images/validation/ADE_val_00000350.jpg\n",
            "process image... /content/datasets/ADEChallengeData2016/images/validation/ADE_val_00000351.jpg\n",
            "process image... /content/datasets/ADEChallengeData2016/images/validation/ADE_val_00000352.jpg\n",
            "process image... /content/datasets/ADEChallengeData2016/images/validation/ADE_val_00000353.jpg\n",
            "process image... /content/datasets/ADEChallengeData2016/images/validation/ADE_val_00000354.jpg\n",
            "process image... /content/datasets/ADEChallengeData2016/images/validation/ADE_val_00000355.jpg\n",
            "process image... /content/datasets/ADEChallengeData2016/images/validation/ADE_val_00000356.jpg\n",
            "process image... /content/datasets/ADEChallengeData2016/images/validation/ADE_val_00000357.jpg\n",
            "process image... /content/datasets/ADEChallengeData2016/images/validation/ADE_val_00000358.jpg\n",
            "process image... /content/datasets/ADEChallengeData2016/images/validation/ADE_val_00000359.jpg\n",
            "process image... /content/datasets/ADEChallengeData2016/images/validation/ADE_val_00000360.jpg\n",
            "process image... /content/datasets/ADEChallengeData2016/images/validation/ADE_val_00000361.jpg\n",
            "process image... /content/datasets/ADEChallengeData2016/images/validation/ADE_val_00000362.jpg\n",
            "process image... /content/datasets/ADEChallengeData2016/images/validation/ADE_val_00000363.jpg\n",
            "process image... /content/datasets/ADEChallengeData2016/images/validation/ADE_val_00000364.jpg\n",
            "process image... /content/datasets/ADEChallengeData2016/images/validation/ADE_val_00000365.jpg\n",
            "process image... /content/datasets/ADEChallengeData2016/images/validation/ADE_val_00000366.jpg\n",
            "process image... /content/datasets/ADEChallengeData2016/images/validation/ADE_val_00000367.jpg\n",
            "process image... /content/datasets/ADEChallengeData2016/images/validation/ADE_val_00000368.jpg\n",
            "process image... /content/datasets/ADEChallengeData2016/images/validation/ADE_val_00000369.jpg\n",
            "process image... /content/datasets/ADEChallengeData2016/images/validation/ADE_val_00000370.jpg\n",
            "process image... /content/datasets/ADEChallengeData2016/images/validation/ADE_val_00000371.jpg\n",
            "process image... /content/datasets/ADEChallengeData2016/images/validation/ADE_val_00000372.jpg\n",
            "process image... /content/datasets/ADEChallengeData2016/images/validation/ADE_val_00000373.jpg\n",
            "process image... /content/datasets/ADEChallengeData2016/images/validation/ADE_val_00000374.jpg\n",
            "process image... /content/datasets/ADEChallengeData2016/images/validation/ADE_val_00000375.jpg\n",
            "process image... /content/datasets/ADEChallengeData2016/images/validation/ADE_val_00000376.jpg\n",
            "process image... /content/datasets/ADEChallengeData2016/images/validation/ADE_val_00000377.jpg\n",
            "process image... /content/datasets/ADEChallengeData2016/images/validation/ADE_val_00000378.jpg\n",
            "process image... /content/datasets/ADEChallengeData2016/images/validation/ADE_val_00000379.jpg\n",
            "process image... /content/datasets/ADEChallengeData2016/images/validation/ADE_val_00000380.jpg\n",
            "process image... /content/datasets/ADEChallengeData2016/images/validation/ADE_val_00000381.jpg\n",
            "process image... /content/datasets/ADEChallengeData2016/images/validation/ADE_val_00000382.jpg\n",
            "process image... /content/datasets/ADEChallengeData2016/images/validation/ADE_val_00000383.jpg\n",
            "process image... /content/datasets/ADEChallengeData2016/images/validation/ADE_val_00000384.jpg\n",
            "process image... /content/datasets/ADEChallengeData2016/images/validation/ADE_val_00000385.jpg\n",
            "process image... /content/datasets/ADEChallengeData2016/images/validation/ADE_val_00000386.jpg\n",
            "process image... /content/datasets/ADEChallengeData2016/images/validation/ADE_val_00000387.jpg\n",
            "process image... /content/datasets/ADEChallengeData2016/images/validation/ADE_val_00000388.jpg\n",
            "process image... /content/datasets/ADEChallengeData2016/images/validation/ADE_val_00000389.jpg\n",
            "process image... /content/datasets/ADEChallengeData2016/images/validation/ADE_val_00000390.jpg\n",
            "process image... /content/datasets/ADEChallengeData2016/images/validation/ADE_val_00000391.jpg\n",
            "process image... /content/datasets/ADEChallengeData2016/images/validation/ADE_val_00000392.jpg\n",
            "process image... /content/datasets/ADEChallengeData2016/images/validation/ADE_val_00000393.jpg\n",
            "process image... /content/datasets/ADEChallengeData2016/images/validation/ADE_val_00000394.jpg\n",
            "process image... /content/datasets/ADEChallengeData2016/images/validation/ADE_val_00000395.jpg\n",
            "process image... /content/datasets/ADEChallengeData2016/images/validation/ADE_val_00000396.jpg\n",
            "process image... /content/datasets/ADEChallengeData2016/images/validation/ADE_val_00000397.jpg\n",
            "process image... /content/datasets/ADEChallengeData2016/images/validation/ADE_val_00000398.jpg\n",
            "process image... /content/datasets/ADEChallengeData2016/images/validation/ADE_val_00000399.jpg\n",
            "process image... /content/datasets/ADEChallengeData2016/images/validation/ADE_val_00000400.jpg\n",
            "process image... /content/datasets/ADEChallengeData2016/images/validation/ADE_val_00000401.jpg\n",
            "process image... /content/datasets/ADEChallengeData2016/images/validation/ADE_val_00000402.jpg\n",
            "process image... /content/datasets/ADEChallengeData2016/images/validation/ADE_val_00000403.jpg\n",
            "process image... /content/datasets/ADEChallengeData2016/images/validation/ADE_val_00000404.jpg\n",
            "process image... /content/datasets/ADEChallengeData2016/images/validation/ADE_val_00000405.jpg\n",
            "process image... /content/datasets/ADEChallengeData2016/images/validation/ADE_val_00000406.jpg\n",
            "process image... /content/datasets/ADEChallengeData2016/images/validation/ADE_val_00000407.jpg\n",
            "process image... /content/datasets/ADEChallengeData2016/images/validation/ADE_val_00000408.jpg\n",
            "process image... /content/datasets/ADEChallengeData2016/images/validation/ADE_val_00000409.jpg\n",
            "process image... /content/datasets/ADEChallengeData2016/images/validation/ADE_val_00000410.jpg\n",
            "process image... /content/datasets/ADEChallengeData2016/images/validation/ADE_val_00000411.jpg\n",
            "process image... /content/datasets/ADEChallengeData2016/images/validation/ADE_val_00000412.jpg\n",
            "process image... /content/datasets/ADEChallengeData2016/images/validation/ADE_val_00000413.jpg\n",
            "process image... /content/datasets/ADEChallengeData2016/images/validation/ADE_val_00000414.jpg\n",
            "process image... /content/datasets/ADEChallengeData2016/images/validation/ADE_val_00000415.jpg\n",
            "process image... /content/datasets/ADEChallengeData2016/images/validation/ADE_val_00000416.jpg\n",
            "process image... /content/datasets/ADEChallengeData2016/images/validation/ADE_val_00000417.jpg\n",
            "process image... /content/datasets/ADEChallengeData2016/images/validation/ADE_val_00000418.jpg\n",
            "process image... /content/datasets/ADEChallengeData2016/images/validation/ADE_val_00000419.jpg\n",
            "process image... /content/datasets/ADEChallengeData2016/images/validation/ADE_val_00000420.jpg\n",
            "process image... /content/datasets/ADEChallengeData2016/images/validation/ADE_val_00000421.jpg\n",
            "process image... /content/datasets/ADEChallengeData2016/images/validation/ADE_val_00000422.jpg\n",
            "process image... /content/datasets/ADEChallengeData2016/images/validation/ADE_val_00000423.jpg\n",
            "process image... /content/datasets/ADEChallengeData2016/images/validation/ADE_val_00000424.jpg\n",
            "process image... /content/datasets/ADEChallengeData2016/images/validation/ADE_val_00000425.jpg\n",
            "process image... /content/datasets/ADEChallengeData2016/images/validation/ADE_val_00000426.jpg\n",
            "process image... /content/datasets/ADEChallengeData2016/images/validation/ADE_val_00000427.jpg\n",
            "process image... /content/datasets/ADEChallengeData2016/images/validation/ADE_val_00000428.jpg\n",
            "process image... /content/datasets/ADEChallengeData2016/images/validation/ADE_val_00000429.jpg\n",
            "process image... /content/datasets/ADEChallengeData2016/images/validation/ADE_val_00000430.jpg\n",
            "process image... /content/datasets/ADEChallengeData2016/images/validation/ADE_val_00000431.jpg\n",
            "process image... /content/datasets/ADEChallengeData2016/images/validation/ADE_val_00000432.jpg\n",
            "process image... /content/datasets/ADEChallengeData2016/images/validation/ADE_val_00000433.jpg\n",
            "process image... /content/datasets/ADEChallengeData2016/images/validation/ADE_val_00000434.jpg\n",
            "process image... /content/datasets/ADEChallengeData2016/images/validation/ADE_val_00000435.jpg\n",
            "process image... /content/datasets/ADEChallengeData2016/images/validation/ADE_val_00000436.jpg\n",
            "process image... /content/datasets/ADEChallengeData2016/images/validation/ADE_val_00000437.jpg\n",
            "process image... /content/datasets/ADEChallengeData2016/images/validation/ADE_val_00000438.jpg\n",
            "process image... /content/datasets/ADEChallengeData2016/images/validation/ADE_val_00000439.jpg\n",
            "process image... /content/datasets/ADEChallengeData2016/images/validation/ADE_val_00000440.jpg\n",
            "process image... /content/datasets/ADEChallengeData2016/images/validation/ADE_val_00000441.jpg\n",
            "process image... /content/datasets/ADEChallengeData2016/images/validation/ADE_val_00000442.jpg\n",
            "process image... /content/datasets/ADEChallengeData2016/images/validation/ADE_val_00000443.jpg\n",
            "process image... /content/datasets/ADEChallengeData2016/images/validation/ADE_val_00000444.jpg\n",
            "process image... /content/datasets/ADEChallengeData2016/images/validation/ADE_val_00000445.jpg\n",
            "process image... /content/datasets/ADEChallengeData2016/images/validation/ADE_val_00000446.jpg\n",
            "process image... /content/datasets/ADEChallengeData2016/images/validation/ADE_val_00000447.jpg\n",
            "process image... /content/datasets/ADEChallengeData2016/images/validation/ADE_val_00000448.jpg\n",
            "process image... /content/datasets/ADEChallengeData2016/images/validation/ADE_val_00000449.jpg\n",
            "process image... /content/datasets/ADEChallengeData2016/images/validation/ADE_val_00000450.jpg\n",
            "process image... /content/datasets/ADEChallengeData2016/images/validation/ADE_val_00000451.jpg\n",
            "process image... /content/datasets/ADEChallengeData2016/images/validation/ADE_val_00000452.jpg\n",
            "process image... /content/datasets/ADEChallengeData2016/images/validation/ADE_val_00000453.jpg\n",
            "process image... /content/datasets/ADEChallengeData2016/images/validation/ADE_val_00000454.jpg\n",
            "process image... /content/datasets/ADEChallengeData2016/images/validation/ADE_val_00000455.jpg\n",
            "process image... /content/datasets/ADEChallengeData2016/images/validation/ADE_val_00000456.jpg\n",
            "process image... /content/datasets/ADEChallengeData2016/images/validation/ADE_val_00000457.jpg\n",
            "process image... /content/datasets/ADEChallengeData2016/images/validation/ADE_val_00000458.jpg\n",
            "process image... /content/datasets/ADEChallengeData2016/images/validation/ADE_val_00000459.jpg\n",
            "process image... /content/datasets/ADEChallengeData2016/images/validation/ADE_val_00000460.jpg\n",
            "process image... /content/datasets/ADEChallengeData2016/images/validation/ADE_val_00000461.jpg\n",
            "process image... /content/datasets/ADEChallengeData2016/images/validation/ADE_val_00000462.jpg\n",
            "process image... /content/datasets/ADEChallengeData2016/images/validation/ADE_val_00000463.jpg\n",
            "process image... /content/datasets/ADEChallengeData2016/images/validation/ADE_val_00000464.jpg\n",
            "process image... /content/datasets/ADEChallengeData2016/images/validation/ADE_val_00000465.jpg\n",
            "process image... /content/datasets/ADEChallengeData2016/images/validation/ADE_val_00000466.jpg\n",
            "process image... /content/datasets/ADEChallengeData2016/images/validation/ADE_val_00000467.jpg\n",
            "process image... /content/datasets/ADEChallengeData2016/images/validation/ADE_val_00000468.jpg\n",
            "process image... /content/datasets/ADEChallengeData2016/images/validation/ADE_val_00000469.jpg\n",
            "process image... /content/datasets/ADEChallengeData2016/images/validation/ADE_val_00000470.jpg\n",
            "process image... /content/datasets/ADEChallengeData2016/images/validation/ADE_val_00000471.jpg\n",
            "process image... /content/datasets/ADEChallengeData2016/images/validation/ADE_val_00000472.jpg\n",
            "process image... /content/datasets/ADEChallengeData2016/images/validation/ADE_val_00000473.jpg\n",
            "process image... /content/datasets/ADEChallengeData2016/images/validation/ADE_val_00000474.jpg\n",
            "process image... /content/datasets/ADEChallengeData2016/images/validation/ADE_val_00000475.jpg\n",
            "process image... /content/datasets/ADEChallengeData2016/images/validation/ADE_val_00000476.jpg\n",
            "process image... /content/datasets/ADEChallengeData2016/images/validation/ADE_val_00000477.jpg\n",
            "process image... /content/datasets/ADEChallengeData2016/images/validation/ADE_val_00000478.jpg\n",
            "process image... /content/datasets/ADEChallengeData2016/images/validation/ADE_val_00000479.jpg\n",
            "process image... /content/datasets/ADEChallengeData2016/images/validation/ADE_val_00000480.jpg\n",
            "process image... /content/datasets/ADEChallengeData2016/images/validation/ADE_val_00000481.jpg\n",
            "process image... /content/datasets/ADEChallengeData2016/images/validation/ADE_val_00000482.jpg\n",
            "process image... /content/datasets/ADEChallengeData2016/images/validation/ADE_val_00000483.jpg\n",
            "process image... /content/datasets/ADEChallengeData2016/images/validation/ADE_val_00000484.jpg\n",
            "process image... /content/datasets/ADEChallengeData2016/images/validation/ADE_val_00000485.jpg\n",
            "process image... /content/datasets/ADEChallengeData2016/images/validation/ADE_val_00000486.jpg\n",
            "process image... /content/datasets/ADEChallengeData2016/images/validation/ADE_val_00000487.jpg\n",
            "process image... /content/datasets/ADEChallengeData2016/images/validation/ADE_val_00000488.jpg\n",
            "process image... /content/datasets/ADEChallengeData2016/images/validation/ADE_val_00000489.jpg\n",
            "process image... /content/datasets/ADEChallengeData2016/images/validation/ADE_val_00000490.jpg\n",
            "process image... /content/datasets/ADEChallengeData2016/images/validation/ADE_val_00000491.jpg\n",
            "process image... /content/datasets/ADEChallengeData2016/images/validation/ADE_val_00000492.jpg\n",
            "process image... /content/datasets/ADEChallengeData2016/images/validation/ADE_val_00000493.jpg\n",
            "process image... /content/datasets/ADEChallengeData2016/images/validation/ADE_val_00000494.jpg\n",
            "process image... /content/datasets/ADEChallengeData2016/images/validation/ADE_val_00000495.jpg\n",
            "process image... /content/datasets/ADEChallengeData2016/images/validation/ADE_val_00000496.jpg\n",
            "process image... /content/datasets/ADEChallengeData2016/images/validation/ADE_val_00000497.jpg\n",
            "process image... /content/datasets/ADEChallengeData2016/images/validation/ADE_val_00000498.jpg\n",
            "process image... /content/datasets/ADEChallengeData2016/images/validation/ADE_val_00000499.jpg\n",
            "process image... /content/datasets/ADEChallengeData2016/images/validation/ADE_val_00000500.jpg\n",
            "process image... /content/datasets/ADEChallengeData2016/images/validation/ADE_val_00000501.jpg\n",
            "process image... /content/datasets/ADEChallengeData2016/images/validation/ADE_val_00000502.jpg\n",
            "process image... /content/datasets/ADEChallengeData2016/images/validation/ADE_val_00000503.jpg\n",
            "process image... /content/datasets/ADEChallengeData2016/images/validation/ADE_val_00000504.jpg\n",
            "process image... /content/datasets/ADEChallengeData2016/images/validation/ADE_val_00000505.jpg\n",
            "process image... /content/datasets/ADEChallengeData2016/images/validation/ADE_val_00000506.jpg\n",
            "process image... /content/datasets/ADEChallengeData2016/images/validation/ADE_val_00000507.jpg\n",
            "process image... /content/datasets/ADEChallengeData2016/images/validation/ADE_val_00000508.jpg\n",
            "process image... /content/datasets/ADEChallengeData2016/images/validation/ADE_val_00000509.jpg\n",
            "process image... /content/datasets/ADEChallengeData2016/images/validation/ADE_val_00000510.jpg\n",
            "process image... /content/datasets/ADEChallengeData2016/images/validation/ADE_val_00000511.jpg\n",
            "process image... /content/datasets/ADEChallengeData2016/images/validation/ADE_val_00000512.jpg\n",
            "process image... /content/datasets/ADEChallengeData2016/images/validation/ADE_val_00000513.jpg\n",
            "process image... /content/datasets/ADEChallengeData2016/images/validation/ADE_val_00000514.jpg\n",
            "process image... /content/datasets/ADEChallengeData2016/images/validation/ADE_val_00000515.jpg\n",
            "process image... /content/datasets/ADEChallengeData2016/images/validation/ADE_val_00000516.jpg\n",
            "process image... /content/datasets/ADEChallengeData2016/images/validation/ADE_val_00000517.jpg\n",
            "process image... /content/datasets/ADEChallengeData2016/images/validation/ADE_val_00000518.jpg\n",
            "process image... /content/datasets/ADEChallengeData2016/images/validation/ADE_val_00000519.jpg\n",
            "process image... /content/datasets/ADEChallengeData2016/images/validation/ADE_val_00000520.jpg\n",
            "process image... /content/datasets/ADEChallengeData2016/images/validation/ADE_val_00000521.jpg\n",
            "process image... /content/datasets/ADEChallengeData2016/images/validation/ADE_val_00000522.jpg\n",
            "process image... /content/datasets/ADEChallengeData2016/images/validation/ADE_val_00000523.jpg\n",
            "process image... /content/datasets/ADEChallengeData2016/images/validation/ADE_val_00000524.jpg\n",
            "process image... /content/datasets/ADEChallengeData2016/images/validation/ADE_val_00000525.jpg\n",
            "process image... /content/datasets/ADEChallengeData2016/images/validation/ADE_val_00000526.jpg\n",
            "process image... /content/datasets/ADEChallengeData2016/images/validation/ADE_val_00000527.jpg\n",
            "process image... /content/datasets/ADEChallengeData2016/images/validation/ADE_val_00000528.jpg\n",
            "process image... /content/datasets/ADEChallengeData2016/images/validation/ADE_val_00000529.jpg\n",
            "process image... /content/datasets/ADEChallengeData2016/images/validation/ADE_val_00000530.jpg\n",
            "process image... /content/datasets/ADEChallengeData2016/images/validation/ADE_val_00000531.jpg\n",
            "process image... /content/datasets/ADEChallengeData2016/images/validation/ADE_val_00000532.jpg\n",
            "process image... /content/datasets/ADEChallengeData2016/images/validation/ADE_val_00000533.jpg\n",
            "process image... /content/datasets/ADEChallengeData2016/images/validation/ADE_val_00000534.jpg\n",
            "process image... /content/datasets/ADEChallengeData2016/images/validation/ADE_val_00000535.jpg\n",
            "process image... /content/datasets/ADEChallengeData2016/images/validation/ADE_val_00000536.jpg\n",
            "process image... /content/datasets/ADEChallengeData2016/images/validation/ADE_val_00000537.jpg\n",
            "process image... /content/datasets/ADEChallengeData2016/images/validation/ADE_val_00000538.jpg\n",
            "process image... /content/datasets/ADEChallengeData2016/images/validation/ADE_val_00000539.jpg\n",
            "process image... /content/datasets/ADEChallengeData2016/images/validation/ADE_val_00000540.jpg\n",
            "process image... /content/datasets/ADEChallengeData2016/images/validation/ADE_val_00000541.jpg\n",
            "process image... /content/datasets/ADEChallengeData2016/images/validation/ADE_val_00000542.jpg\n",
            "process image... /content/datasets/ADEChallengeData2016/images/validation/ADE_val_00000543.jpg\n",
            "process image... /content/datasets/ADEChallengeData2016/images/validation/ADE_val_00000544.jpg\n",
            "process image... /content/datasets/ADEChallengeData2016/images/validation/ADE_val_00000545.jpg\n",
            "process image... /content/datasets/ADEChallengeData2016/images/validation/ADE_val_00000546.jpg\n",
            "process image... /content/datasets/ADEChallengeData2016/images/validation/ADE_val_00000547.jpg\n",
            "process image... /content/datasets/ADEChallengeData2016/images/validation/ADE_val_00000548.jpg\n",
            "process image... /content/datasets/ADEChallengeData2016/images/validation/ADE_val_00000549.jpg\n",
            "process image... /content/datasets/ADEChallengeData2016/images/validation/ADE_val_00000550.jpg\n",
            "process image... /content/datasets/ADEChallengeData2016/images/validation/ADE_val_00000551.jpg\n",
            "process image... /content/datasets/ADEChallengeData2016/images/validation/ADE_val_00000552.jpg\n",
            "process image... /content/datasets/ADEChallengeData2016/images/validation/ADE_val_00000553.jpg\n",
            "process image... /content/datasets/ADEChallengeData2016/images/validation/ADE_val_00000554.jpg\n",
            "process image... /content/datasets/ADEChallengeData2016/images/validation/ADE_val_00000555.jpg\n",
            "process image... /content/datasets/ADEChallengeData2016/images/validation/ADE_val_00000556.jpg\n",
            "process image... /content/datasets/ADEChallengeData2016/images/validation/ADE_val_00000557.jpg\n",
            "process image... /content/datasets/ADEChallengeData2016/images/validation/ADE_val_00000558.jpg\n",
            "process image... /content/datasets/ADEChallengeData2016/images/validation/ADE_val_00000559.jpg\n",
            "process image... /content/datasets/ADEChallengeData2016/images/validation/ADE_val_00000560.jpg\n",
            "process image... /content/datasets/ADEChallengeData2016/images/validation/ADE_val_00000561.jpg\n",
            "process image... /content/datasets/ADEChallengeData2016/images/validation/ADE_val_00000562.jpg\n",
            "process image... /content/datasets/ADEChallengeData2016/images/validation/ADE_val_00000563.jpg\n",
            "process image... /content/datasets/ADEChallengeData2016/images/validation/ADE_val_00000564.jpg\n",
            "process image... /content/datasets/ADEChallengeData2016/images/validation/ADE_val_00000565.jpg\n",
            "process image... /content/datasets/ADEChallengeData2016/images/validation/ADE_val_00000566.jpg\n",
            "process image... /content/datasets/ADEChallengeData2016/images/validation/ADE_val_00000567.jpg\n",
            "process image... /content/datasets/ADEChallengeData2016/images/validation/ADE_val_00000568.jpg\n",
            "process image... /content/datasets/ADEChallengeData2016/images/validation/ADE_val_00000569.jpg\n",
            "process image... /content/datasets/ADEChallengeData2016/images/validation/ADE_val_00000570.jpg\n",
            "process image... /content/datasets/ADEChallengeData2016/images/validation/ADE_val_00000571.jpg\n",
            "process image... /content/datasets/ADEChallengeData2016/images/validation/ADE_val_00000572.jpg\n",
            "process image... /content/datasets/ADEChallengeData2016/images/validation/ADE_val_00000573.jpg\n",
            "process image... /content/datasets/ADEChallengeData2016/images/validation/ADE_val_00000574.jpg\n",
            "process image... /content/datasets/ADEChallengeData2016/images/validation/ADE_val_00000575.jpg\n",
            "process image... /content/datasets/ADEChallengeData2016/images/validation/ADE_val_00000576.jpg\n",
            "process image... /content/datasets/ADEChallengeData2016/images/validation/ADE_val_00000577.jpg\n",
            "process image... /content/datasets/ADEChallengeData2016/images/validation/ADE_val_00000578.jpg\n",
            "process image... /content/datasets/ADEChallengeData2016/images/validation/ADE_val_00000579.jpg\n",
            "process image... /content/datasets/ADEChallengeData2016/images/validation/ADE_val_00000580.jpg\n",
            "process image... /content/datasets/ADEChallengeData2016/images/validation/ADE_val_00000581.jpg\n",
            "process image... /content/datasets/ADEChallengeData2016/images/validation/ADE_val_00000582.jpg\n",
            "process image... /content/datasets/ADEChallengeData2016/images/validation/ADE_val_00000583.jpg\n",
            "process image... /content/datasets/ADEChallengeData2016/images/validation/ADE_val_00000584.jpg\n",
            "process image... /content/datasets/ADEChallengeData2016/images/validation/ADE_val_00000585.jpg\n",
            "process image... /content/datasets/ADEChallengeData2016/images/validation/ADE_val_00000586.jpg\n",
            "process image... /content/datasets/ADEChallengeData2016/images/validation/ADE_val_00000587.jpg\n",
            "process image... /content/datasets/ADEChallengeData2016/images/validation/ADE_val_00000588.jpg\n",
            "process image... /content/datasets/ADEChallengeData2016/images/validation/ADE_val_00000589.jpg\n",
            "process image... /content/datasets/ADEChallengeData2016/images/validation/ADE_val_00000590.jpg\n",
            "process image... /content/datasets/ADEChallengeData2016/images/validation/ADE_val_00000591.jpg\n",
            "process image... /content/datasets/ADEChallengeData2016/images/validation/ADE_val_00000592.jpg\n",
            "process image... /content/datasets/ADEChallengeData2016/images/validation/ADE_val_00000593.jpg\n",
            "process image... /content/datasets/ADEChallengeData2016/images/validation/ADE_val_00000594.jpg\n",
            "process image... /content/datasets/ADEChallengeData2016/images/validation/ADE_val_00000595.jpg\n",
            "process image... /content/datasets/ADEChallengeData2016/images/validation/ADE_val_00000596.jpg\n",
            "process image... /content/datasets/ADEChallengeData2016/images/validation/ADE_val_00000597.jpg\n",
            "process image... /content/datasets/ADEChallengeData2016/images/validation/ADE_val_00000598.jpg\n",
            "process image... /content/datasets/ADEChallengeData2016/images/validation/ADE_val_00000599.jpg\n",
            "process image... /content/datasets/ADEChallengeData2016/images/validation/ADE_val_00000600.jpg\n",
            "process image... /content/datasets/ADEChallengeData2016/images/validation/ADE_val_00000601.jpg\n",
            "process image... /content/datasets/ADEChallengeData2016/images/validation/ADE_val_00000602.jpg\n",
            "process image... /content/datasets/ADEChallengeData2016/images/validation/ADE_val_00000603.jpg\n",
            "process image... /content/datasets/ADEChallengeData2016/images/validation/ADE_val_00000604.jpg\n",
            "process image... /content/datasets/ADEChallengeData2016/images/validation/ADE_val_00000605.jpg\n",
            "process image... /content/datasets/ADEChallengeData2016/images/validation/ADE_val_00000606.jpg\n",
            "process image... /content/datasets/ADEChallengeData2016/images/validation/ADE_val_00000607.jpg\n",
            "process image... /content/datasets/ADEChallengeData2016/images/validation/ADE_val_00000608.jpg\n",
            "process image... /content/datasets/ADEChallengeData2016/images/validation/ADE_val_00000609.jpg\n",
            "process image... /content/datasets/ADEChallengeData2016/images/validation/ADE_val_00000610.jpg\n",
            "process image... /content/datasets/ADEChallengeData2016/images/validation/ADE_val_00000611.jpg\n",
            "process image... /content/datasets/ADEChallengeData2016/images/validation/ADE_val_00000612.jpg\n",
            "process image... /content/datasets/ADEChallengeData2016/images/validation/ADE_val_00000613.jpg\n",
            "process image... /content/datasets/ADEChallengeData2016/images/validation/ADE_val_00000614.jpg\n",
            "process image... /content/datasets/ADEChallengeData2016/images/validation/ADE_val_00000615.jpg\n",
            "process image... /content/datasets/ADEChallengeData2016/images/validation/ADE_val_00000616.jpg\n",
            "process image... /content/datasets/ADEChallengeData2016/images/validation/ADE_val_00000617.jpg\n",
            "process image... /content/datasets/ADEChallengeData2016/images/validation/ADE_val_00000618.jpg\n",
            "process image... /content/datasets/ADEChallengeData2016/images/validation/ADE_val_00000619.jpg\n",
            "process image... /content/datasets/ADEChallengeData2016/images/validation/ADE_val_00000620.jpg\n",
            "process image... /content/datasets/ADEChallengeData2016/images/validation/ADE_val_00000621.jpg\n",
            "process image... /content/datasets/ADEChallengeData2016/images/validation/ADE_val_00000622.jpg\n",
            "process image... /content/datasets/ADEChallengeData2016/images/validation/ADE_val_00000623.jpg\n",
            "process image... /content/datasets/ADEChallengeData2016/images/validation/ADE_val_00000624.jpg\n",
            "process image... /content/datasets/ADEChallengeData2016/images/validation/ADE_val_00000625.jpg\n",
            "process image... /content/datasets/ADEChallengeData2016/images/validation/ADE_val_00000626.jpg\n",
            "process image... /content/datasets/ADEChallengeData2016/images/validation/ADE_val_00000627.jpg\n",
            "process image... /content/datasets/ADEChallengeData2016/images/validation/ADE_val_00000628.jpg\n",
            "process image... /content/datasets/ADEChallengeData2016/images/validation/ADE_val_00000629.jpg\n",
            "process image... /content/datasets/ADEChallengeData2016/images/validation/ADE_val_00000630.jpg\n",
            "process image... /content/datasets/ADEChallengeData2016/images/validation/ADE_val_00000631.jpg\n",
            "process image... /content/datasets/ADEChallengeData2016/images/validation/ADE_val_00000632.jpg\n",
            "process image... /content/datasets/ADEChallengeData2016/images/validation/ADE_val_00000633.jpg\n",
            "process image... /content/datasets/ADEChallengeData2016/images/validation/ADE_val_00000634.jpg\n",
            "process image... /content/datasets/ADEChallengeData2016/images/validation/ADE_val_00000635.jpg\n",
            "process image... /content/datasets/ADEChallengeData2016/images/validation/ADE_val_00000636.jpg\n",
            "process image... /content/datasets/ADEChallengeData2016/images/validation/ADE_val_00000637.jpg\n",
            "process image... /content/datasets/ADEChallengeData2016/images/validation/ADE_val_00000638.jpg\n",
            "process image... /content/datasets/ADEChallengeData2016/images/validation/ADE_val_00000639.jpg\n",
            "process image... /content/datasets/ADEChallengeData2016/images/validation/ADE_val_00000640.jpg\n",
            "process image... /content/datasets/ADEChallengeData2016/images/validation/ADE_val_00000641.jpg\n",
            "process image... /content/datasets/ADEChallengeData2016/images/validation/ADE_val_00000642.jpg\n",
            "process image... /content/datasets/ADEChallengeData2016/images/validation/ADE_val_00000643.jpg\n",
            "process image... /content/datasets/ADEChallengeData2016/images/validation/ADE_val_00000644.jpg\n",
            "process image... /content/datasets/ADEChallengeData2016/images/validation/ADE_val_00000645.jpg\n",
            "process image... /content/datasets/ADEChallengeData2016/images/validation/ADE_val_00000646.jpg\n",
            "process image... /content/datasets/ADEChallengeData2016/images/validation/ADE_val_00000647.jpg\n",
            "process image... /content/datasets/ADEChallengeData2016/images/validation/ADE_val_00000648.jpg\n",
            "process image... /content/datasets/ADEChallengeData2016/images/validation/ADE_val_00000649.jpg\n",
            "process image... /content/datasets/ADEChallengeData2016/images/validation/ADE_val_00000650.jpg\n",
            "process image... /content/datasets/ADEChallengeData2016/images/validation/ADE_val_00000651.jpg\n",
            "process image... /content/datasets/ADEChallengeData2016/images/validation/ADE_val_00000652.jpg\n",
            "process image... /content/datasets/ADEChallengeData2016/images/validation/ADE_val_00000653.jpg\n",
            "process image... /content/datasets/ADEChallengeData2016/images/validation/ADE_val_00000654.jpg\n",
            "process image... /content/datasets/ADEChallengeData2016/images/validation/ADE_val_00000655.jpg\n",
            "process image... /content/datasets/ADEChallengeData2016/images/validation/ADE_val_00000656.jpg\n",
            "process image... /content/datasets/ADEChallengeData2016/images/validation/ADE_val_00000657.jpg\n",
            "process image... /content/datasets/ADEChallengeData2016/images/validation/ADE_val_00000658.jpg\n",
            "process image... /content/datasets/ADEChallengeData2016/images/validation/ADE_val_00000659.jpg\n",
            "process image... /content/datasets/ADEChallengeData2016/images/validation/ADE_val_00000660.jpg\n",
            "process image... /content/datasets/ADEChallengeData2016/images/validation/ADE_val_00000661.jpg\n",
            "process image... /content/datasets/ADEChallengeData2016/images/validation/ADE_val_00000662.jpg\n",
            "process image... /content/datasets/ADEChallengeData2016/images/validation/ADE_val_00000663.jpg\n",
            "process image... /content/datasets/ADEChallengeData2016/images/validation/ADE_val_00000664.jpg\n",
            "process image... /content/datasets/ADEChallengeData2016/images/validation/ADE_val_00000665.jpg\n",
            "process image... /content/datasets/ADEChallengeData2016/images/validation/ADE_val_00000666.jpg\n",
            "process image... /content/datasets/ADEChallengeData2016/images/validation/ADE_val_00000667.jpg\n",
            "process image... /content/datasets/ADEChallengeData2016/images/validation/ADE_val_00000668.jpg\n",
            "process image... /content/datasets/ADEChallengeData2016/images/validation/ADE_val_00000669.jpg\n",
            "process image... /content/datasets/ADEChallengeData2016/images/validation/ADE_val_00000670.jpg\n",
            "process image... /content/datasets/ADEChallengeData2016/images/validation/ADE_val_00000671.jpg\n",
            "process image... /content/datasets/ADEChallengeData2016/images/validation/ADE_val_00000672.jpg\n",
            "process image... /content/datasets/ADEChallengeData2016/images/validation/ADE_val_00000673.jpg\n",
            "process image... /content/datasets/ADEChallengeData2016/images/validation/ADE_val_00000674.jpg\n",
            "process image... /content/datasets/ADEChallengeData2016/images/validation/ADE_val_00000675.jpg\n",
            "process image... /content/datasets/ADEChallengeData2016/images/validation/ADE_val_00000676.jpg\n",
            "process image... /content/datasets/ADEChallengeData2016/images/validation/ADE_val_00000677.jpg\n",
            "process image... /content/datasets/ADEChallengeData2016/images/validation/ADE_val_00000678.jpg\n",
            "process image... /content/datasets/ADEChallengeData2016/images/validation/ADE_val_00000679.jpg\n",
            "process image... /content/datasets/ADEChallengeData2016/images/validation/ADE_val_00000680.jpg\n",
            "process image... /content/datasets/ADEChallengeData2016/images/validation/ADE_val_00000681.jpg\n",
            "process image... /content/datasets/ADEChallengeData2016/images/validation/ADE_val_00000682.jpg\n",
            "process image... /content/datasets/ADEChallengeData2016/images/validation/ADE_val_00000683.jpg\n",
            "process image... /content/datasets/ADEChallengeData2016/images/validation/ADE_val_00000684.jpg\n",
            "process image... /content/datasets/ADEChallengeData2016/images/validation/ADE_val_00000685.jpg\n",
            "process image... /content/datasets/ADEChallengeData2016/images/validation/ADE_val_00000686.jpg\n",
            "process image... /content/datasets/ADEChallengeData2016/images/validation/ADE_val_00000687.jpg\n",
            "process image... /content/datasets/ADEChallengeData2016/images/validation/ADE_val_00000688.jpg\n",
            "process image... /content/datasets/ADEChallengeData2016/images/validation/ADE_val_00000689.jpg\n",
            "process image... /content/datasets/ADEChallengeData2016/images/validation/ADE_val_00000690.jpg\n",
            "process image... /content/datasets/ADEChallengeData2016/images/validation/ADE_val_00000691.jpg\n",
            "process image... /content/datasets/ADEChallengeData2016/images/validation/ADE_val_00000692.jpg\n",
            "process image... /content/datasets/ADEChallengeData2016/images/validation/ADE_val_00000693.jpg\n",
            "process image... /content/datasets/ADEChallengeData2016/images/validation/ADE_val_00000694.jpg\n",
            "process image... /content/datasets/ADEChallengeData2016/images/validation/ADE_val_00000695.jpg\n",
            "process image... /content/datasets/ADEChallengeData2016/images/validation/ADE_val_00000696.jpg\n",
            "process image... /content/datasets/ADEChallengeData2016/images/validation/ADE_val_00000697.jpg\n",
            "process image... /content/datasets/ADEChallengeData2016/images/validation/ADE_val_00000698.jpg\n",
            "process image... /content/datasets/ADEChallengeData2016/images/validation/ADE_val_00000699.jpg\n",
            "process image... /content/datasets/ADEChallengeData2016/images/validation/ADE_val_00000700.jpg\n",
            "process image... /content/datasets/ADEChallengeData2016/images/validation/ADE_val_00000701.jpg\n",
            "process image... /content/datasets/ADEChallengeData2016/images/validation/ADE_val_00000702.jpg\n",
            "process image... /content/datasets/ADEChallengeData2016/images/validation/ADE_val_00000703.jpg\n",
            "process image... /content/datasets/ADEChallengeData2016/images/validation/ADE_val_00000704.jpg\n",
            "process image... /content/datasets/ADEChallengeData2016/images/validation/ADE_val_00000705.jpg\n",
            "process image... /content/datasets/ADEChallengeData2016/images/validation/ADE_val_00000706.jpg\n",
            "process image... /content/datasets/ADEChallengeData2016/images/validation/ADE_val_00000707.jpg\n",
            "process image... /content/datasets/ADEChallengeData2016/images/validation/ADE_val_00000708.jpg\n",
            "process image... /content/datasets/ADEChallengeData2016/images/validation/ADE_val_00000709.jpg\n",
            "process image... /content/datasets/ADEChallengeData2016/images/validation/ADE_val_00000710.jpg\n",
            "process image... /content/datasets/ADEChallengeData2016/images/validation/ADE_val_00000711.jpg\n",
            "process image... /content/datasets/ADEChallengeData2016/images/validation/ADE_val_00000712.jpg\n",
            "process image... /content/datasets/ADEChallengeData2016/images/validation/ADE_val_00000713.jpg\n",
            "process image... /content/datasets/ADEChallengeData2016/images/validation/ADE_val_00000714.jpg\n",
            "process image... /content/datasets/ADEChallengeData2016/images/validation/ADE_val_00000715.jpg\n",
            "process image... /content/datasets/ADEChallengeData2016/images/validation/ADE_val_00000716.jpg\n",
            "process image... /content/datasets/ADEChallengeData2016/images/validation/ADE_val_00000717.jpg\n",
            "process image... /content/datasets/ADEChallengeData2016/images/validation/ADE_val_00000718.jpg\n",
            "process image... /content/datasets/ADEChallengeData2016/images/validation/ADE_val_00000719.jpg\n",
            "process image... /content/datasets/ADEChallengeData2016/images/validation/ADE_val_00000720.jpg\n",
            "process image... /content/datasets/ADEChallengeData2016/images/validation/ADE_val_00000721.jpg\n",
            "process image... /content/datasets/ADEChallengeData2016/images/validation/ADE_val_00000722.jpg\n",
            "process image... /content/datasets/ADEChallengeData2016/images/validation/ADE_val_00000723.jpg\n",
            "process image... /content/datasets/ADEChallengeData2016/images/validation/ADE_val_00000724.jpg\n",
            "process image... /content/datasets/ADEChallengeData2016/images/validation/ADE_val_00000725.jpg\n",
            "process image... /content/datasets/ADEChallengeData2016/images/validation/ADE_val_00000726.jpg\n",
            "process image... /content/datasets/ADEChallengeData2016/images/validation/ADE_val_00000727.jpg\n",
            "process image... /content/datasets/ADEChallengeData2016/images/validation/ADE_val_00000728.jpg\n",
            "process image... /content/datasets/ADEChallengeData2016/images/validation/ADE_val_00000729.jpg\n",
            "process image... /content/datasets/ADEChallengeData2016/images/validation/ADE_val_00000730.jpg\n",
            "process image... /content/datasets/ADEChallengeData2016/images/validation/ADE_val_00000731.jpg\n",
            "process image... /content/datasets/ADEChallengeData2016/images/validation/ADE_val_00000732.jpg\n",
            "process image... /content/datasets/ADEChallengeData2016/images/validation/ADE_val_00000733.jpg\n",
            "process image... /content/datasets/ADEChallengeData2016/images/validation/ADE_val_00000734.jpg\n",
            "process image... /content/datasets/ADEChallengeData2016/images/validation/ADE_val_00000735.jpg\n",
            "process image... /content/datasets/ADEChallengeData2016/images/validation/ADE_val_00000736.jpg\n",
            "process image... /content/datasets/ADEChallengeData2016/images/validation/ADE_val_00000737.jpg\n",
            "process image... /content/datasets/ADEChallengeData2016/images/validation/ADE_val_00000738.jpg\n",
            "process image... /content/datasets/ADEChallengeData2016/images/validation/ADE_val_00000739.jpg\n",
            "process image... /content/datasets/ADEChallengeData2016/images/validation/ADE_val_00000740.jpg\n",
            "process image... /content/datasets/ADEChallengeData2016/images/validation/ADE_val_00000741.jpg\n",
            "process image... /content/datasets/ADEChallengeData2016/images/validation/ADE_val_00000742.jpg\n",
            "process image... /content/datasets/ADEChallengeData2016/images/validation/ADE_val_00000743.jpg\n",
            "process image... /content/datasets/ADEChallengeData2016/images/validation/ADE_val_00000744.jpg\n",
            "process image... /content/datasets/ADEChallengeData2016/images/validation/ADE_val_00000745.jpg\n",
            "process image... /content/datasets/ADEChallengeData2016/images/validation/ADE_val_00000746.jpg\n",
            "process image... /content/datasets/ADEChallengeData2016/images/validation/ADE_val_00000747.jpg\n",
            "process image... /content/datasets/ADEChallengeData2016/images/validation/ADE_val_00000748.jpg\n",
            "process image... /content/datasets/ADEChallengeData2016/images/validation/ADE_val_00000749.jpg\n",
            "process image... /content/datasets/ADEChallengeData2016/images/validation/ADE_val_00000750.jpg\n",
            "process image... /content/datasets/ADEChallengeData2016/images/validation/ADE_val_00000751.jpg\n",
            "process image... /content/datasets/ADEChallengeData2016/images/validation/ADE_val_00000752.jpg\n",
            "process image... /content/datasets/ADEChallengeData2016/images/validation/ADE_val_00000753.jpg\n",
            "process image... /content/datasets/ADEChallengeData2016/images/validation/ADE_val_00000754.jpg\n",
            "process image... /content/datasets/ADEChallengeData2016/images/validation/ADE_val_00000755.jpg\n",
            "process image... /content/datasets/ADEChallengeData2016/images/validation/ADE_val_00000756.jpg\n",
            "process image... /content/datasets/ADEChallengeData2016/images/validation/ADE_val_00000757.jpg\n",
            "process image... /content/datasets/ADEChallengeData2016/images/validation/ADE_val_00000758.jpg\n",
            "process image... /content/datasets/ADEChallengeData2016/images/validation/ADE_val_00000759.jpg\n",
            "process image... /content/datasets/ADEChallengeData2016/images/validation/ADE_val_00000760.jpg\n",
            "process image... /content/datasets/ADEChallengeData2016/images/validation/ADE_val_00000761.jpg\n",
            "process image... /content/datasets/ADEChallengeData2016/images/validation/ADE_val_00000762.jpg\n",
            "process image... /content/datasets/ADEChallengeData2016/images/validation/ADE_val_00000763.jpg\n",
            "process image... /content/datasets/ADEChallengeData2016/images/validation/ADE_val_00000764.jpg\n",
            "process image... /content/datasets/ADEChallengeData2016/images/validation/ADE_val_00000765.jpg\n",
            "process image... /content/datasets/ADEChallengeData2016/images/validation/ADE_val_00000766.jpg\n",
            "process image... /content/datasets/ADEChallengeData2016/images/validation/ADE_val_00000767.jpg\n",
            "process image... /content/datasets/ADEChallengeData2016/images/validation/ADE_val_00000768.jpg\n",
            "process image... /content/datasets/ADEChallengeData2016/images/validation/ADE_val_00000769.jpg\n",
            "process image... /content/datasets/ADEChallengeData2016/images/validation/ADE_val_00000770.jpg\n",
            "process image... /content/datasets/ADEChallengeData2016/images/validation/ADE_val_00000771.jpg\n",
            "process image... /content/datasets/ADEChallengeData2016/images/validation/ADE_val_00000772.jpg\n",
            "process image... /content/datasets/ADEChallengeData2016/images/validation/ADE_val_00000773.jpg\n",
            "process image... /content/datasets/ADEChallengeData2016/images/validation/ADE_val_00000774.jpg\n",
            "process image... /content/datasets/ADEChallengeData2016/images/validation/ADE_val_00000775.jpg\n",
            "process image... /content/datasets/ADEChallengeData2016/images/validation/ADE_val_00000776.jpg\n",
            "process image... /content/datasets/ADEChallengeData2016/images/validation/ADE_val_00000777.jpg\n",
            "process image... /content/datasets/ADEChallengeData2016/images/validation/ADE_val_00000778.jpg\n",
            "process image... /content/datasets/ADEChallengeData2016/images/validation/ADE_val_00000779.jpg\n",
            "process image... /content/datasets/ADEChallengeData2016/images/validation/ADE_val_00000780.jpg\n",
            "process image... /content/datasets/ADEChallengeData2016/images/validation/ADE_val_00000781.jpg\n",
            "process image... /content/datasets/ADEChallengeData2016/images/validation/ADE_val_00000782.jpg\n",
            "process image... /content/datasets/ADEChallengeData2016/images/validation/ADE_val_00000783.jpg\n",
            "process image... /content/datasets/ADEChallengeData2016/images/validation/ADE_val_00000784.jpg\n",
            "process image... /content/datasets/ADEChallengeData2016/images/validation/ADE_val_00000785.jpg\n",
            "process image... /content/datasets/ADEChallengeData2016/images/validation/ADE_val_00000786.jpg\n",
            "process image... /content/datasets/ADEChallengeData2016/images/validation/ADE_val_00000787.jpg\n",
            "process image... /content/datasets/ADEChallengeData2016/images/validation/ADE_val_00000788.jpg\n",
            "process image... /content/datasets/ADEChallengeData2016/images/validation/ADE_val_00000789.jpg\n",
            "process image... /content/datasets/ADEChallengeData2016/images/validation/ADE_val_00000790.jpg\n",
            "process image... /content/datasets/ADEChallengeData2016/images/validation/ADE_val_00000791.jpg\n",
            "process image... /content/datasets/ADEChallengeData2016/images/validation/ADE_val_00000792.jpg\n",
            "process image... /content/datasets/ADEChallengeData2016/images/validation/ADE_val_00000793.jpg\n",
            "process image... /content/datasets/ADEChallengeData2016/images/validation/ADE_val_00000794.jpg\n",
            "process image... /content/datasets/ADEChallengeData2016/images/validation/ADE_val_00000795.jpg\n",
            "process image... /content/datasets/ADEChallengeData2016/images/validation/ADE_val_00000796.jpg\n",
            "process image... /content/datasets/ADEChallengeData2016/images/validation/ADE_val_00000797.jpg\n",
            "process image... /content/datasets/ADEChallengeData2016/images/validation/ADE_val_00000798.jpg\n",
            "process image... /content/datasets/ADEChallengeData2016/images/validation/ADE_val_00000799.jpg\n",
            "process image... /content/datasets/ADEChallengeData2016/images/validation/ADE_val_00000800.jpg\n",
            "process image... /content/datasets/ADEChallengeData2016/images/validation/ADE_val_00000801.jpg\n",
            "process image... /content/datasets/ADEChallengeData2016/images/validation/ADE_val_00000802.jpg\n",
            "process image... /content/datasets/ADEChallengeData2016/images/validation/ADE_val_00000803.jpg\n",
            "process image... /content/datasets/ADEChallengeData2016/images/validation/ADE_val_00000804.jpg\n",
            "process image... /content/datasets/ADEChallengeData2016/images/validation/ADE_val_00000805.jpg\n",
            "process image... /content/datasets/ADEChallengeData2016/images/validation/ADE_val_00000806.jpg\n",
            "process image... /content/datasets/ADEChallengeData2016/images/validation/ADE_val_00000807.jpg\n",
            "process image... /content/datasets/ADEChallengeData2016/images/validation/ADE_val_00000808.jpg\n",
            "process image... /content/datasets/ADEChallengeData2016/images/validation/ADE_val_00000809.jpg\n",
            "process image... /content/datasets/ADEChallengeData2016/images/validation/ADE_val_00000810.jpg\n",
            "process image... /content/datasets/ADEChallengeData2016/images/validation/ADE_val_00000811.jpg\n",
            "process image... /content/datasets/ADEChallengeData2016/images/validation/ADE_val_00000812.jpg\n",
            "process image... /content/datasets/ADEChallengeData2016/images/validation/ADE_val_00000813.jpg\n",
            "process image... /content/datasets/ADEChallengeData2016/images/validation/ADE_val_00000814.jpg\n",
            "process image... /content/datasets/ADEChallengeData2016/images/validation/ADE_val_00000815.jpg\n",
            "process image... /content/datasets/ADEChallengeData2016/images/validation/ADE_val_00000816.jpg\n",
            "process image... /content/datasets/ADEChallengeData2016/images/validation/ADE_val_00000817.jpg\n",
            "process image... /content/datasets/ADEChallengeData2016/images/validation/ADE_val_00000818.jpg\n",
            "process image... /content/datasets/ADEChallengeData2016/images/validation/ADE_val_00000819.jpg\n",
            "process image... /content/datasets/ADEChallengeData2016/images/validation/ADE_val_00000820.jpg\n",
            "process image... /content/datasets/ADEChallengeData2016/images/validation/ADE_val_00000821.jpg\n",
            "process image... /content/datasets/ADEChallengeData2016/images/validation/ADE_val_00000822.jpg\n",
            "process image... /content/datasets/ADEChallengeData2016/images/validation/ADE_val_00000823.jpg\n",
            "process image... /content/datasets/ADEChallengeData2016/images/validation/ADE_val_00000824.jpg\n",
            "process image... /content/datasets/ADEChallengeData2016/images/validation/ADE_val_00000825.jpg\n",
            "process image... /content/datasets/ADEChallengeData2016/images/validation/ADE_val_00000826.jpg\n",
            "process image... /content/datasets/ADEChallengeData2016/images/validation/ADE_val_00000827.jpg\n",
            "process image... /content/datasets/ADEChallengeData2016/images/validation/ADE_val_00000828.jpg\n",
            "process image... /content/datasets/ADEChallengeData2016/images/validation/ADE_val_00000829.jpg\n",
            "process image... /content/datasets/ADEChallengeData2016/images/validation/ADE_val_00000830.jpg\n",
            "process image... /content/datasets/ADEChallengeData2016/images/validation/ADE_val_00000831.jpg\n",
            "process image... /content/datasets/ADEChallengeData2016/images/validation/ADE_val_00000832.jpg\n",
            "process image... /content/datasets/ADEChallengeData2016/images/validation/ADE_val_00000833.jpg\n",
            "process image... /content/datasets/ADEChallengeData2016/images/validation/ADE_val_00000834.jpg\n",
            "process image... /content/datasets/ADEChallengeData2016/images/validation/ADE_val_00000835.jpg\n",
            "process image... /content/datasets/ADEChallengeData2016/images/validation/ADE_val_00000836.jpg\n",
            "process image... /content/datasets/ADEChallengeData2016/images/validation/ADE_val_00000837.jpg\n",
            "process image... /content/datasets/ADEChallengeData2016/images/validation/ADE_val_00000838.jpg\n",
            "process image... /content/datasets/ADEChallengeData2016/images/validation/ADE_val_00000839.jpg\n",
            "process image... /content/datasets/ADEChallengeData2016/images/validation/ADE_val_00000840.jpg\n",
            "process image... /content/datasets/ADEChallengeData2016/images/validation/ADE_val_00000841.jpg\n",
            "process image... /content/datasets/ADEChallengeData2016/images/validation/ADE_val_00000842.jpg\n",
            "process image... /content/datasets/ADEChallengeData2016/images/validation/ADE_val_00000843.jpg\n",
            "process image... /content/datasets/ADEChallengeData2016/images/validation/ADE_val_00000844.jpg\n",
            "process image... /content/datasets/ADEChallengeData2016/images/validation/ADE_val_00000845.jpg\n",
            "process image... /content/datasets/ADEChallengeData2016/images/validation/ADE_val_00000846.jpg\n",
            "process image... /content/datasets/ADEChallengeData2016/images/validation/ADE_val_00000847.jpg\n",
            "process image... /content/datasets/ADEChallengeData2016/images/validation/ADE_val_00000848.jpg\n",
            "process image... /content/datasets/ADEChallengeData2016/images/validation/ADE_val_00000849.jpg\n",
            "process image... /content/datasets/ADEChallengeData2016/images/validation/ADE_val_00000850.jpg\n",
            "process image... /content/datasets/ADEChallengeData2016/images/validation/ADE_val_00000851.jpg\n",
            "process image... /content/datasets/ADEChallengeData2016/images/validation/ADE_val_00000852.jpg\n",
            "process image... /content/datasets/ADEChallengeData2016/images/validation/ADE_val_00000853.jpg\n",
            "process image... /content/datasets/ADEChallengeData2016/images/validation/ADE_val_00000854.jpg\n",
            "process image... /content/datasets/ADEChallengeData2016/images/validation/ADE_val_00000855.jpg\n",
            "process image... /content/datasets/ADEChallengeData2016/images/validation/ADE_val_00000856.jpg\n",
            "process image... /content/datasets/ADEChallengeData2016/images/validation/ADE_val_00000857.jpg\n",
            "process image... /content/datasets/ADEChallengeData2016/images/validation/ADE_val_00000858.jpg\n",
            "process image... /content/datasets/ADEChallengeData2016/images/validation/ADE_val_00000859.jpg\n",
            "process image... /content/datasets/ADEChallengeData2016/images/validation/ADE_val_00000860.jpg\n",
            "process image... /content/datasets/ADEChallengeData2016/images/validation/ADE_val_00000861.jpg\n",
            "process image... /content/datasets/ADEChallengeData2016/images/validation/ADE_val_00000862.jpg\n",
            "process image... /content/datasets/ADEChallengeData2016/images/validation/ADE_val_00000863.jpg\n",
            "process image... /content/datasets/ADEChallengeData2016/images/validation/ADE_val_00000864.jpg\n",
            "process image... /content/datasets/ADEChallengeData2016/images/validation/ADE_val_00000865.jpg\n",
            "process image... /content/datasets/ADEChallengeData2016/images/validation/ADE_val_00000866.jpg\n",
            "process image... /content/datasets/ADEChallengeData2016/images/validation/ADE_val_00000867.jpg\n",
            "process image... /content/datasets/ADEChallengeData2016/images/validation/ADE_val_00000868.jpg\n",
            "process image... /content/datasets/ADEChallengeData2016/images/validation/ADE_val_00000869.jpg\n",
            "process image... /content/datasets/ADEChallengeData2016/images/validation/ADE_val_00000870.jpg\n",
            "process image... /content/datasets/ADEChallengeData2016/images/validation/ADE_val_00000871.jpg\n",
            "process image... /content/datasets/ADEChallengeData2016/images/validation/ADE_val_00000872.jpg\n",
            "process image... /content/datasets/ADEChallengeData2016/images/validation/ADE_val_00000873.jpg\n",
            "process image... /content/datasets/ADEChallengeData2016/images/validation/ADE_val_00000874.jpg\n",
            "process image... /content/datasets/ADEChallengeData2016/images/validation/ADE_val_00000875.jpg\n",
            "process image... /content/datasets/ADEChallengeData2016/images/validation/ADE_val_00000876.jpg\n",
            "process image... /content/datasets/ADEChallengeData2016/images/validation/ADE_val_00000877.jpg\n",
            "process image... /content/datasets/ADEChallengeData2016/images/validation/ADE_val_00000878.jpg\n",
            "process image... /content/datasets/ADEChallengeData2016/images/validation/ADE_val_00000879.jpg\n",
            "process image... /content/datasets/ADEChallengeData2016/images/validation/ADE_val_00000880.jpg\n",
            "process image... /content/datasets/ADEChallengeData2016/images/validation/ADE_val_00000881.jpg\n",
            "process image... /content/datasets/ADEChallengeData2016/images/validation/ADE_val_00000882.jpg\n",
            "process image... /content/datasets/ADEChallengeData2016/images/validation/ADE_val_00000883.jpg\n",
            "process image... /content/datasets/ADEChallengeData2016/images/validation/ADE_val_00000884.jpg\n",
            "process image... /content/datasets/ADEChallengeData2016/images/validation/ADE_val_00000885.jpg\n",
            "process image... /content/datasets/ADEChallengeData2016/images/validation/ADE_val_00000886.jpg\n",
            "process image... /content/datasets/ADEChallengeData2016/images/validation/ADE_val_00000887.jpg\n",
            "process image... /content/datasets/ADEChallengeData2016/images/validation/ADE_val_00000888.jpg\n",
            "process image... /content/datasets/ADEChallengeData2016/images/validation/ADE_val_00000889.jpg\n",
            "process image... /content/datasets/ADEChallengeData2016/images/validation/ADE_val_00000890.jpg\n",
            "process image... /content/datasets/ADEChallengeData2016/images/validation/ADE_val_00000891.jpg\n",
            "process image... /content/datasets/ADEChallengeData2016/images/validation/ADE_val_00000892.jpg\n",
            "process image... /content/datasets/ADEChallengeData2016/images/validation/ADE_val_00000893.jpg\n",
            "process image... /content/datasets/ADEChallengeData2016/images/validation/ADE_val_00000894.jpg\n",
            "process image... /content/datasets/ADEChallengeData2016/images/validation/ADE_val_00000895.jpg\n",
            "process image... /content/datasets/ADEChallengeData2016/images/validation/ADE_val_00000896.jpg\n",
            "process image... /content/datasets/ADEChallengeData2016/images/validation/ADE_val_00000897.jpg\n",
            "process image... /content/datasets/ADEChallengeData2016/images/validation/ADE_val_00000898.jpg\n",
            "process image... /content/datasets/ADEChallengeData2016/images/validation/ADE_val_00000899.jpg\n",
            "process image... /content/datasets/ADEChallengeData2016/images/validation/ADE_val_00000900.jpg\n",
            "process image... /content/datasets/ADEChallengeData2016/images/validation/ADE_val_00000901.jpg\n",
            "process image... /content/datasets/ADEChallengeData2016/images/validation/ADE_val_00000902.jpg\n",
            "process image... /content/datasets/ADEChallengeData2016/images/validation/ADE_val_00000903.jpg\n",
            "process image... /content/datasets/ADEChallengeData2016/images/validation/ADE_val_00000904.jpg\n",
            "process image... /content/datasets/ADEChallengeData2016/images/validation/ADE_val_00000905.jpg\n",
            "process image... /content/datasets/ADEChallengeData2016/images/validation/ADE_val_00000906.jpg\n",
            "process image... /content/datasets/ADEChallengeData2016/images/validation/ADE_val_00000907.jpg\n",
            "process image... /content/datasets/ADEChallengeData2016/images/validation/ADE_val_00000908.jpg\n",
            "process image... /content/datasets/ADEChallengeData2016/images/validation/ADE_val_00000909.jpg\n",
            "process image... /content/datasets/ADEChallengeData2016/images/validation/ADE_val_00000910.jpg\n",
            "process image... /content/datasets/ADEChallengeData2016/images/validation/ADE_val_00000911.jpg\n",
            "process image... /content/datasets/ADEChallengeData2016/images/validation/ADE_val_00000912.jpg\n",
            "process image... /content/datasets/ADEChallengeData2016/images/validation/ADE_val_00000913.jpg\n",
            "process image... /content/datasets/ADEChallengeData2016/images/validation/ADE_val_00000914.jpg\n",
            "process image... /content/datasets/ADEChallengeData2016/images/validation/ADE_val_00000915.jpg\n",
            "process image... /content/datasets/ADEChallengeData2016/images/validation/ADE_val_00000916.jpg\n",
            "process image... /content/datasets/ADEChallengeData2016/images/validation/ADE_val_00000917.jpg\n",
            "process image... /content/datasets/ADEChallengeData2016/images/validation/ADE_val_00000918.jpg\n",
            "process image... /content/datasets/ADEChallengeData2016/images/validation/ADE_val_00000919.jpg\n",
            "process image... /content/datasets/ADEChallengeData2016/images/validation/ADE_val_00000920.jpg\n",
            "process image... /content/datasets/ADEChallengeData2016/images/validation/ADE_val_00000921.jpg\n",
            "process image... /content/datasets/ADEChallengeData2016/images/validation/ADE_val_00000922.jpg\n",
            "process image... /content/datasets/ADEChallengeData2016/images/validation/ADE_val_00000923.jpg\n",
            "process image... /content/datasets/ADEChallengeData2016/images/validation/ADE_val_00000924.jpg\n",
            "process image... /content/datasets/ADEChallengeData2016/images/validation/ADE_val_00000925.jpg\n",
            "process image... /content/datasets/ADEChallengeData2016/images/validation/ADE_val_00000926.jpg\n",
            "process image... /content/datasets/ADEChallengeData2016/images/validation/ADE_val_00000927.jpg\n",
            "process image... /content/datasets/ADEChallengeData2016/images/validation/ADE_val_00000928.jpg\n",
            "process image... /content/datasets/ADEChallengeData2016/images/validation/ADE_val_00000929.jpg\n",
            "process image... /content/datasets/ADEChallengeData2016/images/validation/ADE_val_00000930.jpg\n",
            "process image... /content/datasets/ADEChallengeData2016/images/validation/ADE_val_00000931.jpg\n",
            "process image... /content/datasets/ADEChallengeData2016/images/validation/ADE_val_00000932.jpg\n",
            "process image... /content/datasets/ADEChallengeData2016/images/validation/ADE_val_00000933.jpg\n",
            "process image... /content/datasets/ADEChallengeData2016/images/validation/ADE_val_00000934.jpg\n",
            "process image... /content/datasets/ADEChallengeData2016/images/validation/ADE_val_00000935.jpg\n",
            "process image... /content/datasets/ADEChallengeData2016/images/validation/ADE_val_00000936.jpg\n",
            "process image... /content/datasets/ADEChallengeData2016/images/validation/ADE_val_00000937.jpg\n",
            "process image... /content/datasets/ADEChallengeData2016/images/validation/ADE_val_00000938.jpg\n",
            "process image... /content/datasets/ADEChallengeData2016/images/validation/ADE_val_00000939.jpg\n",
            "process image... /content/datasets/ADEChallengeData2016/images/validation/ADE_val_00000940.jpg\n",
            "process image... /content/datasets/ADEChallengeData2016/images/validation/ADE_val_00000941.jpg\n",
            "process image... /content/datasets/ADEChallengeData2016/images/validation/ADE_val_00000942.jpg\n",
            "process image... /content/datasets/ADEChallengeData2016/images/validation/ADE_val_00000943.jpg\n",
            "process image... /content/datasets/ADEChallengeData2016/images/validation/ADE_val_00000944.jpg\n",
            "process image... /content/datasets/ADEChallengeData2016/images/validation/ADE_val_00000945.jpg\n",
            "process image... /content/datasets/ADEChallengeData2016/images/validation/ADE_val_00000946.jpg\n",
            "process image... /content/datasets/ADEChallengeData2016/images/validation/ADE_val_00000947.jpg\n",
            "process image... /content/datasets/ADEChallengeData2016/images/validation/ADE_val_00000948.jpg\n",
            "process image... /content/datasets/ADEChallengeData2016/images/validation/ADE_val_00000949.jpg\n",
            "process image... /content/datasets/ADEChallengeData2016/images/validation/ADE_val_00000950.jpg\n",
            "process image... /content/datasets/ADEChallengeData2016/images/validation/ADE_val_00000951.jpg\n",
            "process image... /content/datasets/ADEChallengeData2016/images/validation/ADE_val_00000952.jpg\n",
            "process image... /content/datasets/ADEChallengeData2016/images/validation/ADE_val_00000953.jpg\n",
            "process image... /content/datasets/ADEChallengeData2016/images/validation/ADE_val_00000954.jpg\n",
            "process image... /content/datasets/ADEChallengeData2016/images/validation/ADE_val_00000955.jpg\n",
            "process image... /content/datasets/ADEChallengeData2016/images/validation/ADE_val_00000956.jpg\n",
            "process image... /content/datasets/ADEChallengeData2016/images/validation/ADE_val_00000957.jpg\n",
            "process image... /content/datasets/ADEChallengeData2016/images/validation/ADE_val_00000958.jpg\n",
            "process image... /content/datasets/ADEChallengeData2016/images/validation/ADE_val_00000959.jpg\n",
            "process image... /content/datasets/ADEChallengeData2016/images/validation/ADE_val_00000960.jpg\n",
            "process image... /content/datasets/ADEChallengeData2016/images/validation/ADE_val_00000961.jpg\n",
            "process image... /content/datasets/ADEChallengeData2016/images/validation/ADE_val_00000962.jpg\n",
            "process image... /content/datasets/ADEChallengeData2016/images/validation/ADE_val_00000963.jpg\n",
            "process image... /content/datasets/ADEChallengeData2016/images/validation/ADE_val_00000964.jpg\n",
            "process image... /content/datasets/ADEChallengeData2016/images/validation/ADE_val_00000965.jpg\n",
            "process image... /content/datasets/ADEChallengeData2016/images/validation/ADE_val_00000966.jpg\n",
            "process image... /content/datasets/ADEChallengeData2016/images/validation/ADE_val_00000967.jpg\n",
            "process image... /content/datasets/ADEChallengeData2016/images/validation/ADE_val_00000968.jpg\n",
            "process image... /content/datasets/ADEChallengeData2016/images/validation/ADE_val_00000969.jpg\n",
            "process image... /content/datasets/ADEChallengeData2016/images/validation/ADE_val_00000970.jpg\n",
            "process image... /content/datasets/ADEChallengeData2016/images/validation/ADE_val_00000971.jpg\n",
            "process image... /content/datasets/ADEChallengeData2016/images/validation/ADE_val_00000972.jpg\n",
            "process image... /content/datasets/ADEChallengeData2016/images/validation/ADE_val_00000973.jpg\n",
            "process image... /content/datasets/ADEChallengeData2016/images/validation/ADE_val_00000974.jpg\n",
            "process image... /content/datasets/ADEChallengeData2016/images/validation/ADE_val_00000975.jpg\n",
            "process image... /content/datasets/ADEChallengeData2016/images/validation/ADE_val_00000976.jpg\n",
            "process image... /content/datasets/ADEChallengeData2016/images/validation/ADE_val_00000977.jpg\n",
            "process image... /content/datasets/ADEChallengeData2016/images/validation/ADE_val_00000978.jpg\n",
            "process image... /content/datasets/ADEChallengeData2016/images/validation/ADE_val_00000979.jpg\n",
            "process image... /content/datasets/ADEChallengeData2016/images/validation/ADE_val_00000980.jpg\n",
            "process image... /content/datasets/ADEChallengeData2016/images/validation/ADE_val_00000981.jpg\n",
            "process image... /content/datasets/ADEChallengeData2016/images/validation/ADE_val_00000982.jpg\n",
            "process image... /content/datasets/ADEChallengeData2016/images/validation/ADE_val_00000983.jpg\n",
            "process image... /content/datasets/ADEChallengeData2016/images/validation/ADE_val_00000984.jpg\n",
            "process image... /content/datasets/ADEChallengeData2016/images/validation/ADE_val_00000985.jpg\n",
            "process image... /content/datasets/ADEChallengeData2016/images/validation/ADE_val_00000986.jpg\n",
            "process image... /content/datasets/ADEChallengeData2016/images/validation/ADE_val_00000987.jpg\n",
            "process image... /content/datasets/ADEChallengeData2016/images/validation/ADE_val_00000988.jpg\n",
            "process image... /content/datasets/ADEChallengeData2016/images/validation/ADE_val_00000989.jpg\n",
            "process image... /content/datasets/ADEChallengeData2016/images/validation/ADE_val_00000990.jpg\n",
            "process image... /content/datasets/ADEChallengeData2016/images/validation/ADE_val_00000991.jpg\n",
            "process image... /content/datasets/ADEChallengeData2016/images/validation/ADE_val_00000992.jpg\n",
            "process image... /content/datasets/ADEChallengeData2016/images/validation/ADE_val_00000993.jpg\n",
            "process image... /content/datasets/ADEChallengeData2016/images/validation/ADE_val_00000994.jpg\n",
            "process image... /content/datasets/ADEChallengeData2016/images/validation/ADE_val_00000995.jpg\n",
            "process image... /content/datasets/ADEChallengeData2016/images/validation/ADE_val_00000996.jpg\n",
            "process image... /content/datasets/ADEChallengeData2016/images/validation/ADE_val_00000997.jpg\n",
            "process image... /content/datasets/ADEChallengeData2016/images/validation/ADE_val_00000998.jpg\n",
            "process image... /content/datasets/ADEChallengeData2016/images/validation/ADE_val_00000999.jpg\n",
            "process image... /content/datasets/ADEChallengeData2016/images/validation/ADE_val_00001000.jpg\n",
            "process image... /content/datasets/ADEChallengeData2016/images/validation/ADE_val_00001001.jpg\n",
            "process image... /content/datasets/ADEChallengeData2016/images/validation/ADE_val_00001002.jpg\n",
            "process image... /content/datasets/ADEChallengeData2016/images/validation/ADE_val_00001003.jpg\n",
            "process image... /content/datasets/ADEChallengeData2016/images/validation/ADE_val_00001004.jpg\n",
            "process image... /content/datasets/ADEChallengeData2016/images/validation/ADE_val_00001005.jpg\n",
            "process image... /content/datasets/ADEChallengeData2016/images/validation/ADE_val_00001006.jpg\n",
            "process image... /content/datasets/ADEChallengeData2016/images/validation/ADE_val_00001007.jpg\n",
            "process image... /content/datasets/ADEChallengeData2016/images/validation/ADE_val_00001008.jpg\n",
            "process image... /content/datasets/ADEChallengeData2016/images/validation/ADE_val_00001009.jpg\n",
            "process image... /content/datasets/ADEChallengeData2016/images/validation/ADE_val_00001010.jpg\n",
            "process image... /content/datasets/ADEChallengeData2016/images/validation/ADE_val_00001011.jpg\n",
            "process image... /content/datasets/ADEChallengeData2016/images/validation/ADE_val_00001012.jpg\n",
            "process image... /content/datasets/ADEChallengeData2016/images/validation/ADE_val_00001013.jpg\n",
            "process image... /content/datasets/ADEChallengeData2016/images/validation/ADE_val_00001014.jpg\n",
            "process image... /content/datasets/ADEChallengeData2016/images/validation/ADE_val_00001015.jpg\n",
            "process image... /content/datasets/ADEChallengeData2016/images/validation/ADE_val_00001016.jpg\n",
            "process image... /content/datasets/ADEChallengeData2016/images/validation/ADE_val_00001017.jpg\n",
            "process image... /content/datasets/ADEChallengeData2016/images/validation/ADE_val_00001018.jpg\n",
            "process image... /content/datasets/ADEChallengeData2016/images/validation/ADE_val_00001019.jpg\n",
            "process image... /content/datasets/ADEChallengeData2016/images/validation/ADE_val_00001020.jpg\n",
            "process image... /content/datasets/ADEChallengeData2016/images/validation/ADE_val_00001021.jpg\n",
            "process image... /content/datasets/ADEChallengeData2016/images/validation/ADE_val_00001022.jpg\n",
            "process image... /content/datasets/ADEChallengeData2016/images/validation/ADE_val_00001023.jpg\n",
            "process image... /content/datasets/ADEChallengeData2016/images/validation/ADE_val_00001024.jpg\n",
            "process image... /content/datasets/ADEChallengeData2016/images/validation/ADE_val_00001025.jpg\n",
            "process image... /content/datasets/ADEChallengeData2016/images/validation/ADE_val_00001026.jpg\n",
            "process image... /content/datasets/ADEChallengeData2016/images/validation/ADE_val_00001027.jpg\n",
            "process image... /content/datasets/ADEChallengeData2016/images/validation/ADE_val_00001028.jpg\n",
            "process image... /content/datasets/ADEChallengeData2016/images/validation/ADE_val_00001029.jpg\n",
            "process image... /content/datasets/ADEChallengeData2016/images/validation/ADE_val_00001030.jpg\n",
            "process image... /content/datasets/ADEChallengeData2016/images/validation/ADE_val_00001031.jpg\n",
            "process image... /content/datasets/ADEChallengeData2016/images/validation/ADE_val_00001032.jpg\n",
            "process image... /content/datasets/ADEChallengeData2016/images/validation/ADE_val_00001033.jpg\n",
            "process image... /content/datasets/ADEChallengeData2016/images/validation/ADE_val_00001034.jpg\n",
            "process image... /content/datasets/ADEChallengeData2016/images/validation/ADE_val_00001035.jpg\n",
            "process image... /content/datasets/ADEChallengeData2016/images/validation/ADE_val_00001036.jpg\n",
            "process image... /content/datasets/ADEChallengeData2016/images/validation/ADE_val_00001037.jpg\n",
            "process image... /content/datasets/ADEChallengeData2016/images/validation/ADE_val_00001038.jpg\n",
            "process image... /content/datasets/ADEChallengeData2016/images/validation/ADE_val_00001039.jpg\n",
            "process image... /content/datasets/ADEChallengeData2016/images/validation/ADE_val_00001040.jpg\n",
            "process image... /content/datasets/ADEChallengeData2016/images/validation/ADE_val_00001041.jpg\n",
            "process image... /content/datasets/ADEChallengeData2016/images/validation/ADE_val_00001042.jpg\n",
            "process image... /content/datasets/ADEChallengeData2016/images/validation/ADE_val_00001043.jpg\n",
            "process image... /content/datasets/ADEChallengeData2016/images/validation/ADE_val_00001044.jpg\n",
            "process image... /content/datasets/ADEChallengeData2016/images/validation/ADE_val_00001045.jpg\n",
            "process image... /content/datasets/ADEChallengeData2016/images/validation/ADE_val_00001046.jpg\n",
            "process image... /content/datasets/ADEChallengeData2016/images/validation/ADE_val_00001047.jpg\n",
            "process image... /content/datasets/ADEChallengeData2016/images/validation/ADE_val_00001048.jpg\n",
            "process image... /content/datasets/ADEChallengeData2016/images/validation/ADE_val_00001049.jpg\n",
            "process image... /content/datasets/ADEChallengeData2016/images/validation/ADE_val_00001050.jpg\n",
            "process image... /content/datasets/ADEChallengeData2016/images/validation/ADE_val_00001051.jpg\n",
            "process image... /content/datasets/ADEChallengeData2016/images/validation/ADE_val_00001052.jpg\n",
            "process image... /content/datasets/ADEChallengeData2016/images/validation/ADE_val_00001053.jpg\n",
            "process image... /content/datasets/ADEChallengeData2016/images/validation/ADE_val_00001054.jpg\n",
            "process image... /content/datasets/ADEChallengeData2016/images/validation/ADE_val_00001055.jpg\n",
            "process image... /content/datasets/ADEChallengeData2016/images/validation/ADE_val_00001056.jpg\n",
            "process image... /content/datasets/ADEChallengeData2016/images/validation/ADE_val_00001057.jpg\n",
            "process image... /content/datasets/ADEChallengeData2016/images/validation/ADE_val_00001058.jpg\n",
            "process image... /content/datasets/ADEChallengeData2016/images/validation/ADE_val_00001059.jpg\n",
            "process image... /content/datasets/ADEChallengeData2016/images/validation/ADE_val_00001060.jpg\n",
            "process image... /content/datasets/ADEChallengeData2016/images/validation/ADE_val_00001061.jpg\n",
            "process image... /content/datasets/ADEChallengeData2016/images/validation/ADE_val_00001062.jpg\n",
            "process image... /content/datasets/ADEChallengeData2016/images/validation/ADE_val_00001063.jpg\n",
            "process image... /content/datasets/ADEChallengeData2016/images/validation/ADE_val_00001064.jpg\n",
            "process image... /content/datasets/ADEChallengeData2016/images/validation/ADE_val_00001065.jpg\n",
            "process image... /content/datasets/ADEChallengeData2016/images/validation/ADE_val_00001066.jpg\n",
            "process image... /content/datasets/ADEChallengeData2016/images/validation/ADE_val_00001067.jpg\n",
            "process image... /content/datasets/ADEChallengeData2016/images/validation/ADE_val_00001068.jpg\n",
            "process image... /content/datasets/ADEChallengeData2016/images/validation/ADE_val_00001069.jpg\n",
            "process image... /content/datasets/ADEChallengeData2016/images/validation/ADE_val_00001070.jpg\n",
            "process image... /content/datasets/ADEChallengeData2016/images/validation/ADE_val_00001071.jpg\n",
            "process image... /content/datasets/ADEChallengeData2016/images/validation/ADE_val_00001072.jpg\n",
            "process image... /content/datasets/ADEChallengeData2016/images/validation/ADE_val_00001073.jpg\n",
            "process image... /content/datasets/ADEChallengeData2016/images/validation/ADE_val_00001074.jpg\n",
            "process image... /content/datasets/ADEChallengeData2016/images/validation/ADE_val_00001075.jpg\n",
            "process image... /content/datasets/ADEChallengeData2016/images/validation/ADE_val_00001076.jpg\n",
            "process image... /content/datasets/ADEChallengeData2016/images/validation/ADE_val_00001077.jpg\n",
            "process image... /content/datasets/ADEChallengeData2016/images/validation/ADE_val_00001078.jpg\n",
            "process image... /content/datasets/ADEChallengeData2016/images/validation/ADE_val_00001079.jpg\n",
            "process image... /content/datasets/ADEChallengeData2016/images/validation/ADE_val_00001080.jpg\n",
            "process image... /content/datasets/ADEChallengeData2016/images/validation/ADE_val_00001081.jpg\n",
            "process image... /content/datasets/ADEChallengeData2016/images/validation/ADE_val_00001082.jpg\n",
            "process image... /content/datasets/ADEChallengeData2016/images/validation/ADE_val_00001083.jpg\n",
            "process image... /content/datasets/ADEChallengeData2016/images/validation/ADE_val_00001084.jpg\n",
            "process image... /content/datasets/ADEChallengeData2016/images/validation/ADE_val_00001085.jpg\n",
            "process image... /content/datasets/ADEChallengeData2016/images/validation/ADE_val_00001086.jpg\n",
            "process image... /content/datasets/ADEChallengeData2016/images/validation/ADE_val_00001087.jpg\n",
            "process image... /content/datasets/ADEChallengeData2016/images/validation/ADE_val_00001088.jpg\n",
            "process image... /content/datasets/ADEChallengeData2016/images/validation/ADE_val_00001089.jpg\n",
            "process image... /content/datasets/ADEChallengeData2016/images/validation/ADE_val_00001090.jpg\n",
            "process image... /content/datasets/ADEChallengeData2016/images/validation/ADE_val_00001091.jpg\n",
            "process image... /content/datasets/ADEChallengeData2016/images/validation/ADE_val_00001092.jpg\n",
            "process image... /content/datasets/ADEChallengeData2016/images/validation/ADE_val_00001093.jpg\n",
            "process image... /content/datasets/ADEChallengeData2016/images/validation/ADE_val_00001094.jpg\n",
            "process image... /content/datasets/ADEChallengeData2016/images/validation/ADE_val_00001095.jpg\n",
            "process image... /content/datasets/ADEChallengeData2016/images/validation/ADE_val_00001096.jpg\n",
            "process image... /content/datasets/ADEChallengeData2016/images/validation/ADE_val_00001097.jpg\n",
            "process image... /content/datasets/ADEChallengeData2016/images/validation/ADE_val_00001098.jpg\n",
            "process image... /content/datasets/ADEChallengeData2016/images/validation/ADE_val_00001099.jpg\n",
            "process image... /content/datasets/ADEChallengeData2016/images/validation/ADE_val_00001100.jpg\n",
            "process image... /content/datasets/ADEChallengeData2016/images/validation/ADE_val_00001101.jpg\n",
            "process image... /content/datasets/ADEChallengeData2016/images/validation/ADE_val_00001102.jpg\n",
            "process image... /content/datasets/ADEChallengeData2016/images/validation/ADE_val_00001103.jpg\n",
            "process image... /content/datasets/ADEChallengeData2016/images/validation/ADE_val_00001104.jpg\n",
            "process image... /content/datasets/ADEChallengeData2016/images/validation/ADE_val_00001105.jpg\n",
            "process image... /content/datasets/ADEChallengeData2016/images/validation/ADE_val_00001106.jpg\n",
            "process image... /content/datasets/ADEChallengeData2016/images/validation/ADE_val_00001107.jpg\n",
            "process image... /content/datasets/ADEChallengeData2016/images/validation/ADE_val_00001108.jpg\n",
            "process image... /content/datasets/ADEChallengeData2016/images/validation/ADE_val_00001109.jpg\n",
            "process image... /content/datasets/ADEChallengeData2016/images/validation/ADE_val_00001110.jpg\n",
            "process image... /content/datasets/ADEChallengeData2016/images/validation/ADE_val_00001111.jpg\n",
            "process image... /content/datasets/ADEChallengeData2016/images/validation/ADE_val_00001112.jpg\n",
            "process image... /content/datasets/ADEChallengeData2016/images/validation/ADE_val_00001113.jpg\n",
            "process image... /content/datasets/ADEChallengeData2016/images/validation/ADE_val_00001114.jpg\n",
            "process image... /content/datasets/ADEChallengeData2016/images/validation/ADE_val_00001115.jpg\n",
            "process image... /content/datasets/ADEChallengeData2016/images/validation/ADE_val_00001116.jpg\n",
            "process image... /content/datasets/ADEChallengeData2016/images/validation/ADE_val_00001117.jpg\n",
            "process image... /content/datasets/ADEChallengeData2016/images/validation/ADE_val_00001118.jpg\n",
            "process image... /content/datasets/ADEChallengeData2016/images/validation/ADE_val_00001119.jpg\n",
            "process image... /content/datasets/ADEChallengeData2016/images/validation/ADE_val_00001120.jpg\n",
            "process image... /content/datasets/ADEChallengeData2016/images/validation/ADE_val_00001121.jpg\n",
            "process image... /content/datasets/ADEChallengeData2016/images/validation/ADE_val_00001122.jpg\n",
            "process image... /content/datasets/ADEChallengeData2016/images/validation/ADE_val_00001123.jpg\n",
            "process image... /content/datasets/ADEChallengeData2016/images/validation/ADE_val_00001124.jpg\n",
            "process image... /content/datasets/ADEChallengeData2016/images/validation/ADE_val_00001125.jpg\n",
            "process image... /content/datasets/ADEChallengeData2016/images/validation/ADE_val_00001126.jpg\n",
            "process image... /content/datasets/ADEChallengeData2016/images/validation/ADE_val_00001127.jpg\n",
            "process image... /content/datasets/ADEChallengeData2016/images/validation/ADE_val_00001128.jpg\n",
            "process image... /content/datasets/ADEChallengeData2016/images/validation/ADE_val_00001129.jpg\n",
            "process image... /content/datasets/ADEChallengeData2016/images/validation/ADE_val_00001130.jpg\n",
            "process image... /content/datasets/ADEChallengeData2016/images/validation/ADE_val_00001131.jpg\n",
            "process image... /content/datasets/ADEChallengeData2016/images/validation/ADE_val_00001132.jpg\n",
            "process image... /content/datasets/ADEChallengeData2016/images/validation/ADE_val_00001133.jpg\n",
            "process image... /content/datasets/ADEChallengeData2016/images/validation/ADE_val_00001134.jpg\n",
            "process image... /content/datasets/ADEChallengeData2016/images/validation/ADE_val_00001135.jpg\n",
            "process image... /content/datasets/ADEChallengeData2016/images/validation/ADE_val_00001136.jpg\n",
            "process image... /content/datasets/ADEChallengeData2016/images/validation/ADE_val_00001137.jpg\n",
            "process image... /content/datasets/ADEChallengeData2016/images/validation/ADE_val_00001138.jpg\n",
            "process image... /content/datasets/ADEChallengeData2016/images/validation/ADE_val_00001139.jpg\n",
            "process image... /content/datasets/ADEChallengeData2016/images/validation/ADE_val_00001140.jpg\n",
            "process image... /content/datasets/ADEChallengeData2016/images/validation/ADE_val_00001141.jpg\n",
            "process image... /content/datasets/ADEChallengeData2016/images/validation/ADE_val_00001142.jpg\n",
            "process image... /content/datasets/ADEChallengeData2016/images/validation/ADE_val_00001143.jpg\n",
            "process image... /content/datasets/ADEChallengeData2016/images/validation/ADE_val_00001144.jpg\n",
            "process image... /content/datasets/ADEChallengeData2016/images/validation/ADE_val_00001145.jpg\n",
            "process image... /content/datasets/ADEChallengeData2016/images/validation/ADE_val_00001146.jpg\n",
            "process image... /content/datasets/ADEChallengeData2016/images/validation/ADE_val_00001147.jpg\n",
            "process image... /content/datasets/ADEChallengeData2016/images/validation/ADE_val_00001148.jpg\n",
            "process image... /content/datasets/ADEChallengeData2016/images/validation/ADE_val_00001149.jpg\n",
            "process image... /content/datasets/ADEChallengeData2016/images/validation/ADE_val_00001150.jpg\n",
            "process image... /content/datasets/ADEChallengeData2016/images/validation/ADE_val_00001151.jpg\n",
            "process image... /content/datasets/ADEChallengeData2016/images/validation/ADE_val_00001152.jpg\n",
            "process image... /content/datasets/ADEChallengeData2016/images/validation/ADE_val_00001153.jpg\n",
            "process image... /content/datasets/ADEChallengeData2016/images/validation/ADE_val_00001154.jpg\n",
            "process image... /content/datasets/ADEChallengeData2016/images/validation/ADE_val_00001155.jpg\n",
            "process image... /content/datasets/ADEChallengeData2016/images/validation/ADE_val_00001156.jpg\n",
            "process image... /content/datasets/ADEChallengeData2016/images/validation/ADE_val_00001157.jpg\n",
            "process image... /content/datasets/ADEChallengeData2016/images/validation/ADE_val_00001158.jpg\n",
            "process image... /content/datasets/ADEChallengeData2016/images/validation/ADE_val_00001159.jpg\n",
            "process image... /content/datasets/ADEChallengeData2016/images/validation/ADE_val_00001160.jpg\n",
            "process image... /content/datasets/ADEChallengeData2016/images/validation/ADE_val_00001161.jpg\n",
            "process image... /content/datasets/ADEChallengeData2016/images/validation/ADE_val_00001162.jpg\n",
            "process image... /content/datasets/ADEChallengeData2016/images/validation/ADE_val_00001163.jpg\n",
            "process image... /content/datasets/ADEChallengeData2016/images/validation/ADE_val_00001164.jpg\n",
            "process image... /content/datasets/ADEChallengeData2016/images/validation/ADE_val_00001165.jpg\n",
            "process image... /content/datasets/ADEChallengeData2016/images/validation/ADE_val_00001166.jpg\n",
            "process image... /content/datasets/ADEChallengeData2016/images/validation/ADE_val_00001167.jpg\n",
            "process image... /content/datasets/ADEChallengeData2016/images/validation/ADE_val_00001168.jpg\n",
            "process image... /content/datasets/ADEChallengeData2016/images/validation/ADE_val_00001169.jpg\n",
            "process image... /content/datasets/ADEChallengeData2016/images/validation/ADE_val_00001170.jpg\n",
            "process image... /content/datasets/ADEChallengeData2016/images/validation/ADE_val_00001171.jpg\n",
            "process image... /content/datasets/ADEChallengeData2016/images/validation/ADE_val_00001172.jpg\n",
            "process image... /content/datasets/ADEChallengeData2016/images/validation/ADE_val_00001173.jpg\n",
            "process image... /content/datasets/ADEChallengeData2016/images/validation/ADE_val_00001174.jpg\n",
            "process image... /content/datasets/ADEChallengeData2016/images/validation/ADE_val_00001175.jpg\n",
            "process image... /content/datasets/ADEChallengeData2016/images/validation/ADE_val_00001176.jpg\n",
            "process image... /content/datasets/ADEChallengeData2016/images/validation/ADE_val_00001177.jpg\n",
            "process image... /content/datasets/ADEChallengeData2016/images/validation/ADE_val_00001178.jpg\n",
            "process image... /content/datasets/ADEChallengeData2016/images/validation/ADE_val_00001179.jpg\n",
            "process image... /content/datasets/ADEChallengeData2016/images/validation/ADE_val_00001180.jpg\n",
            "process image... /content/datasets/ADEChallengeData2016/images/validation/ADE_val_00001181.jpg\n",
            "process image... /content/datasets/ADEChallengeData2016/images/validation/ADE_val_00001182.jpg\n",
            "process image... /content/datasets/ADEChallengeData2016/images/validation/ADE_val_00001183.jpg\n",
            "process image... /content/datasets/ADEChallengeData2016/images/validation/ADE_val_00001184.jpg\n",
            "process image... /content/datasets/ADEChallengeData2016/images/validation/ADE_val_00001185.jpg\n",
            "process image... /content/datasets/ADEChallengeData2016/images/validation/ADE_val_00001186.jpg\n",
            "process image... /content/datasets/ADEChallengeData2016/images/validation/ADE_val_00001187.jpg\n",
            "process image... /content/datasets/ADEChallengeData2016/images/validation/ADE_val_00001188.jpg\n",
            "process image... /content/datasets/ADEChallengeData2016/images/validation/ADE_val_00001189.jpg\n",
            "process image... /content/datasets/ADEChallengeData2016/images/validation/ADE_val_00001190.jpg\n",
            "process image... /content/datasets/ADEChallengeData2016/images/validation/ADE_val_00001191.jpg\n",
            "process image... /content/datasets/ADEChallengeData2016/images/validation/ADE_val_00001192.jpg\n",
            "process image... /content/datasets/ADEChallengeData2016/images/validation/ADE_val_00001193.jpg\n",
            "process image... /content/datasets/ADEChallengeData2016/images/validation/ADE_val_00001194.jpg\n",
            "process image... /content/datasets/ADEChallengeData2016/images/validation/ADE_val_00001195.jpg\n",
            "process image... /content/datasets/ADEChallengeData2016/images/validation/ADE_val_00001196.jpg\n",
            "process image... /content/datasets/ADEChallengeData2016/images/validation/ADE_val_00001197.jpg\n",
            "process image... /content/datasets/ADEChallengeData2016/images/validation/ADE_val_00001198.jpg\n",
            "process image... /content/datasets/ADEChallengeData2016/images/validation/ADE_val_00001199.jpg\n",
            "process image... /content/datasets/ADEChallengeData2016/images/validation/ADE_val_00001200.jpg\n",
            "process image... /content/datasets/ADEChallengeData2016/images/validation/ADE_val_00001201.jpg\n",
            "process image... /content/datasets/ADEChallengeData2016/images/validation/ADE_val_00001202.jpg\n",
            "process image... /content/datasets/ADEChallengeData2016/images/validation/ADE_val_00001203.jpg\n",
            "process image... /content/datasets/ADEChallengeData2016/images/validation/ADE_val_00001204.jpg\n",
            "process image... /content/datasets/ADEChallengeData2016/images/validation/ADE_val_00001205.jpg\n",
            "process image... /content/datasets/ADEChallengeData2016/images/validation/ADE_val_00001206.jpg\n",
            "process image... /content/datasets/ADEChallengeData2016/images/validation/ADE_val_00001207.jpg\n",
            "process image... /content/datasets/ADEChallengeData2016/images/validation/ADE_val_00001208.jpg\n",
            "process image... /content/datasets/ADEChallengeData2016/images/validation/ADE_val_00001209.jpg\n",
            "process image... /content/datasets/ADEChallengeData2016/images/validation/ADE_val_00001210.jpg\n",
            "process image... /content/datasets/ADEChallengeData2016/images/validation/ADE_val_00001211.jpg\n",
            "process image... /content/datasets/ADEChallengeData2016/images/validation/ADE_val_00001212.jpg\n",
            "process image... /content/datasets/ADEChallengeData2016/images/validation/ADE_val_00001213.jpg\n",
            "process image... /content/datasets/ADEChallengeData2016/images/validation/ADE_val_00001214.jpg\n",
            "process image... /content/datasets/ADEChallengeData2016/images/validation/ADE_val_00001215.jpg\n",
            "process image... /content/datasets/ADEChallengeData2016/images/validation/ADE_val_00001216.jpg\n",
            "process image... /content/datasets/ADEChallengeData2016/images/validation/ADE_val_00001217.jpg\n",
            "process image... /content/datasets/ADEChallengeData2016/images/validation/ADE_val_00001218.jpg\n",
            "process image... /content/datasets/ADEChallengeData2016/images/validation/ADE_val_00001219.jpg\n",
            "process image... /content/datasets/ADEChallengeData2016/images/validation/ADE_val_00001220.jpg\n",
            "process image... /content/datasets/ADEChallengeData2016/images/validation/ADE_val_00001221.jpg\n",
            "process image... /content/datasets/ADEChallengeData2016/images/validation/ADE_val_00001222.jpg\n",
            "process image... /content/datasets/ADEChallengeData2016/images/validation/ADE_val_00001223.jpg\n",
            "process image... /content/datasets/ADEChallengeData2016/images/validation/ADE_val_00001224.jpg\n",
            "process image... /content/datasets/ADEChallengeData2016/images/validation/ADE_val_00001225.jpg\n",
            "process image... /content/datasets/ADEChallengeData2016/images/validation/ADE_val_00001226.jpg\n",
            "process image... /content/datasets/ADEChallengeData2016/images/validation/ADE_val_00001227.jpg\n",
            "process image... /content/datasets/ADEChallengeData2016/images/validation/ADE_val_00001228.jpg\n",
            "process image... /content/datasets/ADEChallengeData2016/images/validation/ADE_val_00001229.jpg\n",
            "process image... /content/datasets/ADEChallengeData2016/images/validation/ADE_val_00001230.jpg\n",
            "process image... /content/datasets/ADEChallengeData2016/images/validation/ADE_val_00001231.jpg\n",
            "process image... /content/datasets/ADEChallengeData2016/images/validation/ADE_val_00001232.jpg\n",
            "process image... /content/datasets/ADEChallengeData2016/images/validation/ADE_val_00001233.jpg\n",
            "process image... /content/datasets/ADEChallengeData2016/images/validation/ADE_val_00001234.jpg\n",
            "process image... /content/datasets/ADEChallengeData2016/images/validation/ADE_val_00001235.jpg\n",
            "process image... /content/datasets/ADEChallengeData2016/images/validation/ADE_val_00001236.jpg\n",
            "process image... /content/datasets/ADEChallengeData2016/images/validation/ADE_val_00001237.jpg\n",
            "process image... /content/datasets/ADEChallengeData2016/images/validation/ADE_val_00001238.jpg\n",
            "process image... /content/datasets/ADEChallengeData2016/images/validation/ADE_val_00001239.jpg\n",
            "process image... /content/datasets/ADEChallengeData2016/images/validation/ADE_val_00001240.jpg\n",
            "process image... /content/datasets/ADEChallengeData2016/images/validation/ADE_val_00001241.jpg\n",
            "process image... /content/datasets/ADEChallengeData2016/images/validation/ADE_val_00001242.jpg\n",
            "process image... /content/datasets/ADEChallengeData2016/images/validation/ADE_val_00001243.jpg\n",
            "process image... /content/datasets/ADEChallengeData2016/images/validation/ADE_val_00001244.jpg\n",
            "process image... /content/datasets/ADEChallengeData2016/images/validation/ADE_val_00001245.jpg\n",
            "process image... /content/datasets/ADEChallengeData2016/images/validation/ADE_val_00001246.jpg\n",
            "process image... /content/datasets/ADEChallengeData2016/images/validation/ADE_val_00001247.jpg\n",
            "process image... /content/datasets/ADEChallengeData2016/images/validation/ADE_val_00001248.jpg\n",
            "process image... /content/datasets/ADEChallengeData2016/images/validation/ADE_val_00001249.jpg\n",
            "process image... /content/datasets/ADEChallengeData2016/images/validation/ADE_val_00001250.jpg\n",
            "process image... /content/datasets/ADEChallengeData2016/images/validation/ADE_val_00001251.jpg\n",
            "process image... /content/datasets/ADEChallengeData2016/images/validation/ADE_val_00001252.jpg\n",
            "process image... /content/datasets/ADEChallengeData2016/images/validation/ADE_val_00001253.jpg\n",
            "process image... /content/datasets/ADEChallengeData2016/images/validation/ADE_val_00001254.jpg\n",
            "process image... /content/datasets/ADEChallengeData2016/images/validation/ADE_val_00001255.jpg\n",
            "process image... /content/datasets/ADEChallengeData2016/images/validation/ADE_val_00001256.jpg\n",
            "process image... /content/datasets/ADEChallengeData2016/images/validation/ADE_val_00001257.jpg\n",
            "process image... /content/datasets/ADEChallengeData2016/images/validation/ADE_val_00001258.jpg\n",
            "process image... /content/datasets/ADEChallengeData2016/images/validation/ADE_val_00001259.jpg\n",
            "process image... /content/datasets/ADEChallengeData2016/images/validation/ADE_val_00001260.jpg\n",
            "process image... /content/datasets/ADEChallengeData2016/images/validation/ADE_val_00001261.jpg\n",
            "process image... /content/datasets/ADEChallengeData2016/images/validation/ADE_val_00001262.jpg\n",
            "process image... /content/datasets/ADEChallengeData2016/images/validation/ADE_val_00001263.jpg\n",
            "process image... /content/datasets/ADEChallengeData2016/images/validation/ADE_val_00001264.jpg\n",
            "process image... /content/datasets/ADEChallengeData2016/images/validation/ADE_val_00001265.jpg\n",
            "process image... /content/datasets/ADEChallengeData2016/images/validation/ADE_val_00001266.jpg\n",
            "process image... /content/datasets/ADEChallengeData2016/images/validation/ADE_val_00001267.jpg\n",
            "process image... /content/datasets/ADEChallengeData2016/images/validation/ADE_val_00001268.jpg\n",
            "process image... /content/datasets/ADEChallengeData2016/images/validation/ADE_val_00001269.jpg\n",
            "process image... /content/datasets/ADEChallengeData2016/images/validation/ADE_val_00001270.jpg\n",
            "process image... /content/datasets/ADEChallengeData2016/images/validation/ADE_val_00001271.jpg\n",
            "process image... /content/datasets/ADEChallengeData2016/images/validation/ADE_val_00001272.jpg\n",
            "process image... /content/datasets/ADEChallengeData2016/images/validation/ADE_val_00001273.jpg\n",
            "process image... /content/datasets/ADEChallengeData2016/images/validation/ADE_val_00001274.jpg\n",
            "process image... /content/datasets/ADEChallengeData2016/images/validation/ADE_val_00001275.jpg\n",
            "process image... /content/datasets/ADEChallengeData2016/images/validation/ADE_val_00001276.jpg\n",
            "process image... /content/datasets/ADEChallengeData2016/images/validation/ADE_val_00001277.jpg\n",
            "process image... /content/datasets/ADEChallengeData2016/images/validation/ADE_val_00001278.jpg\n",
            "process image... /content/datasets/ADEChallengeData2016/images/validation/ADE_val_00001279.jpg\n",
            "process image... /content/datasets/ADEChallengeData2016/images/validation/ADE_val_00001280.jpg\n",
            "process image... /content/datasets/ADEChallengeData2016/images/validation/ADE_val_00001281.jpg\n",
            "process image... /content/datasets/ADEChallengeData2016/images/validation/ADE_val_00001282.jpg\n",
            "process image... /content/datasets/ADEChallengeData2016/images/validation/ADE_val_00001283.jpg\n",
            "process image... /content/datasets/ADEChallengeData2016/images/validation/ADE_val_00001284.jpg\n",
            "process image... /content/datasets/ADEChallengeData2016/images/validation/ADE_val_00001285.jpg\n",
            "process image... /content/datasets/ADEChallengeData2016/images/validation/ADE_val_00001286.jpg\n",
            "process image... /content/datasets/ADEChallengeData2016/images/validation/ADE_val_00001287.jpg\n",
            "process image... /content/datasets/ADEChallengeData2016/images/validation/ADE_val_00001288.jpg\n",
            "process image... /content/datasets/ADEChallengeData2016/images/validation/ADE_val_00001289.jpg\n",
            "process image... /content/datasets/ADEChallengeData2016/images/validation/ADE_val_00001290.jpg\n",
            "process image... /content/datasets/ADEChallengeData2016/images/validation/ADE_val_00001291.jpg\n",
            "process image... /content/datasets/ADEChallengeData2016/images/validation/ADE_val_00001292.jpg\n",
            "process image... /content/datasets/ADEChallengeData2016/images/validation/ADE_val_00001293.jpg\n",
            "process image... /content/datasets/ADEChallengeData2016/images/validation/ADE_val_00001294.jpg\n",
            "process image... /content/datasets/ADEChallengeData2016/images/validation/ADE_val_00001295.jpg\n",
            "process image... /content/datasets/ADEChallengeData2016/images/validation/ADE_val_00001296.jpg\n",
            "process image... /content/datasets/ADEChallengeData2016/images/validation/ADE_val_00001297.jpg\n",
            "process image... /content/datasets/ADEChallengeData2016/images/validation/ADE_val_00001298.jpg\n",
            "process image... /content/datasets/ADEChallengeData2016/images/validation/ADE_val_00001299.jpg\n",
            "process image... /content/datasets/ADEChallengeData2016/images/validation/ADE_val_00001300.jpg\n",
            "process image... /content/datasets/ADEChallengeData2016/images/validation/ADE_val_00001301.jpg\n",
            "process image... /content/datasets/ADEChallengeData2016/images/validation/ADE_val_00001302.jpg\n",
            "process image... /content/datasets/ADEChallengeData2016/images/validation/ADE_val_00001303.jpg\n",
            "process image... /content/datasets/ADEChallengeData2016/images/validation/ADE_val_00001304.jpg\n",
            "process image... /content/datasets/ADEChallengeData2016/images/validation/ADE_val_00001305.jpg\n",
            "process image... /content/datasets/ADEChallengeData2016/images/validation/ADE_val_00001306.jpg\n",
            "process image... /content/datasets/ADEChallengeData2016/images/validation/ADE_val_00001307.jpg\n",
            "process image... /content/datasets/ADEChallengeData2016/images/validation/ADE_val_00001308.jpg\n",
            "process image... /content/datasets/ADEChallengeData2016/images/validation/ADE_val_00001309.jpg\n",
            "process image... /content/datasets/ADEChallengeData2016/images/validation/ADE_val_00001310.jpg\n",
            "process image... /content/datasets/ADEChallengeData2016/images/validation/ADE_val_00001311.jpg\n",
            "process image... /content/datasets/ADEChallengeData2016/images/validation/ADE_val_00001312.jpg\n",
            "process image... /content/datasets/ADEChallengeData2016/images/validation/ADE_val_00001313.jpg\n",
            "process image... /content/datasets/ADEChallengeData2016/images/validation/ADE_val_00001314.jpg\n",
            "process image... /content/datasets/ADEChallengeData2016/images/validation/ADE_val_00001315.jpg\n",
            "process image... /content/datasets/ADEChallengeData2016/images/validation/ADE_val_00001316.jpg\n",
            "process image... /content/datasets/ADEChallengeData2016/images/validation/ADE_val_00001317.jpg\n",
            "process image... /content/datasets/ADEChallengeData2016/images/validation/ADE_val_00001318.jpg\n",
            "process image... /content/datasets/ADEChallengeData2016/images/validation/ADE_val_00001319.jpg\n",
            "process image... /content/datasets/ADEChallengeData2016/images/validation/ADE_val_00001320.jpg\n",
            "process image... /content/datasets/ADEChallengeData2016/images/validation/ADE_val_00001321.jpg\n",
            "process image... /content/datasets/ADEChallengeData2016/images/validation/ADE_val_00001322.jpg\n",
            "process image... /content/datasets/ADEChallengeData2016/images/validation/ADE_val_00001323.jpg\n",
            "process image... /content/datasets/ADEChallengeData2016/images/validation/ADE_val_00001324.jpg\n",
            "process image... /content/datasets/ADEChallengeData2016/images/validation/ADE_val_00001325.jpg\n",
            "process image... /content/datasets/ADEChallengeData2016/images/validation/ADE_val_00001326.jpg\n",
            "process image... /content/datasets/ADEChallengeData2016/images/validation/ADE_val_00001327.jpg\n",
            "process image... /content/datasets/ADEChallengeData2016/images/validation/ADE_val_00001328.jpg\n",
            "process image... /content/datasets/ADEChallengeData2016/images/validation/ADE_val_00001329.jpg\n",
            "process image... /content/datasets/ADEChallengeData2016/images/validation/ADE_val_00001330.jpg\n",
            "process image... /content/datasets/ADEChallengeData2016/images/validation/ADE_val_00001331.jpg\n",
            "process image... /content/datasets/ADEChallengeData2016/images/validation/ADE_val_00001332.jpg\n",
            "process image... /content/datasets/ADEChallengeData2016/images/validation/ADE_val_00001333.jpg\n",
            "process image... /content/datasets/ADEChallengeData2016/images/validation/ADE_val_00001334.jpg\n",
            "process image... /content/datasets/ADEChallengeData2016/images/validation/ADE_val_00001335.jpg\n",
            "process image... /content/datasets/ADEChallengeData2016/images/validation/ADE_val_00001336.jpg\n",
            "process image... /content/datasets/ADEChallengeData2016/images/validation/ADE_val_00001337.jpg\n",
            "process image... /content/datasets/ADEChallengeData2016/images/validation/ADE_val_00001338.jpg\n",
            "process image... /content/datasets/ADEChallengeData2016/images/validation/ADE_val_00001339.jpg\n",
            "process image... /content/datasets/ADEChallengeData2016/images/validation/ADE_val_00001340.jpg\n",
            "process image... /content/datasets/ADEChallengeData2016/images/validation/ADE_val_00001341.jpg\n",
            "process image... /content/datasets/ADEChallengeData2016/images/validation/ADE_val_00001342.jpg\n",
            "process image... /content/datasets/ADEChallengeData2016/images/validation/ADE_val_00001343.jpg\n",
            "process image... /content/datasets/ADEChallengeData2016/images/validation/ADE_val_00001344.jpg\n",
            "process image... /content/datasets/ADEChallengeData2016/images/validation/ADE_val_00001345.jpg\n",
            "process image... /content/datasets/ADEChallengeData2016/images/validation/ADE_val_00001346.jpg\n",
            "process image... /content/datasets/ADEChallengeData2016/images/validation/ADE_val_00001347.jpg\n",
            "process image... /content/datasets/ADEChallengeData2016/images/validation/ADE_val_00001348.jpg\n",
            "process image... /content/datasets/ADEChallengeData2016/images/validation/ADE_val_00001349.jpg\n",
            "process image... /content/datasets/ADEChallengeData2016/images/validation/ADE_val_00001350.jpg\n",
            "process image... /content/datasets/ADEChallengeData2016/images/validation/ADE_val_00001351.jpg\n",
            "process image... /content/datasets/ADEChallengeData2016/images/validation/ADE_val_00001352.jpg\n",
            "process image... /content/datasets/ADEChallengeData2016/images/validation/ADE_val_00001353.jpg\n",
            "process image... /content/datasets/ADEChallengeData2016/images/validation/ADE_val_00001354.jpg\n",
            "process image... /content/datasets/ADEChallengeData2016/images/validation/ADE_val_00001355.jpg\n",
            "process image... /content/datasets/ADEChallengeData2016/images/validation/ADE_val_00001356.jpg\n",
            "process image... /content/datasets/ADEChallengeData2016/images/validation/ADE_val_00001357.jpg\n",
            "process image... /content/datasets/ADEChallengeData2016/images/validation/ADE_val_00001358.jpg\n",
            "process image... /content/datasets/ADEChallengeData2016/images/validation/ADE_val_00001359.jpg\n",
            "process image... /content/datasets/ADEChallengeData2016/images/validation/ADE_val_00001360.jpg\n",
            "process image... /content/datasets/ADEChallengeData2016/images/validation/ADE_val_00001361.jpg\n",
            "process image... /content/datasets/ADEChallengeData2016/images/validation/ADE_val_00001362.jpg\n",
            "process image... /content/datasets/ADEChallengeData2016/images/validation/ADE_val_00001363.jpg\n",
            "process image... /content/datasets/ADEChallengeData2016/images/validation/ADE_val_00001364.jpg\n",
            "process image... /content/datasets/ADEChallengeData2016/images/validation/ADE_val_00001365.jpg\n",
            "process image... /content/datasets/ADEChallengeData2016/images/validation/ADE_val_00001366.jpg\n",
            "process image... /content/datasets/ADEChallengeData2016/images/validation/ADE_val_00001367.jpg\n",
            "process image... /content/datasets/ADEChallengeData2016/images/validation/ADE_val_00001368.jpg\n",
            "process image... /content/datasets/ADEChallengeData2016/images/validation/ADE_val_00001369.jpg\n",
            "process image... /content/datasets/ADEChallengeData2016/images/validation/ADE_val_00001370.jpg\n",
            "process image... /content/datasets/ADEChallengeData2016/images/validation/ADE_val_00001371.jpg\n",
            "process image... /content/datasets/ADEChallengeData2016/images/validation/ADE_val_00001372.jpg\n",
            "process image... /content/datasets/ADEChallengeData2016/images/validation/ADE_val_00001373.jpg\n",
            "process image... /content/datasets/ADEChallengeData2016/images/validation/ADE_val_00001374.jpg\n",
            "process image... /content/datasets/ADEChallengeData2016/images/validation/ADE_val_00001375.jpg\n",
            "process image... /content/datasets/ADEChallengeData2016/images/validation/ADE_val_00001376.jpg\n",
            "process image... /content/datasets/ADEChallengeData2016/images/validation/ADE_val_00001377.jpg\n",
            "process image... /content/datasets/ADEChallengeData2016/images/validation/ADE_val_00001378.jpg\n",
            "process image... /content/datasets/ADEChallengeData2016/images/validation/ADE_val_00001379.jpg\n",
            "process image... /content/datasets/ADEChallengeData2016/images/validation/ADE_val_00001380.jpg\n",
            "process image... /content/datasets/ADEChallengeData2016/images/validation/ADE_val_00001381.jpg\n",
            "process image... /content/datasets/ADEChallengeData2016/images/validation/ADE_val_00001382.jpg\n",
            "process image... /content/datasets/ADEChallengeData2016/images/validation/ADE_val_00001383.jpg\n",
            "process image... /content/datasets/ADEChallengeData2016/images/validation/ADE_val_00001384.jpg\n",
            "process image... /content/datasets/ADEChallengeData2016/images/validation/ADE_val_00001385.jpg\n",
            "process image... /content/datasets/ADEChallengeData2016/images/validation/ADE_val_00001386.jpg\n",
            "process image... /content/datasets/ADEChallengeData2016/images/validation/ADE_val_00001387.jpg\n",
            "process image... /content/datasets/ADEChallengeData2016/images/validation/ADE_val_00001388.jpg\n",
            "process image... /content/datasets/ADEChallengeData2016/images/validation/ADE_val_00001389.jpg\n",
            "process image... /content/datasets/ADEChallengeData2016/images/validation/ADE_val_00001390.jpg\n",
            "process image... /content/datasets/ADEChallengeData2016/images/validation/ADE_val_00001391.jpg\n",
            "process image... /content/datasets/ADEChallengeData2016/images/validation/ADE_val_00001392.jpg\n",
            "process image... /content/datasets/ADEChallengeData2016/images/validation/ADE_val_00001393.jpg\n",
            "process image... /content/datasets/ADEChallengeData2016/images/validation/ADE_val_00001394.jpg\n",
            "process image... /content/datasets/ADEChallengeData2016/images/validation/ADE_val_00001395.jpg\n",
            "process image... /content/datasets/ADEChallengeData2016/images/validation/ADE_val_00001396.jpg\n",
            "process image... /content/datasets/ADEChallengeData2016/images/validation/ADE_val_00001397.jpg\n",
            "process image... /content/datasets/ADEChallengeData2016/images/validation/ADE_val_00001398.jpg\n",
            "process image... /content/datasets/ADEChallengeData2016/images/validation/ADE_val_00001399.jpg\n",
            "process image... /content/datasets/ADEChallengeData2016/images/validation/ADE_val_00001400.jpg\n",
            "process image... /content/datasets/ADEChallengeData2016/images/validation/ADE_val_00001401.jpg\n",
            "process image... /content/datasets/ADEChallengeData2016/images/validation/ADE_val_00001402.jpg\n",
            "process image... /content/datasets/ADEChallengeData2016/images/validation/ADE_val_00001403.jpg\n",
            "process image... /content/datasets/ADEChallengeData2016/images/validation/ADE_val_00001404.jpg\n",
            "process image... /content/datasets/ADEChallengeData2016/images/validation/ADE_val_00001405.jpg\n",
            "process image... /content/datasets/ADEChallengeData2016/images/validation/ADE_val_00001406.jpg\n",
            "process image... /content/datasets/ADEChallengeData2016/images/validation/ADE_val_00001407.jpg\n",
            "process image... /content/datasets/ADEChallengeData2016/images/validation/ADE_val_00001408.jpg\n",
            "process image... /content/datasets/ADEChallengeData2016/images/validation/ADE_val_00001409.jpg\n",
            "process image... /content/datasets/ADEChallengeData2016/images/validation/ADE_val_00001410.jpg\n",
            "process image... /content/datasets/ADEChallengeData2016/images/validation/ADE_val_00001411.jpg\n",
            "process image... /content/datasets/ADEChallengeData2016/images/validation/ADE_val_00001412.jpg\n",
            "process image... /content/datasets/ADEChallengeData2016/images/validation/ADE_val_00001413.jpg\n",
            "process image... /content/datasets/ADEChallengeData2016/images/validation/ADE_val_00001414.jpg\n",
            "process image... /content/datasets/ADEChallengeData2016/images/validation/ADE_val_00001415.jpg\n",
            "process image... /content/datasets/ADEChallengeData2016/images/validation/ADE_val_00001416.jpg\n",
            "process image... /content/datasets/ADEChallengeData2016/images/validation/ADE_val_00001417.jpg\n",
            "process image... /content/datasets/ADEChallengeData2016/images/validation/ADE_val_00001418.jpg\n",
            "process image... /content/datasets/ADEChallengeData2016/images/validation/ADE_val_00001419.jpg\n",
            "process image... /content/datasets/ADEChallengeData2016/images/validation/ADE_val_00001420.jpg\n",
            "process image... /content/datasets/ADEChallengeData2016/images/validation/ADE_val_00001421.jpg\n",
            "process image... /content/datasets/ADEChallengeData2016/images/validation/ADE_val_00001422.jpg\n",
            "process image... /content/datasets/ADEChallengeData2016/images/validation/ADE_val_00001423.jpg\n",
            "process image... /content/datasets/ADEChallengeData2016/images/validation/ADE_val_00001424.jpg\n",
            "process image... /content/datasets/ADEChallengeData2016/images/validation/ADE_val_00001425.jpg\n",
            "process image... /content/datasets/ADEChallengeData2016/images/validation/ADE_val_00001426.jpg\n",
            "process image... /content/datasets/ADEChallengeData2016/images/validation/ADE_val_00001427.jpg\n",
            "process image... /content/datasets/ADEChallengeData2016/images/validation/ADE_val_00001428.jpg\n",
            "process image... /content/datasets/ADEChallengeData2016/images/validation/ADE_val_00001429.jpg\n",
            "process image... /content/datasets/ADEChallengeData2016/images/validation/ADE_val_00001430.jpg\n",
            "process image... /content/datasets/ADEChallengeData2016/images/validation/ADE_val_00001431.jpg\n",
            "process image... /content/datasets/ADEChallengeData2016/images/validation/ADE_val_00001432.jpg\n",
            "process image... /content/datasets/ADEChallengeData2016/images/validation/ADE_val_00001433.jpg\n",
            "process image... /content/datasets/ADEChallengeData2016/images/validation/ADE_val_00001434.jpg\n",
            "process image... /content/datasets/ADEChallengeData2016/images/validation/ADE_val_00001435.jpg\n",
            "process image... /content/datasets/ADEChallengeData2016/images/validation/ADE_val_00001436.jpg\n",
            "process image... /content/datasets/ADEChallengeData2016/images/validation/ADE_val_00001437.jpg\n",
            "process image... /content/datasets/ADEChallengeData2016/images/validation/ADE_val_00001438.jpg\n",
            "process image... /content/datasets/ADEChallengeData2016/images/validation/ADE_val_00001439.jpg\n",
            "process image... /content/datasets/ADEChallengeData2016/images/validation/ADE_val_00001440.jpg\n",
            "process image... /content/datasets/ADEChallengeData2016/images/validation/ADE_val_00001441.jpg\n",
            "process image... /content/datasets/ADEChallengeData2016/images/validation/ADE_val_00001442.jpg\n",
            "process image... /content/datasets/ADEChallengeData2016/images/validation/ADE_val_00001443.jpg\n",
            "process image... /content/datasets/ADEChallengeData2016/images/validation/ADE_val_00001444.jpg\n",
            "process image... /content/datasets/ADEChallengeData2016/images/validation/ADE_val_00001445.jpg\n",
            "process image... /content/datasets/ADEChallengeData2016/images/validation/ADE_val_00001446.jpg\n",
            "process image... /content/datasets/ADEChallengeData2016/images/validation/ADE_val_00001447.jpg\n",
            "process image... /content/datasets/ADEChallengeData2016/images/validation/ADE_val_00001448.jpg\n",
            "process image... /content/datasets/ADEChallengeData2016/images/validation/ADE_val_00001449.jpg\n",
            "process image... /content/datasets/ADEChallengeData2016/images/validation/ADE_val_00001450.jpg\n",
            "process image... /content/datasets/ADEChallengeData2016/images/validation/ADE_val_00001451.jpg\n",
            "process image... /content/datasets/ADEChallengeData2016/images/validation/ADE_val_00001452.jpg\n",
            "process image... /content/datasets/ADEChallengeData2016/images/validation/ADE_val_00001453.jpg\n",
            "process image... /content/datasets/ADEChallengeData2016/images/validation/ADE_val_00001454.jpg\n",
            "process image... /content/datasets/ADEChallengeData2016/images/validation/ADE_val_00001455.jpg\n",
            "process image... /content/datasets/ADEChallengeData2016/images/validation/ADE_val_00001456.jpg\n",
            "process image... /content/datasets/ADEChallengeData2016/images/validation/ADE_val_00001457.jpg\n",
            "process image... /content/datasets/ADEChallengeData2016/images/validation/ADE_val_00001458.jpg\n",
            "process image... /content/datasets/ADEChallengeData2016/images/validation/ADE_val_00001459.jpg\n",
            "process image... /content/datasets/ADEChallengeData2016/images/validation/ADE_val_00001460.jpg\n",
            "process image... /content/datasets/ADEChallengeData2016/images/validation/ADE_val_00001461.jpg\n",
            "process image... /content/datasets/ADEChallengeData2016/images/validation/ADE_val_00001462.jpg\n",
            "process image... /content/datasets/ADEChallengeData2016/images/validation/ADE_val_00001463.jpg\n",
            "process image... /content/datasets/ADEChallengeData2016/images/validation/ADE_val_00001464.jpg\n",
            "process image... /content/datasets/ADEChallengeData2016/images/validation/ADE_val_00001465.jpg\n",
            "process image... /content/datasets/ADEChallengeData2016/images/validation/ADE_val_00001466.jpg\n",
            "process image... /content/datasets/ADEChallengeData2016/images/validation/ADE_val_00001467.jpg\n",
            "process image... /content/datasets/ADEChallengeData2016/images/validation/ADE_val_00001468.jpg\n",
            "process image... /content/datasets/ADEChallengeData2016/images/validation/ADE_val_00001469.jpg\n",
            "process image... /content/datasets/ADEChallengeData2016/images/validation/ADE_val_00001470.jpg\n",
            "process image... /content/datasets/ADEChallengeData2016/images/validation/ADE_val_00001471.jpg\n",
            "process image... /content/datasets/ADEChallengeData2016/images/validation/ADE_val_00001472.jpg\n",
            "process image... /content/datasets/ADEChallengeData2016/images/validation/ADE_val_00001473.jpg\n",
            "process image... /content/datasets/ADEChallengeData2016/images/validation/ADE_val_00001474.jpg\n",
            "process image... /content/datasets/ADEChallengeData2016/images/validation/ADE_val_00001475.jpg\n",
            "process image... /content/datasets/ADEChallengeData2016/images/validation/ADE_val_00001476.jpg\n",
            "process image... /content/datasets/ADEChallengeData2016/images/validation/ADE_val_00001477.jpg\n",
            "process image... /content/datasets/ADEChallengeData2016/images/validation/ADE_val_00001478.jpg\n",
            "process image... /content/datasets/ADEChallengeData2016/images/validation/ADE_val_00001479.jpg\n",
            "process image... /content/datasets/ADEChallengeData2016/images/validation/ADE_val_00001480.jpg\n",
            "process image... /content/datasets/ADEChallengeData2016/images/validation/ADE_val_00001481.jpg\n",
            "process image... /content/datasets/ADEChallengeData2016/images/validation/ADE_val_00001482.jpg\n",
            "process image... /content/datasets/ADEChallengeData2016/images/validation/ADE_val_00001483.jpg\n",
            "process image... /content/datasets/ADEChallengeData2016/images/validation/ADE_val_00001484.jpg\n",
            "process image... /content/datasets/ADEChallengeData2016/images/validation/ADE_val_00001485.jpg\n",
            "process image... /content/datasets/ADEChallengeData2016/images/validation/ADE_val_00001486.jpg\n",
            "process image... /content/datasets/ADEChallengeData2016/images/validation/ADE_val_00001487.jpg\n",
            "process image... /content/datasets/ADEChallengeData2016/images/validation/ADE_val_00001488.jpg\n",
            "process image... /content/datasets/ADEChallengeData2016/images/validation/ADE_val_00001489.jpg\n",
            "process image... /content/datasets/ADEChallengeData2016/images/validation/ADE_val_00001490.jpg\n",
            "process image... /content/datasets/ADEChallengeData2016/images/validation/ADE_val_00001491.jpg\n",
            "process image... /content/datasets/ADEChallengeData2016/images/validation/ADE_val_00001492.jpg\n",
            "process image... /content/datasets/ADEChallengeData2016/images/validation/ADE_val_00001493.jpg\n",
            "process image... /content/datasets/ADEChallengeData2016/images/validation/ADE_val_00001494.jpg\n",
            "process image... /content/datasets/ADEChallengeData2016/images/validation/ADE_val_00001495.jpg\n",
            "process image... /content/datasets/ADEChallengeData2016/images/validation/ADE_val_00001496.jpg\n",
            "process image... /content/datasets/ADEChallengeData2016/images/validation/ADE_val_00001497.jpg\n",
            "process image... /content/datasets/ADEChallengeData2016/images/validation/ADE_val_00001498.jpg\n",
            "process image... /content/datasets/ADEChallengeData2016/images/validation/ADE_val_00001499.jpg\n",
            "process image... /content/datasets/ADEChallengeData2016/images/validation/ADE_val_00001500.jpg\n",
            "process image... /content/datasets/ADEChallengeData2016/images/validation/ADE_val_00001501.jpg\n",
            "process image... /content/datasets/ADEChallengeData2016/images/validation/ADE_val_00001502.jpg\n",
            "process image... /content/datasets/ADEChallengeData2016/images/validation/ADE_val_00001503.jpg\n",
            "process image... /content/datasets/ADEChallengeData2016/images/validation/ADE_val_00001504.jpg\n",
            "process image... /content/datasets/ADEChallengeData2016/images/validation/ADE_val_00001505.jpg\n",
            "process image... /content/datasets/ADEChallengeData2016/images/validation/ADE_val_00001506.jpg\n",
            "process image... /content/datasets/ADEChallengeData2016/images/validation/ADE_val_00001507.jpg\n",
            "process image... /content/datasets/ADEChallengeData2016/images/validation/ADE_val_00001508.jpg\n",
            "process image... /content/datasets/ADEChallengeData2016/images/validation/ADE_val_00001509.jpg\n",
            "process image... /content/datasets/ADEChallengeData2016/images/validation/ADE_val_00001510.jpg\n",
            "process image... /content/datasets/ADEChallengeData2016/images/validation/ADE_val_00001511.jpg\n",
            "process image... /content/datasets/ADEChallengeData2016/images/validation/ADE_val_00001512.jpg\n",
            "process image... /content/datasets/ADEChallengeData2016/images/validation/ADE_val_00001513.jpg\n",
            "process image... /content/datasets/ADEChallengeData2016/images/validation/ADE_val_00001514.jpg\n",
            "process image... /content/datasets/ADEChallengeData2016/images/validation/ADE_val_00001515.jpg\n",
            "process image... /content/datasets/ADEChallengeData2016/images/validation/ADE_val_00001516.jpg\n",
            "process image... /content/datasets/ADEChallengeData2016/images/validation/ADE_val_00001517.jpg\n",
            "process image... /content/datasets/ADEChallengeData2016/images/validation/ADE_val_00001518.jpg\n",
            "process image... /content/datasets/ADEChallengeData2016/images/validation/ADE_val_00001519.jpg\n",
            "process image... /content/datasets/ADEChallengeData2016/images/validation/ADE_val_00001520.jpg\n",
            "process image... /content/datasets/ADEChallengeData2016/images/validation/ADE_val_00001521.jpg\n",
            "process image... /content/datasets/ADEChallengeData2016/images/validation/ADE_val_00001522.jpg\n",
            "process image... /content/datasets/ADEChallengeData2016/images/validation/ADE_val_00001523.jpg\n",
            "process image... /content/datasets/ADEChallengeData2016/images/validation/ADE_val_00001524.jpg\n",
            "process image... /content/datasets/ADEChallengeData2016/images/validation/ADE_val_00001525.jpg\n",
            "process image... /content/datasets/ADEChallengeData2016/images/validation/ADE_val_00001526.jpg\n",
            "process image... /content/datasets/ADEChallengeData2016/images/validation/ADE_val_00001527.jpg\n",
            "process image... /content/datasets/ADEChallengeData2016/images/validation/ADE_val_00001528.jpg\n",
            "process image... /content/datasets/ADEChallengeData2016/images/validation/ADE_val_00001529.jpg\n",
            "process image... /content/datasets/ADEChallengeData2016/images/validation/ADE_val_00001530.jpg\n",
            "process image... /content/datasets/ADEChallengeData2016/images/validation/ADE_val_00001531.jpg\n",
            "process image... /content/datasets/ADEChallengeData2016/images/validation/ADE_val_00001532.jpg\n",
            "process image... /content/datasets/ADEChallengeData2016/images/validation/ADE_val_00001533.jpg\n",
            "process image... /content/datasets/ADEChallengeData2016/images/validation/ADE_val_00001534.jpg\n",
            "process image... /content/datasets/ADEChallengeData2016/images/validation/ADE_val_00001535.jpg\n",
            "process image... /content/datasets/ADEChallengeData2016/images/validation/ADE_val_00001536.jpg\n",
            "process image... /content/datasets/ADEChallengeData2016/images/validation/ADE_val_00001537.jpg\n",
            "process image... /content/datasets/ADEChallengeData2016/images/validation/ADE_val_00001538.jpg\n",
            "process image... /content/datasets/ADEChallengeData2016/images/validation/ADE_val_00001539.jpg\n",
            "process image... /content/datasets/ADEChallengeData2016/images/validation/ADE_val_00001540.jpg\n",
            "process image... /content/datasets/ADEChallengeData2016/images/validation/ADE_val_00001541.jpg\n",
            "process image... /content/datasets/ADEChallengeData2016/images/validation/ADE_val_00001542.jpg\n",
            "process image... /content/datasets/ADEChallengeData2016/images/validation/ADE_val_00001543.jpg\n",
            "process image... /content/datasets/ADEChallengeData2016/images/validation/ADE_val_00001544.jpg\n",
            "process image... /content/datasets/ADEChallengeData2016/images/validation/ADE_val_00001545.jpg\n",
            "process image... /content/datasets/ADEChallengeData2016/images/validation/ADE_val_00001546.jpg\n",
            "process image... /content/datasets/ADEChallengeData2016/images/validation/ADE_val_00001547.jpg\n",
            "process image... /content/datasets/ADEChallengeData2016/images/validation/ADE_val_00001548.jpg\n",
            "process image... /content/datasets/ADEChallengeData2016/images/validation/ADE_val_00001549.jpg\n",
            "process image... /content/datasets/ADEChallengeData2016/images/validation/ADE_val_00001550.jpg\n",
            "process image... /content/datasets/ADEChallengeData2016/images/validation/ADE_val_00001551.jpg\n",
            "process image... /content/datasets/ADEChallengeData2016/images/validation/ADE_val_00001552.jpg\n",
            "process image... /content/datasets/ADEChallengeData2016/images/validation/ADE_val_00001553.jpg\n",
            "process image... /content/datasets/ADEChallengeData2016/images/validation/ADE_val_00001554.jpg\n",
            "process image... /content/datasets/ADEChallengeData2016/images/validation/ADE_val_00001555.jpg\n",
            "process image... /content/datasets/ADEChallengeData2016/images/validation/ADE_val_00001556.jpg\n",
            "process image... /content/datasets/ADEChallengeData2016/images/validation/ADE_val_00001557.jpg\n",
            "process image... /content/datasets/ADEChallengeData2016/images/validation/ADE_val_00001558.jpg\n",
            "process image... /content/datasets/ADEChallengeData2016/images/validation/ADE_val_00001559.jpg\n",
            "process image... /content/datasets/ADEChallengeData2016/images/validation/ADE_val_00001560.jpg\n",
            "process image... /content/datasets/ADEChallengeData2016/images/validation/ADE_val_00001561.jpg\n",
            "process image... /content/datasets/ADEChallengeData2016/images/validation/ADE_val_00001562.jpg\n",
            "process image... /content/datasets/ADEChallengeData2016/images/validation/ADE_val_00001563.jpg\n",
            "process image... /content/datasets/ADEChallengeData2016/images/validation/ADE_val_00001564.jpg\n",
            "process image... /content/datasets/ADEChallengeData2016/images/validation/ADE_val_00001565.jpg\n",
            "process image... /content/datasets/ADEChallengeData2016/images/validation/ADE_val_00001566.jpg\n",
            "process image... /content/datasets/ADEChallengeData2016/images/validation/ADE_val_00001567.jpg\n",
            "process image... /content/datasets/ADEChallengeData2016/images/validation/ADE_val_00001568.jpg\n",
            "process image... /content/datasets/ADEChallengeData2016/images/validation/ADE_val_00001569.jpg\n",
            "process image... /content/datasets/ADEChallengeData2016/images/validation/ADE_val_00001570.jpg\n",
            "process image... /content/datasets/ADEChallengeData2016/images/validation/ADE_val_00001571.jpg\n",
            "process image... /content/datasets/ADEChallengeData2016/images/validation/ADE_val_00001572.jpg\n",
            "process image... /content/datasets/ADEChallengeData2016/images/validation/ADE_val_00001573.jpg\n",
            "process image... /content/datasets/ADEChallengeData2016/images/validation/ADE_val_00001574.jpg\n",
            "process image... /content/datasets/ADEChallengeData2016/images/validation/ADE_val_00001575.jpg\n",
            "process image... /content/datasets/ADEChallengeData2016/images/validation/ADE_val_00001576.jpg\n",
            "process image... /content/datasets/ADEChallengeData2016/images/validation/ADE_val_00001577.jpg\n",
            "process image... /content/datasets/ADEChallengeData2016/images/validation/ADE_val_00001578.jpg\n",
            "process image... /content/datasets/ADEChallengeData2016/images/validation/ADE_val_00001579.jpg\n",
            "process image... /content/datasets/ADEChallengeData2016/images/validation/ADE_val_00001580.jpg\n",
            "process image... /content/datasets/ADEChallengeData2016/images/validation/ADE_val_00001581.jpg\n",
            "process image... /content/datasets/ADEChallengeData2016/images/validation/ADE_val_00001582.jpg\n",
            "process image... /content/datasets/ADEChallengeData2016/images/validation/ADE_val_00001583.jpg\n",
            "process image... /content/datasets/ADEChallengeData2016/images/validation/ADE_val_00001584.jpg\n",
            "process image... /content/datasets/ADEChallengeData2016/images/validation/ADE_val_00001585.jpg\n",
            "process image... /content/datasets/ADEChallengeData2016/images/validation/ADE_val_00001586.jpg\n",
            "process image... /content/datasets/ADEChallengeData2016/images/validation/ADE_val_00001587.jpg\n",
            "process image... /content/datasets/ADEChallengeData2016/images/validation/ADE_val_00001588.jpg\n",
            "process image... /content/datasets/ADEChallengeData2016/images/validation/ADE_val_00001589.jpg\n",
            "process image... /content/datasets/ADEChallengeData2016/images/validation/ADE_val_00001590.jpg\n",
            "process image... /content/datasets/ADEChallengeData2016/images/validation/ADE_val_00001591.jpg\n",
            "process image... /content/datasets/ADEChallengeData2016/images/validation/ADE_val_00001592.jpg\n",
            "process image... /content/datasets/ADEChallengeData2016/images/validation/ADE_val_00001593.jpg\n",
            "process image... /content/datasets/ADEChallengeData2016/images/validation/ADE_val_00001594.jpg\n",
            "process image... /content/datasets/ADEChallengeData2016/images/validation/ADE_val_00001595.jpg\n",
            "process image... /content/datasets/ADEChallengeData2016/images/validation/ADE_val_00001596.jpg\n",
            "process image... /content/datasets/ADEChallengeData2016/images/validation/ADE_val_00001597.jpg\n",
            "process image... /content/datasets/ADEChallengeData2016/images/validation/ADE_val_00001598.jpg\n",
            "process image... /content/datasets/ADEChallengeData2016/images/validation/ADE_val_00001599.jpg\n",
            "process image... /content/datasets/ADEChallengeData2016/images/validation/ADE_val_00001600.jpg\n",
            "process image... /content/datasets/ADEChallengeData2016/images/validation/ADE_val_00001601.jpg\n",
            "process image... /content/datasets/ADEChallengeData2016/images/validation/ADE_val_00001602.jpg\n",
            "process image... /content/datasets/ADEChallengeData2016/images/validation/ADE_val_00001603.jpg\n",
            "process image... /content/datasets/ADEChallengeData2016/images/validation/ADE_val_00001604.jpg\n",
            "process image... /content/datasets/ADEChallengeData2016/images/validation/ADE_val_00001605.jpg\n",
            "process image... /content/datasets/ADEChallengeData2016/images/validation/ADE_val_00001606.jpg\n",
            "process image... /content/datasets/ADEChallengeData2016/images/validation/ADE_val_00001607.jpg\n",
            "process image... /content/datasets/ADEChallengeData2016/images/validation/ADE_val_00001608.jpg\n",
            "process image... /content/datasets/ADEChallengeData2016/images/validation/ADE_val_00001609.jpg\n",
            "process image... /content/datasets/ADEChallengeData2016/images/validation/ADE_val_00001610.jpg\n",
            "process image... /content/datasets/ADEChallengeData2016/images/validation/ADE_val_00001611.jpg\n",
            "process image... /content/datasets/ADEChallengeData2016/images/validation/ADE_val_00001612.jpg\n",
            "process image... /content/datasets/ADEChallengeData2016/images/validation/ADE_val_00001613.jpg\n",
            "process image... /content/datasets/ADEChallengeData2016/images/validation/ADE_val_00001614.jpg\n",
            "process image... /content/datasets/ADEChallengeData2016/images/validation/ADE_val_00001615.jpg\n",
            "process image... /content/datasets/ADEChallengeData2016/images/validation/ADE_val_00001616.jpg\n",
            "process image... /content/datasets/ADEChallengeData2016/images/validation/ADE_val_00001617.jpg\n",
            "process image... /content/datasets/ADEChallengeData2016/images/validation/ADE_val_00001618.jpg\n",
            "process image... /content/datasets/ADEChallengeData2016/images/validation/ADE_val_00001619.jpg\n",
            "process image... /content/datasets/ADEChallengeData2016/images/validation/ADE_val_00001620.jpg\n",
            "process image... /content/datasets/ADEChallengeData2016/images/validation/ADE_val_00001621.jpg\n",
            "process image... /content/datasets/ADEChallengeData2016/images/validation/ADE_val_00001622.jpg\n",
            "process image... /content/datasets/ADEChallengeData2016/images/validation/ADE_val_00001623.jpg\n",
            "process image... /content/datasets/ADEChallengeData2016/images/validation/ADE_val_00001624.jpg\n",
            "process image... /content/datasets/ADEChallengeData2016/images/validation/ADE_val_00001625.jpg\n",
            "process image... /content/datasets/ADEChallengeData2016/images/validation/ADE_val_00001626.jpg\n",
            "process image... /content/datasets/ADEChallengeData2016/images/validation/ADE_val_00001627.jpg\n",
            "process image... /content/datasets/ADEChallengeData2016/images/validation/ADE_val_00001628.jpg\n",
            "process image... /content/datasets/ADEChallengeData2016/images/validation/ADE_val_00001629.jpg\n",
            "process image... /content/datasets/ADEChallengeData2016/images/validation/ADE_val_00001630.jpg\n",
            "process image... /content/datasets/ADEChallengeData2016/images/validation/ADE_val_00001631.jpg\n",
            "process image... /content/datasets/ADEChallengeData2016/images/validation/ADE_val_00001632.jpg\n",
            "process image... /content/datasets/ADEChallengeData2016/images/validation/ADE_val_00001633.jpg\n",
            "process image... /content/datasets/ADEChallengeData2016/images/validation/ADE_val_00001634.jpg\n",
            "process image... /content/datasets/ADEChallengeData2016/images/validation/ADE_val_00001635.jpg\n",
            "process image... /content/datasets/ADEChallengeData2016/images/validation/ADE_val_00001636.jpg\n",
            "process image... /content/datasets/ADEChallengeData2016/images/validation/ADE_val_00001637.jpg\n",
            "process image... /content/datasets/ADEChallengeData2016/images/validation/ADE_val_00001638.jpg\n",
            "process image... /content/datasets/ADEChallengeData2016/images/validation/ADE_val_00001639.jpg\n",
            "process image... /content/datasets/ADEChallengeData2016/images/validation/ADE_val_00001640.jpg\n",
            "process image... /content/datasets/ADEChallengeData2016/images/validation/ADE_val_00001641.jpg\n",
            "process image... /content/datasets/ADEChallengeData2016/images/validation/ADE_val_00001642.jpg\n",
            "process image... /content/datasets/ADEChallengeData2016/images/validation/ADE_val_00001643.jpg\n",
            "process image... /content/datasets/ADEChallengeData2016/images/validation/ADE_val_00001644.jpg\n",
            "process image... /content/datasets/ADEChallengeData2016/images/validation/ADE_val_00001645.jpg\n",
            "process image... /content/datasets/ADEChallengeData2016/images/validation/ADE_val_00001646.jpg\n",
            "process image... /content/datasets/ADEChallengeData2016/images/validation/ADE_val_00001647.jpg\n",
            "process image... /content/datasets/ADEChallengeData2016/images/validation/ADE_val_00001648.jpg\n",
            "process image... /content/datasets/ADEChallengeData2016/images/validation/ADE_val_00001649.jpg\n",
            "process image... /content/datasets/ADEChallengeData2016/images/validation/ADE_val_00001650.jpg\n",
            "process image... /content/datasets/ADEChallengeData2016/images/validation/ADE_val_00001651.jpg\n",
            "process image... /content/datasets/ADEChallengeData2016/images/validation/ADE_val_00001652.jpg\n",
            "process image... /content/datasets/ADEChallengeData2016/images/validation/ADE_val_00001653.jpg\n",
            "process image... /content/datasets/ADEChallengeData2016/images/validation/ADE_val_00001654.jpg\n",
            "process image... /content/datasets/ADEChallengeData2016/images/validation/ADE_val_00001655.jpg\n",
            "process image... /content/datasets/ADEChallengeData2016/images/validation/ADE_val_00001656.jpg\n",
            "process image... /content/datasets/ADEChallengeData2016/images/validation/ADE_val_00001657.jpg\n",
            "process image... /content/datasets/ADEChallengeData2016/images/validation/ADE_val_00001658.jpg\n",
            "process image... /content/datasets/ADEChallengeData2016/images/validation/ADE_val_00001659.jpg\n",
            "process image... /content/datasets/ADEChallengeData2016/images/validation/ADE_val_00001660.jpg\n",
            "process image... /content/datasets/ADEChallengeData2016/images/validation/ADE_val_00001661.jpg\n",
            "process image... /content/datasets/ADEChallengeData2016/images/validation/ADE_val_00001662.jpg\n",
            "process image... /content/datasets/ADEChallengeData2016/images/validation/ADE_val_00001663.jpg\n",
            "process image... /content/datasets/ADEChallengeData2016/images/validation/ADE_val_00001664.jpg\n",
            "process image... /content/datasets/ADEChallengeData2016/images/validation/ADE_val_00001665.jpg\n",
            "process image... /content/datasets/ADEChallengeData2016/images/validation/ADE_val_00001666.jpg\n",
            "process image... /content/datasets/ADEChallengeData2016/images/validation/ADE_val_00001667.jpg\n",
            "process image... /content/datasets/ADEChallengeData2016/images/validation/ADE_val_00001668.jpg\n",
            "process image... /content/datasets/ADEChallengeData2016/images/validation/ADE_val_00001669.jpg\n",
            "process image... /content/datasets/ADEChallengeData2016/images/validation/ADE_val_00001670.jpg\n",
            "process image... /content/datasets/ADEChallengeData2016/images/validation/ADE_val_00001671.jpg\n",
            "process image... /content/datasets/ADEChallengeData2016/images/validation/ADE_val_00001672.jpg\n",
            "process image... /content/datasets/ADEChallengeData2016/images/validation/ADE_val_00001673.jpg\n",
            "process image... /content/datasets/ADEChallengeData2016/images/validation/ADE_val_00001674.jpg\n",
            "process image... /content/datasets/ADEChallengeData2016/images/validation/ADE_val_00001675.jpg\n",
            "process image... /content/datasets/ADEChallengeData2016/images/validation/ADE_val_00001676.jpg\n",
            "process image... /content/datasets/ADEChallengeData2016/images/validation/ADE_val_00001677.jpg\n",
            "process image... /content/datasets/ADEChallengeData2016/images/validation/ADE_val_00001678.jpg\n",
            "process image... /content/datasets/ADEChallengeData2016/images/validation/ADE_val_00001679.jpg\n",
            "process image... /content/datasets/ADEChallengeData2016/images/validation/ADE_val_00001680.jpg\n",
            "process image... /content/datasets/ADEChallengeData2016/images/validation/ADE_val_00001681.jpg\n",
            "process image... /content/datasets/ADEChallengeData2016/images/validation/ADE_val_00001682.jpg\n",
            "process image... /content/datasets/ADEChallengeData2016/images/validation/ADE_val_00001683.jpg\n",
            "process image... /content/datasets/ADEChallengeData2016/images/validation/ADE_val_00001684.jpg\n",
            "process image... /content/datasets/ADEChallengeData2016/images/validation/ADE_val_00001685.jpg\n",
            "process image... /content/datasets/ADEChallengeData2016/images/validation/ADE_val_00001686.jpg\n",
            "process image... /content/datasets/ADEChallengeData2016/images/validation/ADE_val_00001687.jpg\n",
            "process image... /content/datasets/ADEChallengeData2016/images/validation/ADE_val_00001688.jpg\n",
            "process image... /content/datasets/ADEChallengeData2016/images/validation/ADE_val_00001689.jpg\n",
            "process image... /content/datasets/ADEChallengeData2016/images/validation/ADE_val_00001690.jpg\n",
            "process image... /content/datasets/ADEChallengeData2016/images/validation/ADE_val_00001691.jpg\n",
            "process image... /content/datasets/ADEChallengeData2016/images/validation/ADE_val_00001692.jpg\n",
            "process image... /content/datasets/ADEChallengeData2016/images/validation/ADE_val_00001693.jpg\n",
            "process image... /content/datasets/ADEChallengeData2016/images/validation/ADE_val_00001694.jpg\n",
            "process image... /content/datasets/ADEChallengeData2016/images/validation/ADE_val_00001695.jpg\n",
            "process image... /content/datasets/ADEChallengeData2016/images/validation/ADE_val_00001696.jpg\n",
            "process image... /content/datasets/ADEChallengeData2016/images/validation/ADE_val_00001697.jpg\n",
            "process image... /content/datasets/ADEChallengeData2016/images/validation/ADE_val_00001698.jpg\n",
            "process image... /content/datasets/ADEChallengeData2016/images/validation/ADE_val_00001699.jpg\n",
            "process image... /content/datasets/ADEChallengeData2016/images/validation/ADE_val_00001700.jpg\n",
            "process image... /content/datasets/ADEChallengeData2016/images/validation/ADE_val_00001701.jpg\n",
            "process image... /content/datasets/ADEChallengeData2016/images/validation/ADE_val_00001702.jpg\n",
            "process image... /content/datasets/ADEChallengeData2016/images/validation/ADE_val_00001703.jpg\n",
            "process image... /content/datasets/ADEChallengeData2016/images/validation/ADE_val_00001704.jpg\n",
            "process image... /content/datasets/ADEChallengeData2016/images/validation/ADE_val_00001705.jpg\n",
            "process image... /content/datasets/ADEChallengeData2016/images/validation/ADE_val_00001706.jpg\n",
            "process image... /content/datasets/ADEChallengeData2016/images/validation/ADE_val_00001707.jpg\n",
            "process image... /content/datasets/ADEChallengeData2016/images/validation/ADE_val_00001708.jpg\n",
            "process image... /content/datasets/ADEChallengeData2016/images/validation/ADE_val_00001709.jpg\n",
            "process image... /content/datasets/ADEChallengeData2016/images/validation/ADE_val_00001710.jpg\n",
            "process image... /content/datasets/ADEChallengeData2016/images/validation/ADE_val_00001711.jpg\n",
            "process image... /content/datasets/ADEChallengeData2016/images/validation/ADE_val_00001712.jpg\n",
            "process image... /content/datasets/ADEChallengeData2016/images/validation/ADE_val_00001713.jpg\n",
            "process image... /content/datasets/ADEChallengeData2016/images/validation/ADE_val_00001714.jpg\n",
            "process image... /content/datasets/ADEChallengeData2016/images/validation/ADE_val_00001715.jpg\n",
            "process image... /content/datasets/ADEChallengeData2016/images/validation/ADE_val_00001716.jpg\n",
            "process image... /content/datasets/ADEChallengeData2016/images/validation/ADE_val_00001717.jpg\n",
            "process image... /content/datasets/ADEChallengeData2016/images/validation/ADE_val_00001718.jpg\n",
            "process image... /content/datasets/ADEChallengeData2016/images/validation/ADE_val_00001719.jpg\n",
            "process image... /content/datasets/ADEChallengeData2016/images/validation/ADE_val_00001720.jpg\n",
            "process image... /content/datasets/ADEChallengeData2016/images/validation/ADE_val_00001721.jpg\n",
            "process image... /content/datasets/ADEChallengeData2016/images/validation/ADE_val_00001722.jpg\n",
            "process image... /content/datasets/ADEChallengeData2016/images/validation/ADE_val_00001723.jpg\n",
            "process image... /content/datasets/ADEChallengeData2016/images/validation/ADE_val_00001724.jpg\n",
            "process image... /content/datasets/ADEChallengeData2016/images/validation/ADE_val_00001725.jpg\n",
            "process image... /content/datasets/ADEChallengeData2016/images/validation/ADE_val_00001726.jpg\n",
            "process image... /content/datasets/ADEChallengeData2016/images/validation/ADE_val_00001727.jpg\n",
            "process image... /content/datasets/ADEChallengeData2016/images/validation/ADE_val_00001728.jpg\n",
            "process image... /content/datasets/ADEChallengeData2016/images/validation/ADE_val_00001729.jpg\n",
            "process image... /content/datasets/ADEChallengeData2016/images/validation/ADE_val_00001730.jpg\n",
            "process image... /content/datasets/ADEChallengeData2016/images/validation/ADE_val_00001731.jpg\n",
            "process image... /content/datasets/ADEChallengeData2016/images/validation/ADE_val_00001732.jpg\n",
            "process image... /content/datasets/ADEChallengeData2016/images/validation/ADE_val_00001733.jpg\n",
            "process image... /content/datasets/ADEChallengeData2016/images/validation/ADE_val_00001734.jpg\n",
            "process image... /content/datasets/ADEChallengeData2016/images/validation/ADE_val_00001735.jpg\n",
            "process image... /content/datasets/ADEChallengeData2016/images/validation/ADE_val_00001736.jpg\n",
            "process image... /content/datasets/ADEChallengeData2016/images/validation/ADE_val_00001737.jpg\n",
            "process image... /content/datasets/ADEChallengeData2016/images/validation/ADE_val_00001738.jpg\n",
            "process image... /content/datasets/ADEChallengeData2016/images/validation/ADE_val_00001739.jpg\n",
            "process image... /content/datasets/ADEChallengeData2016/images/validation/ADE_val_00001740.jpg\n",
            "process image... /content/datasets/ADEChallengeData2016/images/validation/ADE_val_00001741.jpg\n",
            "process image... /content/datasets/ADEChallengeData2016/images/validation/ADE_val_00001742.jpg\n",
            "process image... /content/datasets/ADEChallengeData2016/images/validation/ADE_val_00001743.jpg\n",
            "process image... /content/datasets/ADEChallengeData2016/images/validation/ADE_val_00001744.jpg\n",
            "process image... /content/datasets/ADEChallengeData2016/images/validation/ADE_val_00001745.jpg\n",
            "process image... /content/datasets/ADEChallengeData2016/images/validation/ADE_val_00001746.jpg\n",
            "process image... /content/datasets/ADEChallengeData2016/images/validation/ADE_val_00001747.jpg\n",
            "process image... /content/datasets/ADEChallengeData2016/images/validation/ADE_val_00001748.jpg\n",
            "process image... /content/datasets/ADEChallengeData2016/images/validation/ADE_val_00001749.jpg\n",
            "process image... /content/datasets/ADEChallengeData2016/images/validation/ADE_val_00001750.jpg\n",
            "process image... /content/datasets/ADEChallengeData2016/images/validation/ADE_val_00001751.jpg\n",
            "process image... /content/datasets/ADEChallengeData2016/images/validation/ADE_val_00001752.jpg\n",
            "process image... /content/datasets/ADEChallengeData2016/images/validation/ADE_val_00001753.jpg\n",
            "process image... /content/datasets/ADEChallengeData2016/images/validation/ADE_val_00001754.jpg\n",
            "process image... /content/datasets/ADEChallengeData2016/images/validation/ADE_val_00001755.jpg\n",
            "process image... /content/datasets/ADEChallengeData2016/images/validation/ADE_val_00001756.jpg\n",
            "process image... /content/datasets/ADEChallengeData2016/images/validation/ADE_val_00001757.jpg\n",
            "process image... /content/datasets/ADEChallengeData2016/images/validation/ADE_val_00001758.jpg\n",
            "process image... /content/datasets/ADEChallengeData2016/images/validation/ADE_val_00001759.jpg\n",
            "process image... /content/datasets/ADEChallengeData2016/images/validation/ADE_val_00001760.jpg\n",
            "process image... /content/datasets/ADEChallengeData2016/images/validation/ADE_val_00001761.jpg\n",
            "process image... /content/datasets/ADEChallengeData2016/images/validation/ADE_val_00001762.jpg\n",
            "process image... /content/datasets/ADEChallengeData2016/images/validation/ADE_val_00001763.jpg\n",
            "process image... /content/datasets/ADEChallengeData2016/images/validation/ADE_val_00001764.jpg\n",
            "process image... /content/datasets/ADEChallengeData2016/images/validation/ADE_val_00001765.jpg\n",
            "process image... /content/datasets/ADEChallengeData2016/images/validation/ADE_val_00001766.jpg\n",
            "process image... /content/datasets/ADEChallengeData2016/images/validation/ADE_val_00001767.jpg\n",
            "process image... /content/datasets/ADEChallengeData2016/images/validation/ADE_val_00001768.jpg\n",
            "process image... /content/datasets/ADEChallengeData2016/images/validation/ADE_val_00001769.jpg\n",
            "process image... /content/datasets/ADEChallengeData2016/images/validation/ADE_val_00001770.jpg\n",
            "process image... /content/datasets/ADEChallengeData2016/images/validation/ADE_val_00001771.jpg\n",
            "process image... /content/datasets/ADEChallengeData2016/images/validation/ADE_val_00001772.jpg\n",
            "process image... /content/datasets/ADEChallengeData2016/images/validation/ADE_val_00001773.jpg\n",
            "process image... /content/datasets/ADEChallengeData2016/images/validation/ADE_val_00001774.jpg\n",
            "process image... /content/datasets/ADEChallengeData2016/images/validation/ADE_val_00001775.jpg\n",
            "process image... /content/datasets/ADEChallengeData2016/images/validation/ADE_val_00001776.jpg\n",
            "process image... /content/datasets/ADEChallengeData2016/images/validation/ADE_val_00001777.jpg\n",
            "process image... /content/datasets/ADEChallengeData2016/images/validation/ADE_val_00001778.jpg\n",
            "process image... /content/datasets/ADEChallengeData2016/images/validation/ADE_val_00001779.jpg\n",
            "process image... /content/datasets/ADEChallengeData2016/images/validation/ADE_val_00001780.jpg\n",
            "process image... /content/datasets/ADEChallengeData2016/images/validation/ADE_val_00001781.jpg\n",
            "process image... /content/datasets/ADEChallengeData2016/images/validation/ADE_val_00001782.jpg\n",
            "process image... /content/datasets/ADEChallengeData2016/images/validation/ADE_val_00001783.jpg\n",
            "process image... /content/datasets/ADEChallengeData2016/images/validation/ADE_val_00001784.jpg\n",
            "process image... /content/datasets/ADEChallengeData2016/images/validation/ADE_val_00001785.jpg\n",
            "process image... /content/datasets/ADEChallengeData2016/images/validation/ADE_val_00001786.jpg\n",
            "process image... /content/datasets/ADEChallengeData2016/images/validation/ADE_val_00001787.jpg\n",
            "process image... /content/datasets/ADEChallengeData2016/images/validation/ADE_val_00001788.jpg\n",
            "process image... /content/datasets/ADEChallengeData2016/images/validation/ADE_val_00001789.jpg\n",
            "process image... /content/datasets/ADEChallengeData2016/images/validation/ADE_val_00001790.jpg\n",
            "process image... /content/datasets/ADEChallengeData2016/images/validation/ADE_val_00001791.jpg\n",
            "process image... /content/datasets/ADEChallengeData2016/images/validation/ADE_val_00001792.jpg\n",
            "process image... /content/datasets/ADEChallengeData2016/images/validation/ADE_val_00001793.jpg\n",
            "process image... /content/datasets/ADEChallengeData2016/images/validation/ADE_val_00001794.jpg\n",
            "process image... /content/datasets/ADEChallengeData2016/images/validation/ADE_val_00001795.jpg\n",
            "process image... /content/datasets/ADEChallengeData2016/images/validation/ADE_val_00001796.jpg\n",
            "process image... /content/datasets/ADEChallengeData2016/images/validation/ADE_val_00001797.jpg\n",
            "process image... /content/datasets/ADEChallengeData2016/images/validation/ADE_val_00001798.jpg\n",
            "process image... /content/datasets/ADEChallengeData2016/images/validation/ADE_val_00001799.jpg\n",
            "process image... /content/datasets/ADEChallengeData2016/images/validation/ADE_val_00001800.jpg\n",
            "process image... /content/datasets/ADEChallengeData2016/images/validation/ADE_val_00001801.jpg\n",
            "process image... /content/datasets/ADEChallengeData2016/images/validation/ADE_val_00001802.jpg\n",
            "process image... /content/datasets/ADEChallengeData2016/images/validation/ADE_val_00001803.jpg\n",
            "process image... /content/datasets/ADEChallengeData2016/images/validation/ADE_val_00001804.jpg\n",
            "process image... /content/datasets/ADEChallengeData2016/images/validation/ADE_val_00001805.jpg\n",
            "process image... /content/datasets/ADEChallengeData2016/images/validation/ADE_val_00001806.jpg\n",
            "process image... /content/datasets/ADEChallengeData2016/images/validation/ADE_val_00001807.jpg\n",
            "process image... /content/datasets/ADEChallengeData2016/images/validation/ADE_val_00001808.jpg\n",
            "process image... /content/datasets/ADEChallengeData2016/images/validation/ADE_val_00001809.jpg\n",
            "process image... /content/datasets/ADEChallengeData2016/images/validation/ADE_val_00001810.jpg\n",
            "process image... /content/datasets/ADEChallengeData2016/images/validation/ADE_val_00001811.jpg\n",
            "process image... /content/datasets/ADEChallengeData2016/images/validation/ADE_val_00001812.jpg\n",
            "process image... /content/datasets/ADEChallengeData2016/images/validation/ADE_val_00001813.jpg\n",
            "process image... /content/datasets/ADEChallengeData2016/images/validation/ADE_val_00001814.jpg\n",
            "process image... /content/datasets/ADEChallengeData2016/images/validation/ADE_val_00001815.jpg\n",
            "process image... /content/datasets/ADEChallengeData2016/images/validation/ADE_val_00001816.jpg\n",
            "process image... /content/datasets/ADEChallengeData2016/images/validation/ADE_val_00001817.jpg\n",
            "process image... /content/datasets/ADEChallengeData2016/images/validation/ADE_val_00001818.jpg\n",
            "process image... /content/datasets/ADEChallengeData2016/images/validation/ADE_val_00001819.jpg\n",
            "process image... /content/datasets/ADEChallengeData2016/images/validation/ADE_val_00001820.jpg\n",
            "process image... /content/datasets/ADEChallengeData2016/images/validation/ADE_val_00001821.jpg\n",
            "process image... /content/datasets/ADEChallengeData2016/images/validation/ADE_val_00001822.jpg\n",
            "process image... /content/datasets/ADEChallengeData2016/images/validation/ADE_val_00001823.jpg\n",
            "process image... /content/datasets/ADEChallengeData2016/images/validation/ADE_val_00001824.jpg\n",
            "process image... /content/datasets/ADEChallengeData2016/images/validation/ADE_val_00001825.jpg\n",
            "process image... /content/datasets/ADEChallengeData2016/images/validation/ADE_val_00001826.jpg\n",
            "process image... /content/datasets/ADEChallengeData2016/images/validation/ADE_val_00001827.jpg\n",
            "process image... /content/datasets/ADEChallengeData2016/images/validation/ADE_val_00001828.jpg\n",
            "process image... /content/datasets/ADEChallengeData2016/images/validation/ADE_val_00001829.jpg\n",
            "process image... /content/datasets/ADEChallengeData2016/images/validation/ADE_val_00001830.jpg\n",
            "process image... /content/datasets/ADEChallengeData2016/images/validation/ADE_val_00001831.jpg\n",
            "process image... /content/datasets/ADEChallengeData2016/images/validation/ADE_val_00001832.jpg\n",
            "process image... /content/datasets/ADEChallengeData2016/images/validation/ADE_val_00001833.jpg\n",
            "process image... /content/datasets/ADEChallengeData2016/images/validation/ADE_val_00001834.jpg\n",
            "process image... /content/datasets/ADEChallengeData2016/images/validation/ADE_val_00001835.jpg\n",
            "process image... /content/datasets/ADEChallengeData2016/images/validation/ADE_val_00001836.jpg\n",
            "process image... /content/datasets/ADEChallengeData2016/images/validation/ADE_val_00001837.jpg\n",
            "process image... /content/datasets/ADEChallengeData2016/images/validation/ADE_val_00001838.jpg\n",
            "process image... /content/datasets/ADEChallengeData2016/images/validation/ADE_val_00001839.jpg\n",
            "process image... /content/datasets/ADEChallengeData2016/images/validation/ADE_val_00001840.jpg\n",
            "process image... /content/datasets/ADEChallengeData2016/images/validation/ADE_val_00001841.jpg\n",
            "process image... /content/datasets/ADEChallengeData2016/images/validation/ADE_val_00001842.jpg\n",
            "process image... /content/datasets/ADEChallengeData2016/images/validation/ADE_val_00001843.jpg\n",
            "process image... /content/datasets/ADEChallengeData2016/images/validation/ADE_val_00001844.jpg\n",
            "process image... /content/datasets/ADEChallengeData2016/images/validation/ADE_val_00001845.jpg\n",
            "process image... /content/datasets/ADEChallengeData2016/images/validation/ADE_val_00001846.jpg\n",
            "process image... /content/datasets/ADEChallengeData2016/images/validation/ADE_val_00001847.jpg\n",
            "process image... /content/datasets/ADEChallengeData2016/images/validation/ADE_val_00001848.jpg\n",
            "process image... /content/datasets/ADEChallengeData2016/images/validation/ADE_val_00001849.jpg\n",
            "process image... /content/datasets/ADEChallengeData2016/images/validation/ADE_val_00001850.jpg\n",
            "process image... /content/datasets/ADEChallengeData2016/images/validation/ADE_val_00001851.jpg\n",
            "process image... /content/datasets/ADEChallengeData2016/images/validation/ADE_val_00001852.jpg\n",
            "process image... /content/datasets/ADEChallengeData2016/images/validation/ADE_val_00001853.jpg\n",
            "process image... /content/datasets/ADEChallengeData2016/images/validation/ADE_val_00001854.jpg\n",
            "process image... /content/datasets/ADEChallengeData2016/images/validation/ADE_val_00001855.jpg\n",
            "process image... /content/datasets/ADEChallengeData2016/images/validation/ADE_val_00001856.jpg\n",
            "process image... /content/datasets/ADEChallengeData2016/images/validation/ADE_val_00001857.jpg\n",
            "process image... /content/datasets/ADEChallengeData2016/images/validation/ADE_val_00001858.jpg\n",
            "process image... /content/datasets/ADEChallengeData2016/images/validation/ADE_val_00001859.jpg\n",
            "process image... /content/datasets/ADEChallengeData2016/images/validation/ADE_val_00001860.jpg\n",
            "process image... /content/datasets/ADEChallengeData2016/images/validation/ADE_val_00001861.jpg\n",
            "process image... /content/datasets/ADEChallengeData2016/images/validation/ADE_val_00001862.jpg\n",
            "process image... /content/datasets/ADEChallengeData2016/images/validation/ADE_val_00001863.jpg\n",
            "process image... /content/datasets/ADEChallengeData2016/images/validation/ADE_val_00001864.jpg\n",
            "process image... /content/datasets/ADEChallengeData2016/images/validation/ADE_val_00001865.jpg\n",
            "process image... /content/datasets/ADEChallengeData2016/images/validation/ADE_val_00001866.jpg\n",
            "process image... /content/datasets/ADEChallengeData2016/images/validation/ADE_val_00001867.jpg\n",
            "process image... /content/datasets/ADEChallengeData2016/images/validation/ADE_val_00001868.jpg\n",
            "process image... /content/datasets/ADEChallengeData2016/images/validation/ADE_val_00001869.jpg\n",
            "process image... /content/datasets/ADEChallengeData2016/images/validation/ADE_val_00001870.jpg\n",
            "process image... /content/datasets/ADEChallengeData2016/images/validation/ADE_val_00001871.jpg\n",
            "process image... /content/datasets/ADEChallengeData2016/images/validation/ADE_val_00001872.jpg\n",
            "process image... /content/datasets/ADEChallengeData2016/images/validation/ADE_val_00001873.jpg\n",
            "process image... /content/datasets/ADEChallengeData2016/images/validation/ADE_val_00001874.jpg\n",
            "process image... /content/datasets/ADEChallengeData2016/images/validation/ADE_val_00001875.jpg\n",
            "process image... /content/datasets/ADEChallengeData2016/images/validation/ADE_val_00001876.jpg\n",
            "process image... /content/datasets/ADEChallengeData2016/images/validation/ADE_val_00001877.jpg\n",
            "process image... /content/datasets/ADEChallengeData2016/images/validation/ADE_val_00001878.jpg\n",
            "process image... /content/datasets/ADEChallengeData2016/images/validation/ADE_val_00001879.jpg\n",
            "process image... /content/datasets/ADEChallengeData2016/images/validation/ADE_val_00001880.jpg\n",
            "process image... /content/datasets/ADEChallengeData2016/images/validation/ADE_val_00001881.jpg\n",
            "process image... /content/datasets/ADEChallengeData2016/images/validation/ADE_val_00001882.jpg\n",
            "process image... /content/datasets/ADEChallengeData2016/images/validation/ADE_val_00001883.jpg\n",
            "process image... /content/datasets/ADEChallengeData2016/images/validation/ADE_val_00001884.jpg\n",
            "process image... /content/datasets/ADEChallengeData2016/images/validation/ADE_val_00001885.jpg\n",
            "process image... /content/datasets/ADEChallengeData2016/images/validation/ADE_val_00001886.jpg\n",
            "process image... /content/datasets/ADEChallengeData2016/images/validation/ADE_val_00001887.jpg\n",
            "process image... /content/datasets/ADEChallengeData2016/images/validation/ADE_val_00001888.jpg\n",
            "process image... /content/datasets/ADEChallengeData2016/images/validation/ADE_val_00001889.jpg\n",
            "process image... /content/datasets/ADEChallengeData2016/images/validation/ADE_val_00001890.jpg\n",
            "process image... /content/datasets/ADEChallengeData2016/images/validation/ADE_val_00001891.jpg\n",
            "process image... /content/datasets/ADEChallengeData2016/images/validation/ADE_val_00001892.jpg\n",
            "process image... /content/datasets/ADEChallengeData2016/images/validation/ADE_val_00001893.jpg\n",
            "process image... /content/datasets/ADEChallengeData2016/images/validation/ADE_val_00001894.jpg\n",
            "process image... /content/datasets/ADEChallengeData2016/images/validation/ADE_val_00001895.jpg\n",
            "process image... /content/datasets/ADEChallengeData2016/images/validation/ADE_val_00001896.jpg\n",
            "process image... /content/datasets/ADEChallengeData2016/images/validation/ADE_val_00001897.jpg\n",
            "process image... /content/datasets/ADEChallengeData2016/images/validation/ADE_val_00001898.jpg\n",
            "process image... /content/datasets/ADEChallengeData2016/images/validation/ADE_val_00001899.jpg\n",
            "process image... /content/datasets/ADEChallengeData2016/images/validation/ADE_val_00001900.jpg\n",
            "process image... /content/datasets/ADEChallengeData2016/images/validation/ADE_val_00001901.jpg\n",
            "process image... /content/datasets/ADEChallengeData2016/images/validation/ADE_val_00001902.jpg\n",
            "process image... /content/datasets/ADEChallengeData2016/images/validation/ADE_val_00001903.jpg\n",
            "process image... /content/datasets/ADEChallengeData2016/images/validation/ADE_val_00001904.jpg\n",
            "process image... /content/datasets/ADEChallengeData2016/images/validation/ADE_val_00001905.jpg\n",
            "process image... /content/datasets/ADEChallengeData2016/images/validation/ADE_val_00001906.jpg\n",
            "process image... /content/datasets/ADEChallengeData2016/images/validation/ADE_val_00001907.jpg\n",
            "process image... /content/datasets/ADEChallengeData2016/images/validation/ADE_val_00001908.jpg\n",
            "process image... /content/datasets/ADEChallengeData2016/images/validation/ADE_val_00001909.jpg\n",
            "process image... /content/datasets/ADEChallengeData2016/images/validation/ADE_val_00001910.jpg\n",
            "process image... /content/datasets/ADEChallengeData2016/images/validation/ADE_val_00001911.jpg\n",
            "process image... /content/datasets/ADEChallengeData2016/images/validation/ADE_val_00001912.jpg\n",
            "process image... /content/datasets/ADEChallengeData2016/images/validation/ADE_val_00001913.jpg\n",
            "process image... /content/datasets/ADEChallengeData2016/images/validation/ADE_val_00001914.jpg\n",
            "process image... /content/datasets/ADEChallengeData2016/images/validation/ADE_val_00001915.jpg\n",
            "process image... /content/datasets/ADEChallengeData2016/images/validation/ADE_val_00001916.jpg\n",
            "process image... /content/datasets/ADEChallengeData2016/images/validation/ADE_val_00001917.jpg\n",
            "process image... /content/datasets/ADEChallengeData2016/images/validation/ADE_val_00001918.jpg\n",
            "process image... /content/datasets/ADEChallengeData2016/images/validation/ADE_val_00001919.jpg\n",
            "process image... /content/datasets/ADEChallengeData2016/images/validation/ADE_val_00001920.jpg\n",
            "process image... /content/datasets/ADEChallengeData2016/images/validation/ADE_val_00001921.jpg\n",
            "process image... /content/datasets/ADEChallengeData2016/images/validation/ADE_val_00001922.jpg\n",
            "process image... /content/datasets/ADEChallengeData2016/images/validation/ADE_val_00001923.jpg\n",
            "process image... /content/datasets/ADEChallengeData2016/images/validation/ADE_val_00001924.jpg\n",
            "process image... /content/datasets/ADEChallengeData2016/images/validation/ADE_val_00001925.jpg\n",
            "process image... /content/datasets/ADEChallengeData2016/images/validation/ADE_val_00001926.jpg\n",
            "process image... /content/datasets/ADEChallengeData2016/images/validation/ADE_val_00001927.jpg\n",
            "process image... /content/datasets/ADEChallengeData2016/images/validation/ADE_val_00001928.jpg\n",
            "process image... /content/datasets/ADEChallengeData2016/images/validation/ADE_val_00001929.jpg\n",
            "process image... /content/datasets/ADEChallengeData2016/images/validation/ADE_val_00001930.jpg\n",
            "process image... /content/datasets/ADEChallengeData2016/images/validation/ADE_val_00001931.jpg\n",
            "process image... /content/datasets/ADEChallengeData2016/images/validation/ADE_val_00001932.jpg\n",
            "process image... /content/datasets/ADEChallengeData2016/images/validation/ADE_val_00001933.jpg\n",
            "process image... /content/datasets/ADEChallengeData2016/images/validation/ADE_val_00001934.jpg\n",
            "process image... /content/datasets/ADEChallengeData2016/images/validation/ADE_val_00001935.jpg\n",
            "process image... /content/datasets/ADEChallengeData2016/images/validation/ADE_val_00001936.jpg\n",
            "process image... /content/datasets/ADEChallengeData2016/images/validation/ADE_val_00001937.jpg\n",
            "process image... /content/datasets/ADEChallengeData2016/images/validation/ADE_val_00001938.jpg\n",
            "process image... /content/datasets/ADEChallengeData2016/images/validation/ADE_val_00001939.jpg\n",
            "process image... /content/datasets/ADEChallengeData2016/images/validation/ADE_val_00001940.jpg\n",
            "process image... /content/datasets/ADEChallengeData2016/images/validation/ADE_val_00001941.jpg\n",
            "process image... /content/datasets/ADEChallengeData2016/images/validation/ADE_val_00001942.jpg\n",
            "process image... /content/datasets/ADEChallengeData2016/images/validation/ADE_val_00001943.jpg\n",
            "process image... /content/datasets/ADEChallengeData2016/images/validation/ADE_val_00001944.jpg\n",
            "process image... /content/datasets/ADEChallengeData2016/images/validation/ADE_val_00001945.jpg\n",
            "process image... /content/datasets/ADEChallengeData2016/images/validation/ADE_val_00001946.jpg\n",
            "process image... /content/datasets/ADEChallengeData2016/images/validation/ADE_val_00001947.jpg\n",
            "process image... /content/datasets/ADEChallengeData2016/images/validation/ADE_val_00001948.jpg\n",
            "process image... /content/datasets/ADEChallengeData2016/images/validation/ADE_val_00001949.jpg\n",
            "process image... /content/datasets/ADEChallengeData2016/images/validation/ADE_val_00001950.jpg\n",
            "process image... /content/datasets/ADEChallengeData2016/images/validation/ADE_val_00001951.jpg\n",
            "process image... /content/datasets/ADEChallengeData2016/images/validation/ADE_val_00001952.jpg\n",
            "process image... /content/datasets/ADEChallengeData2016/images/validation/ADE_val_00001953.jpg\n",
            "process image... /content/datasets/ADEChallengeData2016/images/validation/ADE_val_00001954.jpg\n",
            "process image... /content/datasets/ADEChallengeData2016/images/validation/ADE_val_00001955.jpg\n",
            "process image... /content/datasets/ADEChallengeData2016/images/validation/ADE_val_00001956.jpg\n",
            "process image... /content/datasets/ADEChallengeData2016/images/validation/ADE_val_00001957.jpg\n",
            "process image... /content/datasets/ADEChallengeData2016/images/validation/ADE_val_00001958.jpg\n",
            "process image... /content/datasets/ADEChallengeData2016/images/validation/ADE_val_00001959.jpg\n",
            "process image... /content/datasets/ADEChallengeData2016/images/validation/ADE_val_00001960.jpg\n",
            "process image... /content/datasets/ADEChallengeData2016/images/validation/ADE_val_00001961.jpg\n",
            "process image... /content/datasets/ADEChallengeData2016/images/validation/ADE_val_00001962.jpg\n",
            "process image... /content/datasets/ADEChallengeData2016/images/validation/ADE_val_00001963.jpg\n",
            "process image... /content/datasets/ADEChallengeData2016/images/validation/ADE_val_00001964.jpg\n",
            "process image... /content/datasets/ADEChallengeData2016/images/validation/ADE_val_00001965.jpg\n",
            "process image... /content/datasets/ADEChallengeData2016/images/validation/ADE_val_00001966.jpg\n",
            "process image... /content/datasets/ADEChallengeData2016/images/validation/ADE_val_00001967.jpg\n",
            "process image... /content/datasets/ADEChallengeData2016/images/validation/ADE_val_00001968.jpg\n",
            "process image... /content/datasets/ADEChallengeData2016/images/validation/ADE_val_00001969.jpg\n",
            "process image... /content/datasets/ADEChallengeData2016/images/validation/ADE_val_00001970.jpg\n",
            "process image... /content/datasets/ADEChallengeData2016/images/validation/ADE_val_00001971.jpg\n",
            "process image... /content/datasets/ADEChallengeData2016/images/validation/ADE_val_00001972.jpg\n",
            "process image... /content/datasets/ADEChallengeData2016/images/validation/ADE_val_00001973.jpg\n",
            "process image... /content/datasets/ADEChallengeData2016/images/validation/ADE_val_00001974.jpg\n",
            "process image... /content/datasets/ADEChallengeData2016/images/validation/ADE_val_00001975.jpg\n",
            "process image... /content/datasets/ADEChallengeData2016/images/validation/ADE_val_00001976.jpg\n",
            "process image... /content/datasets/ADEChallengeData2016/images/validation/ADE_val_00001977.jpg\n",
            "process image... /content/datasets/ADEChallengeData2016/images/validation/ADE_val_00001978.jpg\n",
            "process image... /content/datasets/ADEChallengeData2016/images/validation/ADE_val_00001979.jpg\n",
            "process image... /content/datasets/ADEChallengeData2016/images/validation/ADE_val_00001980.jpg\n",
            "process image... /content/datasets/ADEChallengeData2016/images/validation/ADE_val_00001981.jpg\n",
            "process image... /content/datasets/ADEChallengeData2016/images/validation/ADE_val_00001982.jpg\n",
            "process image... /content/datasets/ADEChallengeData2016/images/validation/ADE_val_00001983.jpg\n",
            "process image... /content/datasets/ADEChallengeData2016/images/validation/ADE_val_00001984.jpg\n",
            "process image... /content/datasets/ADEChallengeData2016/images/validation/ADE_val_00001985.jpg\n",
            "process image... /content/datasets/ADEChallengeData2016/images/validation/ADE_val_00001986.jpg\n",
            "process image... /content/datasets/ADEChallengeData2016/images/validation/ADE_val_00001987.jpg\n",
            "process image... /content/datasets/ADEChallengeData2016/images/validation/ADE_val_00001988.jpg\n",
            "process image... /content/datasets/ADEChallengeData2016/images/validation/ADE_val_00001989.jpg\n",
            "process image... /content/datasets/ADEChallengeData2016/images/validation/ADE_val_00001990.jpg\n",
            "process image... /content/datasets/ADEChallengeData2016/images/validation/ADE_val_00001991.jpg\n",
            "process image... /content/datasets/ADEChallengeData2016/images/validation/ADE_val_00001992.jpg\n",
            "process image... /content/datasets/ADEChallengeData2016/images/validation/ADE_val_00001993.jpg\n",
            "process image... /content/datasets/ADEChallengeData2016/images/validation/ADE_val_00001994.jpg\n",
            "process image... /content/datasets/ADEChallengeData2016/images/validation/ADE_val_00001995.jpg\n",
            "process image... /content/datasets/ADEChallengeData2016/images/validation/ADE_val_00001996.jpg\n",
            "process image... /content/datasets/ADEChallengeData2016/images/validation/ADE_val_00001997.jpg\n",
            "process image... /content/datasets/ADEChallengeData2016/images/validation/ADE_val_00001998.jpg\n",
            "process image... /content/datasets/ADEChallengeData2016/images/validation/ADE_val_00001999.jpg\n",
            "process image... /content/datasets/ADEChallengeData2016/images/validation/ADE_val_00002000.jpg\n"
          ],
          "name": "stdout"
        }
      ]
    },
    {
      "cell_type": "code",
      "metadata": {
        "id": "cRLYbl30-Iq6",
        "colab": {
          "base_uri": "https://localhost:8080/",
          "height": 34
        },
        "outputId": "063417fd-90ac-4dce-d99c-55eaaa2eeb4f"
      },
      "source": [
        "!pwd"
      ],
      "execution_count": null,
      "outputs": [
        {
          "output_type": "stream",
          "text": [
            "/content/BachGAN\n"
          ],
          "name": "stdout"
        }
      ]
    },
    {
      "cell_type": "code",
      "metadata": {
        "id": "wXbrhhjqLDBP",
        "colab": {
          "base_uri": "https://localhost:8080/",
          "height": 87
        },
        "outputId": "70813061-f973-4644-f7e7-0a64c777679e"
      },
      "source": [
        "!python /content/BachGAN/pytorch-fid/fid_score.py ../results/ade20k_retrival_test/test_latest/images/synthesized_image/ ../datasets/ADEChallengeData2016/images/validation/"
      ],
      "execution_count": null,
      "outputs": [
        {
          "output_type": "stream",
          "text": [
            "Traceback (most recent call last):\n",
            "  File \"/content/BachGAN/pytorch-fid/fid_score.py\", line 42, in <module>\n",
            "    from scipy.misc import imread\n",
            "ImportError: cannot import name 'imread'\n"
          ],
          "name": "stdout"
        }
      ]
    },
    {
      "cell_type": "code",
      "metadata": {
        "id": "1VkgmH-pLHT6",
        "colab": {
          "base_uri": "https://localhost:8080/",
          "height": 34
        },
        "outputId": "e2d027d9-4582-4f6d-b7f6-f06970456294"
      },
      "source": [
        "!import imread from scipy.misc"
      ],
      "execution_count": null,
      "outputs": [
        {
          "output_type": "stream",
          "text": [
            "/bin/bash: import: command not found\n"
          ],
          "name": "stdout"
        }
      ]
    },
    {
      "cell_type": "code",
      "metadata": {
        "id": "_icvcztqMn2r"
      },
      "source": [
        ""
      ],
      "execution_count": null,
      "outputs": []
    }
  ]
}